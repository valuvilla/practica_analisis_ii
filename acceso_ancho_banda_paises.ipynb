{
 "cells": [
  {
   "cell_type": "code",
   "execution_count": 2,
   "metadata": {},
   "outputs": [],
   "source": [
    "import pandas as pd\n",
    "import numpy as np\n",
    "import matplotlib.pyplot as plt"
   ]
  },
  {
   "cell_type": "code",
   "execution_count": 3,
   "metadata": {},
   "outputs": [],
   "source": [
    "tabla3=pd.read_csv('Acceso_ancho_banda.csv')"
   ]
  },
  {
   "cell_type": "code",
   "execution_count": 4,
   "metadata": {},
   "outputs": [
    {
     "name": "stdout",
     "output_type": "stream",
     "text": [
      "                                                     Value\n",
      "COU Breakdowns                               TIME         \n",
      "AUT All (households)                         2005  23.1404\n",
      "                                             2006  33.1170\n",
      "                                             2007  46.1463\n",
      "                                             2008  54.4969\n",
      "                                             2009  57.8027\n",
      "...                                                    ...\n",
      "USA Households with income in third quartile 2012  88.3500\n",
      "                                             2013  87.6100\n",
      "                                             2015  85.1400\n",
      "                                             2017  87.0800\n",
      "                                             2019  86.3500\n",
      "\n",
      "[2378 rows x 1 columns]\n"
     ]
    },
    {
     "name": "stderr",
     "output_type": "stream",
     "text": [
      "C:\\Users\\valuv\\AppData\\Local\\Temp\\ipykernel_38924\\274286750.py:1: FutureWarning: The default value of numeric_only in DataFrameGroupBy.mean is deprecated. In a future version, numeric_only will default to False. Either specify numeric_only or select only columns which should be valid for the function.\n",
      "  intento=tabla3.groupby(by = ['COU',\"Breakdowns\", 'TIME']).mean()\n"
     ]
    }
   ],
   "source": [
    "\n",
    "intento=tabla3.groupby(by = ['COU',\"Breakdowns\", 'TIME']).mean()\n",
    "print(intento)"
   ]
  },
  {
   "cell_type": "code",
   "execution_count": 5,
   "metadata": {},
   "outputs": [
    {
     "name": "stdout",
     "output_type": "stream",
     "text": [
      "                                  Breakdowns  TIME    Value\n",
      "0                           All (households)  2005  23.1404\n",
      "1                           All (households)  2006  33.1170\n",
      "2                           All (households)  2007  46.1463\n",
      "3                           All (households)  2008  54.4969\n",
      "4                           All (households)  2009  57.8027\n",
      "..                                       ...   ...      ...\n",
      "94  Households with income in third quartile  2016  87.5679\n",
      "95  Households with income in third quartile  2017  89.3368\n",
      "96  Households with income in third quartile  2018  92.9322\n",
      "97  Households with income in third quartile  2019  92.3764\n",
      "98  Households with income in third quartile  2020  90.0880\n",
      "\n",
      "[99 rows x 3 columns]\n"
     ]
    }
   ],
   "source": [
    "# AUSTRIA\n",
    "austria=intento.loc['AUT']\n",
    "austria=austria.reset_index()\n",
    "print(austria)"
   ]
  },
  {
   "cell_type": "code",
   "execution_count": 6,
   "metadata": {},
   "outputs": [
    {
     "name": "stdout",
     "output_type": "stream",
     "text": [
      "          Breakdowns  TIME    Value\n",
      "0   All (households)  2005  23.1404\n",
      "1   All (households)  2006  33.1170\n",
      "2   All (households)  2007  46.1463\n",
      "3   All (households)  2008  54.4969\n",
      "4   All (households)  2009  57.8027\n",
      "5   All (households)  2010  63.7002\n",
      "6   All (households)  2011  71.9837\n",
      "7   All (households)  2012  77.4086\n",
      "8   All (households)  2013  79.7862\n",
      "9   All (households)  2014  79.3764\n",
      "10  All (households)  2015  80.9113\n",
      "11  All (households)  2016  85.0929\n",
      "12  All (households)  2017  88.3804\n",
      "13  All (households)  2018  87.6856\n",
      "14  All (households)  2019  89.3345\n",
      "15  All (households)  2020  89.2893\n",
      "16  All (households)  2021  91.0090\n",
      "Esta es la media de Austria de All (households): 70.50949411764705\n"
     ]
    }
   ],
   "source": [
    "# all (households)\n",
    "austria_all=austria.loc[austria['Breakdowns']=='All (households)']\n",
    "print(austria_all)\n",
    "\n",
    "# media\n",
    "austria_media=austria_all['Value'].mean()\n",
    "print(f'Esta es la media de Austria de All (households): {austria_media}')\n"
   ]
  },
  {
   "cell_type": "code",
   "execution_count": 7,
   "metadata": {},
   "outputs": [
    {
     "name": "stdout",
     "output_type": "stream",
     "text": [
      "                                  Breakdowns  TIME    Value\n",
      "51  Households with income in first quartile  2008  45.5310\n",
      "52  Households with income in first quartile  2009  39.1591\n",
      "53  Households with income in first quartile  2011  50.5825\n",
      "54  Households with income in first quartile  2012  59.7155\n",
      "55  Households with income in first quartile  2013  62.6999\n",
      "56  Households with income in first quartile  2014  59.9357\n",
      "57  Households with income in first quartile  2015  72.0971\n",
      "58  Households with income in first quartile  2016  76.4049\n",
      "59  Households with income in first quartile  2017  81.5881\n",
      "60  Households with income in first quartile  2018  78.5862\n",
      "61  Households with income in first quartile  2019  83.1467\n",
      "62  Households with income in first quartile  2020  81.8820\n",
      "Esta es la media de Austria de Households with income in the first quartile: 65.94405833333333\n"
     ]
    }
   ],
   "source": [
    "# Households with income in the first quartile\n",
    "austria_first=austria.loc[austria['Breakdowns']=='Households with income in first quartile']\n",
    "\n",
    "print(austria_first)\n",
    "\n",
    "# media\n",
    "austria_media_first=austria_first['Value'].mean()\n",
    "print(f'Esta es la media de Austria de Households with income in the first quartile: {austria_media_first}')\n",
    "\n"
   ]
  },
  {
   "cell_type": "code",
   "execution_count": 8,
   "metadata": {},
   "outputs": [
    {
     "name": "stdout",
     "output_type": "stream",
     "text": [
      "                                   Breakdowns  TIME    Value\n",
      "75  Households with income in second quartile  2008  45.6171\n",
      "76  Households with income in second quartile  2009  51.3351\n",
      "77  Households with income in second quartile  2011  65.3035\n",
      "78  Households with income in second quartile  2012  70.3264\n",
      "79  Households with income in second quartile  2013  74.2323\n",
      "80  Households with income in second quartile  2014  78.3670\n",
      "81  Households with income in second quartile  2015  74.0492\n",
      "82  Households with income in second quartile  2016  78.1994\n",
      "83  Households with income in second quartile  2017  86.2857\n",
      "84  Households with income in second quartile  2018  84.7085\n",
      "85  Households with income in second quartile  2019  86.5847\n",
      "86  Households with income in second quartile  2020  83.4711\n",
      "Esta es la media de Austria de Households with income in the second quartile: 73.20666666666666\n"
     ]
    }
   ],
   "source": [
    "# Households with income in the second quartile\n",
    "austria_second=austria.loc[austria['Breakdowns']=='Households with income in second quartile']\n",
    "print(austria_second)\n",
    "\n",
    "# media\n",
    "austria_media_second=austria_second['Value'].mean()\n",
    "print(f'Esta es la media de Austria de Households with income in the second quartile: {austria_media_second}')\n"
   ]
  },
  {
   "cell_type": "code",
   "execution_count": 9,
   "metadata": {},
   "outputs": [
    {
     "name": "stdout",
     "output_type": "stream",
     "text": [
      "                                  Breakdowns  TIME    Value\n",
      "87  Households with income in third quartile  2008  57.6684\n",
      "88  Households with income in third quartile  2009  63.4532\n",
      "89  Households with income in third quartile  2011  79.9009\n",
      "90  Households with income in third quartile  2012  85.0492\n",
      "91  Households with income in third quartile  2013  86.7585\n",
      "92  Households with income in third quartile  2014  84.4117\n",
      "93  Households with income in third quartile  2015  85.3644\n",
      "94  Households with income in third quartile  2016  87.5679\n",
      "95  Households with income in third quartile  2017  89.3368\n",
      "96  Households with income in third quartile  2018  92.9322\n",
      "97  Households with income in third quartile  2019  92.3764\n",
      "98  Households with income in third quartile  2020  90.0880\n",
      "Esta es la media de Austria de Households with income in the third quartile: 82.90896666666666\n"
     ]
    }
   ],
   "source": [
    "# Households with income in the third quartile\n",
    "austria_third=austria.loc[austria['Breakdowns']=='Households with income in third quartile']\n",
    "print(austria_third)\n",
    "\n",
    "# media\n",
    "austria_media_third=austria_third['Value'].mean()\n",
    "print(f'Esta es la media de Austria de Households with income in the third quartile: {austria_media_third}')\n"
   ]
  },
  {
   "cell_type": "code",
   "execution_count": 10,
   "metadata": {},
   "outputs": [
    {
     "name": "stdout",
     "output_type": "stream",
     "text": [
      "                                   Breakdowns  TIME    Value\n",
      "63  Households with income in fourth quartile  2008  69.1623\n",
      "64  Households with income in fourth quartile  2009  77.2666\n",
      "65  Households with income in fourth quartile  2011  92.1584\n",
      "66  Households with income in fourth quartile  2012  94.5812\n",
      "67  Households with income in fourth quartile  2013  95.4828\n",
      "68  Households with income in fourth quartile  2014  94.7950\n",
      "69  Households with income in fourth quartile  2015  89.5002\n",
      "70  Households with income in fourth quartile  2016  94.7773\n",
      "71  Households with income in fourth quartile  2017  93.6152\n",
      "72  Households with income in fourth quartile  2018  94.3370\n",
      "73  Households with income in fourth quartile  2019  96.7116\n",
      "74  Households with income in fourth quartile  2020  96.6123\n",
      "Esta es la media de Austria de Households with income in the fourth quartile: 90.74999166666665\n"
     ]
    }
   ],
   "source": [
    "# Households with income in the fourth quartile\n",
    "austria_fourth=austria.loc[austria['Breakdowns']=='Households with income in fourth quartile']\n",
    "print(austria_fourth)\n",
    "\n",
    "# media\n",
    "austria_media_fourth=austria_fourth['Value'].mean()\n",
    "print(f'Esta es la media de Austria de Households with income in the fourth quartile: {austria_media_fourth}')"
   ]
  },
  {
   "cell_type": "code",
   "execution_count": 11,
   "metadata": {},
   "outputs": [
    {
     "name": "stdout",
     "output_type": "stream",
     "text": [
      "                                Breakdowns  TIME    Value\n",
      "17  Households living in large urban areas  2005  30.1538\n",
      "18  Households living in large urban areas  2006  41.5281\n",
      "19  Households living in large urban areas  2007  52.4428\n",
      "20  Households living in large urban areas  2008  58.5152\n",
      "21  Households living in large urban areas  2009  63.6101\n",
      "22  Households living in large urban areas  2010  67.0776\n",
      "23  Households living in large urban areas  2011  73.5213\n",
      "24  Households living in large urban areas  2012  80.0678\n",
      "25  Households living in large urban areas  2013  82.4362\n",
      "26  Households living in large urban areas  2014  81.1914\n",
      "27  Households living in large urban areas  2015  84.8560\n",
      "28  Households living in large urban areas  2016  88.0862\n",
      "29  Households living in large urban areas  2017  88.7635\n",
      "30  Households living in large urban areas  2018  89.3660\n",
      "31  Households living in large urban areas  2019  91.4523\n",
      "32  Households living in large urban areas  2020  91.4637\n",
      "33  Households living in large urban areas  2021  92.2657\n",
      "Esta es la media de Austria de Households living in large urban areas: 73.92927647058823\n"
     ]
    }
   ],
   "source": [
    "# Households living in large urban areas\n",
    "austria_large=austria.loc[austria['Breakdowns']=='Households living in large urban areas']\n",
    "print(austria_large)\n",
    "\n",
    "# media\n",
    "austria_media_large=austria_large['Value'].mean()\n",
    "print(f'Esta es la media de Austria de Households living in large urban areas: {austria_media_large}')\n"
   ]
  },
  {
   "cell_type": "code",
   "execution_count": 12,
   "metadata": {},
   "outputs": [
    {
     "name": "stdout",
     "output_type": "stream",
     "text": [
      "                          Breakdowns  TIME    Value\n",
      "34  Households living in rural areas  2005  15.2935\n",
      "35  Households living in rural areas  2006  24.6327\n",
      "36  Households living in rural areas  2007  39.6088\n",
      "37  Households living in rural areas  2008  50.6517\n",
      "38  Households living in rural areas  2009  52.0134\n",
      "39  Households living in rural areas  2010  60.8191\n",
      "40  Households living in rural areas  2011  70.2735\n",
      "41  Households living in rural areas  2012  75.0195\n",
      "42  Households living in rural areas  2013  78.4030\n",
      "43  Households living in rural areas  2014  77.8385\n",
      "44  Households living in rural areas  2015  77.4210\n",
      "45  Households living in rural areas  2016  82.6541\n",
      "46  Households living in rural areas  2017  87.5682\n",
      "47  Households living in rural areas  2018  86.7381\n",
      "48  Households living in rural areas  2019  87.4199\n",
      "49  Households living in rural areas  2020  88.8465\n",
      "50  Households living in rural areas  2021  89.5750\n",
      "Esta es la media de Austria de Households living in rural areas: 67.33979411764707\n"
     ]
    }
   ],
   "source": [
    "# Households living in rural areas\n",
    "austria_rural=austria.loc[austria['Breakdowns']=='Households living in rural areas']\n",
    "print(austria_rural)\n",
    "\n",
    "# media\n",
    "austria_media_rural=austria_rural['Value'].mean()\n",
    "print(f'Esta es la media de Austria de Households living in rural areas: {austria_media_rural}')"
   ]
  },
  {
   "cell_type": "code",
   "execution_count": 13,
   "metadata": {},
   "outputs": [
    {
     "name": "stdout",
     "output_type": "stream",
     "text": [
      "                                   Breakdowns  TIME    Value\n",
      "0                            All (households)  2005  40.5604\n",
      "1                            All (households)  2006  48.0499\n",
      "2                            All (households)  2007  56.3886\n",
      "3                            All (households)  2008  60.3155\n",
      "4                            All (households)  2009  63.3982\n",
      "..                                        ...   ...      ...\n",
      "98   Households with income in third quartile  2016  89.6603\n",
      "99   Households with income in third quartile  2017  89.1826\n",
      "100  Households with income in third quartile  2018  88.7483\n",
      "101  Households with income in third quartile  2019  91.7097\n",
      "102  Households with income in third quartile  2020  95.4783\n",
      "\n",
      "[103 rows x 3 columns]\n"
     ]
    }
   ],
   "source": [
    "#BELGICA\n",
    "belgica=intento.loc['BEL']\n",
    "belgica=belgica.reset_index()\n",
    "print(belgica)\n"
   ]
  },
  {
   "cell_type": "code",
   "execution_count": 14,
   "metadata": {},
   "outputs": [
    {
     "name": "stdout",
     "output_type": "stream",
     "text": [
      "          Breakdowns  TIME    Value\n",
      "0   All (households)  2005  40.5604\n",
      "1   All (households)  2006  48.0499\n",
      "2   All (households)  2007  56.3886\n",
      "3   All (households)  2008  60.3155\n",
      "4   All (households)  2009  63.3982\n",
      "5   All (households)  2010  69.9525\n",
      "6   All (households)  2011  74.0032\n",
      "7   All (households)  2012  74.6965\n",
      "8   All (households)  2013  78.6488\n",
      "9   All (households)  2014  81.4769\n",
      "10  All (households)  2015  79.2224\n",
      "11  All (households)  2016  82.4122\n",
      "12  All (households)  2017  84.2533\n",
      "13  All (households)  2018  83.7276\n",
      "14  All (households)  2019  87.5729\n",
      "15  All (households)  2020  90.8610\n",
      "16  All (households)  2021  92.2999\n",
      "Esta es la media de Belgica de All (households): 73.40234117647059\n"
     ]
    }
   ],
   "source": [
    "# all (households)\n",
    "belgica_all=belgica.loc[belgica['Breakdowns']=='All (households)']\n",
    "print(belgica_all)\n",
    "\n",
    "# media\n",
    "belgica_media=belgica_all['Value'].mean()\n",
    "print(f'Esta es la media de Belgica de All (households): {belgica_media}')"
   ]
  },
  {
   "cell_type": "code",
   "execution_count": 15,
   "metadata": {},
   "outputs": [
    {
     "name": "stdout",
     "output_type": "stream",
     "text": [
      "                                  Breakdowns  TIME    Value\n",
      "51  Households with income in first quartile  2008  38.4881\n",
      "52  Households with income in first quartile  2009  36.8440\n",
      "53  Households with income in first quartile  2010  43.3202\n",
      "54  Households with income in first quartile  2011  49.0605\n",
      "55  Households with income in first quartile  2012  47.4510\n",
      "56  Households with income in first quartile  2013  54.2955\n",
      "57  Households with income in first quartile  2014  57.1083\n",
      "58  Households with income in first quartile  2015  57.0960\n",
      "59  Households with income in first quartile  2016  58.2709\n",
      "60  Households with income in first quartile  2017  64.3195\n",
      "61  Households with income in first quartile  2018  65.4055\n",
      "62  Households with income in first quartile  2019  67.6790\n",
      "63  Households with income in first quartile  2020  80.5364\n",
      "Esta es la media de Belgica de Households with income in first quartile: 55.3749923076923\n"
     ]
    }
   ],
   "source": [
    "# Households with income in the first quartile\n",
    "belgica_first=belgica.loc[belgica['Breakdowns']=='Households with income in first quartile']\n",
    "print(belgica_first)\n",
    "\n",
    "# media\n",
    "belgica_media_first=belgica_first['Value'].mean()\n",
    "print(f'Esta es la media de Belgica de Households with income in first quartile: {belgica_media_first}')\n"
   ]
  },
  {
   "cell_type": "code",
   "execution_count": 16,
   "metadata": {},
   "outputs": [
    {
     "name": "stdout",
     "output_type": "stream",
     "text": [
      "                                   Breakdowns  TIME    Value\n",
      "77  Households with income in second quartile  2008  50.0052\n",
      "78  Households with income in second quartile  2009  55.0107\n",
      "79  Households with income in second quartile  2010  61.1753\n",
      "80  Households with income in second quartile  2011  64.5054\n",
      "81  Households with income in second quartile  2012  66.1584\n",
      "82  Households with income in second quartile  2013  67.2702\n",
      "83  Households with income in second quartile  2014  72.7759\n",
      "84  Households with income in second quartile  2015  70.6233\n",
      "85  Households with income in second quartile  2016  74.0830\n",
      "86  Households with income in second quartile  2017  75.6661\n",
      "87  Households with income in second quartile  2018  71.9953\n",
      "88  Households with income in second quartile  2019  78.4650\n",
      "89  Households with income in second quartile  2020  78.7398\n",
      "Esta es la media de Belgica de Households with income in second quartile: 68.19027692307692\n"
     ]
    }
   ],
   "source": [
    "# Households with income in the second quartile\n",
    "belgica_second=belgica.loc[belgica['Breakdowns']=='Households with income in second quartile']\n",
    "print(belgica_second)\n",
    "\n",
    "# media\n",
    "belgica_media_second=belgica_second['Value'].mean()\n",
    "print(f'Esta es la media de Belgica de Households with income in second quartile: {belgica_media_second}')"
   ]
  },
  {
   "cell_type": "code",
   "execution_count": 17,
   "metadata": {},
   "outputs": [
    {
     "name": "stdout",
     "output_type": "stream",
     "text": [
      "                                   Breakdowns  TIME    Value\n",
      "90   Households with income in third quartile  2008  73.3467\n",
      "91   Households with income in third quartile  2009  75.0698\n",
      "92   Households with income in third quartile  2010  82.7929\n",
      "93   Households with income in third quartile  2011  83.7451\n",
      "94   Households with income in third quartile  2012  83.7244\n",
      "95   Households with income in third quartile  2013  87.6258\n",
      "96   Households with income in third quartile  2014  89.2044\n",
      "97   Households with income in third quartile  2015  85.5057\n",
      "98   Households with income in third quartile  2016  89.6603\n",
      "99   Households with income in third quartile  2017  89.1826\n",
      "100  Households with income in third quartile  2018  88.7483\n",
      "101  Households with income in third quartile  2019  91.7097\n",
      "102  Households with income in third quartile  2020  95.4783\n",
      "Esta es la media de Belgica de Households with income in third quartile: 85.83030769230768\n"
     ]
    }
   ],
   "source": [
    "# Households with income in the third quartile\n",
    "belgica_third=belgica.loc[belgica['Breakdowns']=='Households with income in third quartile']\n",
    "print(belgica_third)\n",
    "\n",
    "# media\n",
    "belgica_media_third=belgica_third['Value'].mean()\n",
    "print(f'Esta es la media de Belgica de Households with income in third quartile: {belgica_media_third}')\n"
   ]
  },
  {
   "cell_type": "code",
   "execution_count": 18,
   "metadata": {},
   "outputs": [
    {
     "name": "stdout",
     "output_type": "stream",
     "text": [
      "                                   Breakdowns  TIME    Value\n",
      "64  Households with income in fourth quartile  2008  86.8872\n",
      "65  Households with income in fourth quartile  2009  88.4222\n",
      "66  Households with income in fourth quartile  2010  92.0319\n",
      "67  Households with income in fourth quartile  2011  93.9175\n",
      "68  Households with income in fourth quartile  2012  94.0892\n",
      "69  Households with income in fourth quartile  2013  95.9209\n",
      "70  Households with income in fourth quartile  2014  96.5053\n",
      "71  Households with income in fourth quartile  2015  96.1283\n",
      "72  Households with income in fourth quartile  2016  96.8963\n",
      "73  Households with income in fourth quartile  2017  96.4124\n",
      "74  Households with income in fourth quartile  2018  96.5966\n",
      "75  Households with income in fourth quartile  2019  97.6288\n",
      "76  Households with income in fourth quartile  2020  98.7906\n",
      "Esta es la media de Belgica de Households with income in fourth quartile: 94.63286153846154\n"
     ]
    }
   ],
   "source": [
    "# Households with income in the fourth quartile\n",
    "belgica_fourth=belgica.loc[belgica['Breakdowns']=='Households with income in fourth quartile']\n",
    "print(belgica_fourth)\n",
    "\n",
    "# media\n",
    "belgica_media_fourth=belgica_fourth['Value'].mean()\n",
    "print(f'Esta es la media de Belgica de Households with income in fourth quartile: {belgica_media_fourth}')"
   ]
  },
  {
   "cell_type": "code",
   "execution_count": 19,
   "metadata": {},
   "outputs": [
    {
     "name": "stdout",
     "output_type": "stream",
     "text": [
      "                                Breakdowns  TIME    Value\n",
      "17  Households living in large urban areas  2005  39.6143\n",
      "18  Households living in large urban areas  2006  45.8549\n",
      "19  Households living in large urban areas  2007  55.8317\n",
      "20  Households living in large urban areas  2008  59.2581\n",
      "21  Households living in large urban areas  2009  61.6757\n",
      "22  Households living in large urban areas  2010  68.6864\n",
      "23  Households living in large urban areas  2011  73.2552\n",
      "24  Households living in large urban areas  2012  73.2512\n",
      "25  Households living in large urban areas  2013  77.2866\n",
      "26  Households living in large urban areas  2014  78.9909\n",
      "27  Households living in large urban areas  2015  76.0849\n",
      "28  Households living in large urban areas  2016  82.0441\n",
      "29  Households living in large urban areas  2017  83.4194\n",
      "30  Households living in large urban areas  2018  83.0200\n",
      "31  Households living in large urban areas  2019  86.0144\n",
      "32  Households living in large urban areas  2020  89.7532\n",
      "33  Households living in large urban areas  2021  90.4152\n",
      "Esta es la media de Belgica de Households living in large urban areas: 72.02683529411765\n"
     ]
    }
   ],
   "source": [
    "# Households living in large urban areas\n",
    "belgica_large=belgica.loc[belgica['Breakdowns']=='Households living in large urban areas']\n",
    "print(belgica_large)\n",
    "\n",
    "# media\n",
    "belgica_media_large=belgica_large['Value'].mean()\n",
    "print(f'Esta es la media de Belgica de Households living in large urban areas: {belgica_media_large}')\n",
    "\n"
   ]
  },
  {
   "cell_type": "code",
   "execution_count": 20,
   "metadata": {},
   "outputs": [
    {
     "name": "stdout",
     "output_type": "stream",
     "text": [
      "                          Breakdowns  TIME    Value\n",
      "34  Households living in rural areas  2005  28.9783\n",
      "35  Households living in rural areas  2006  38.0870\n",
      "36  Households living in rural areas  2007  46.6390\n",
      "37  Households living in rural areas  2008  54.3534\n",
      "38  Households living in rural areas  2009  53.9510\n",
      "39  Households living in rural areas  2010  61.8147\n",
      "40  Households living in rural areas  2011  71.0694\n",
      "41  Households living in rural areas  2012  75.2811\n",
      "42  Households living in rural areas  2013  80.6870\n",
      "43  Households living in rural areas  2014  81.4904\n",
      "44  Households living in rural areas  2015  79.3846\n",
      "45  Households living in rural areas  2016  82.8856\n",
      "46  Households living in rural areas  2017  83.6455\n",
      "47  Households living in rural areas  2018  82.5785\n",
      "48  Households living in rural areas  2019  87.1155\n",
      "49  Households living in rural areas  2020  90.5297\n",
      "50  Households living in rural areas  2021  92.8154\n",
      "Esta es la media de Belgica de Households living in rural areas: 70.0768294117647\n"
     ]
    }
   ],
   "source": [
    "# Households living in rural areas\n",
    "belgica_rural=belgica.loc[belgica['Breakdowns']=='Households living in rural areas']\n",
    "print(belgica_rural)\n",
    "\n",
    "# media\n",
    "belgica_media_rural=belgica_rural['Value'].mean()\n",
    "print(f'Esta es la media de Belgica de Households living in rural areas: {belgica_media_rural}')\n",
    "\n"
   ]
  },
  {
   "cell_type": "code",
   "execution_count": 21,
   "metadata": {},
   "outputs": [
    {
     "name": "stdout",
     "output_type": "stream",
     "text": [
      "                                   Breakdowns  TIME      Value\n",
      "0                            All (households)  2006  15.100000\n",
      "1                            All (households)  2009  24.900000\n",
      "2                            All (households)  2012  60.420858\n",
      "3                            All (households)  2013  61.568605\n",
      "4                            All (households)  2014  66.494021\n",
      "5                            All (households)  2015  71.558089\n",
      "6                            All (households)  2016  79.297795\n",
      "7                            All (households)  2017  87.538995\n",
      "8      Households living in large urban areas  2012  64.071899\n",
      "9      Households living in large urban areas  2013  64.873442\n",
      "10     Households living in large urban areas  2014  70.351461\n",
      "11     Households living in large urban areas  2015  74.193256\n",
      "12     Households living in large urban areas  2016  81.318219\n",
      "13     Households living in large urban areas  2017  89.227344\n",
      "14           Households living in rural areas  2012  35.368744\n",
      "15           Households living in rural areas  2013  40.481757\n",
      "16           Households living in rural areas  2014  41.578141\n",
      "17           Households living in rural areas  2015  55.626249\n",
      "18           Households living in rural areas  2016  66.441794\n",
      "19           Households living in rural areas  2017  76.694364\n",
      "20   Households with income in first quartile  2009   7.077674\n",
      "21   Households with income in first quartile  2012  46.777927\n",
      "22   Households with income in first quartile  2013  48.996027\n",
      "23   Households with income in first quartile  2014  52.501010\n",
      "24   Households with income in first quartile  2015  60.746815\n",
      "25   Households with income in first quartile  2016  70.842875\n",
      "26   Households with income in first quartile  2017  83.672975\n",
      "27  Households with income in fourth quartile  2009  50.441323\n",
      "28  Households with income in fourth quartile  2012  73.558018\n",
      "29  Households with income in fourth quartile  2013  77.244122\n",
      "30  Households with income in fourth quartile  2014  84.428520\n",
      "31  Households with income in fourth quartile  2015  79.376552\n",
      "32  Households with income in fourth quartile  2016  86.744796\n",
      "33  Households with income in fourth quartile  2017  91.136863\n",
      "34  Households with income in second quartile  2009  13.744212\n",
      "35  Households with income in second quartile  2012  52.618319\n",
      "36  Households with income in second quartile  2013  54.197853\n",
      "37  Households with income in second quartile  2014  57.516373\n",
      "38  Households with income in second quartile  2015  70.904046\n",
      "39  Households with income in second quartile  2016  76.585797\n",
      "40  Households with income in second quartile  2017  83.305981\n",
      "41   Households with income in third quartile  2009  24.169275\n",
      "42   Households with income in third quartile  2012  66.437699\n",
      "43   Households with income in third quartile  2013  65.066115\n",
      "44   Households with income in third quartile  2014  71.092989\n",
      "45   Households with income in third quartile  2015  73.836349\n",
      "46   Households with income in third quartile  2016  81.190858\n",
      "47   Households with income in third quartile  2017  88.154205\n"
     ]
    }
   ],
   "source": [
    "# CHILE\n",
    "chile=intento.loc['CHL']\n",
    "chile=chile.reset_index()\n",
    "print(chile)\n",
    "\n"
   ]
  },
  {
   "cell_type": "code",
   "execution_count": 22,
   "metadata": {},
   "outputs": [
    {
     "name": "stdout",
     "output_type": "stream",
     "text": [
      "         Breakdowns  TIME      Value\n",
      "0  All (households)  2006  15.100000\n",
      "1  All (households)  2009  24.900000\n",
      "2  All (households)  2012  60.420858\n",
      "3  All (households)  2013  61.568605\n",
      "4  All (households)  2014  66.494021\n",
      "5  All (households)  2015  71.558089\n",
      "6  All (households)  2016  79.297795\n",
      "7  All (households)  2017  87.538995\n",
      "Esta es la media de Chile de All (households): 58.35979547375\n"
     ]
    }
   ],
   "source": [
    "# all (households)\n",
    "chile_all=chile.loc[chile['Breakdowns']=='All (households)']\n",
    "print(chile_all)\n",
    "\n",
    "# media\n",
    "chile_media=chile_all['Value'].mean()\n",
    "print(f'Esta es la media de Chile de All (households): {chile_media}')\n"
   ]
  },
  {
   "cell_type": "code",
   "execution_count": 23,
   "metadata": {},
   "outputs": [
    {
     "name": "stdout",
     "output_type": "stream",
     "text": [
      "                                  Breakdowns  TIME      Value\n",
      "20  Households with income in first quartile  2009   7.077674\n",
      "21  Households with income in first quartile  2012  46.777927\n",
      "22  Households with income in first quartile  2013  48.996027\n",
      "23  Households with income in first quartile  2014  52.501010\n",
      "24  Households with income in first quartile  2015  60.746815\n",
      "25  Households with income in first quartile  2016  70.842875\n",
      "26  Households with income in first quartile  2017  83.672975\n",
      "Esta es la media de Chile de Households with income in first quartile: 52.94504344042857\n"
     ]
    }
   ],
   "source": [
    "# Households with income in the first quartile\n",
    "chile_first=chile.loc[chile['Breakdowns']=='Households with income in first quartile']\n",
    "print(chile_first)\n",
    "\n",
    "# media\n",
    "chile_media_first=chile_first['Value'].mean()\n",
    "print(f'Esta es la media de Chile de Households with income in first quartile: {chile_media_first}')"
   ]
  },
  {
   "cell_type": "code",
   "execution_count": 24,
   "metadata": {},
   "outputs": [
    {
     "name": "stdout",
     "output_type": "stream",
     "text": [
      "                                   Breakdowns  TIME      Value\n",
      "34  Households with income in second quartile  2009  13.744212\n",
      "35  Households with income in second quartile  2012  52.618319\n",
      "36  Households with income in second quartile  2013  54.197853\n",
      "37  Households with income in second quartile  2014  57.516373\n",
      "38  Households with income in second quartile  2015  70.904046\n",
      "39  Households with income in second quartile  2016  76.585797\n",
      "40  Households with income in second quartile  2017  83.305981\n",
      "Esta es la media de Chile de Households with income in second quartile: 58.41036895285714\n"
     ]
    }
   ],
   "source": [
    "# Households with income in the second quartile\n",
    "chile_second=chile.loc[chile['Breakdowns']=='Households with income in second quartile']\n",
    "print(chile_second)\n",
    "\n",
    "# media\n",
    "chile_media_second=chile_second['Value'].mean()\n",
    "print(f'Esta es la media de Chile de Households with income in second quartile: {chile_media_second}')"
   ]
  },
  {
   "cell_type": "code",
   "execution_count": 25,
   "metadata": {},
   "outputs": [
    {
     "name": "stdout",
     "output_type": "stream",
     "text": [
      "                                  Breakdowns  TIME      Value\n",
      "41  Households with income in third quartile  2009  24.169275\n",
      "42  Households with income in third quartile  2012  66.437699\n",
      "43  Households with income in third quartile  2013  65.066115\n",
      "44  Households with income in third quartile  2014  71.092989\n",
      "45  Households with income in third quartile  2015  73.836349\n",
      "46  Households with income in third quartile  2016  81.190858\n",
      "47  Households with income in third quartile  2017  88.154205\n",
      "Esta es la media de Chile de Households with income in third quartile: 67.13535574285714\n"
     ]
    }
   ],
   "source": [
    "# Households with income in the third quartile\n",
    "chile_third=chile.loc[chile['Breakdowns']=='Households with income in third quartile']\n",
    "print(chile_third)\n",
    "\n",
    "# media\n",
    "chile_media_third=chile_third['Value'].mean()\n",
    "print(f'Esta es la media de Chile de Households with income in third quartile: {chile_media_third}')\n",
    "\n"
   ]
  },
  {
   "cell_type": "code",
   "execution_count": 26,
   "metadata": {},
   "outputs": [
    {
     "name": "stdout",
     "output_type": "stream",
     "text": [
      "                                   Breakdowns  TIME      Value\n",
      "27  Households with income in fourth quartile  2009  50.441323\n",
      "28  Households with income in fourth quartile  2012  73.558018\n",
      "29  Households with income in fourth quartile  2013  77.244122\n",
      "30  Households with income in fourth quartile  2014  84.428520\n",
      "31  Households with income in fourth quartile  2015  79.376552\n",
      "32  Households with income in fourth quartile  2016  86.744796\n",
      "33  Households with income in fourth quartile  2017  91.136863\n",
      "Esta es la media de Chile de Households with income in fourth quartile: 77.56145623285715\n",
      "                                Breakdowns  TIME      Value\n",
      "8   Households living in large urban areas  2012  64.071899\n",
      "9   Households living in large urban areas  2013  64.873442\n",
      "10  Households living in large urban areas  2014  70.351461\n",
      "11  Households living in large urban areas  2015  74.193256\n",
      "12  Households living in large urban areas  2016  81.318219\n",
      "13  Households living in large urban areas  2017  89.227344\n",
      "Esta es la media de Chile de Households living in large urban areas: 74.00593689499999\n",
      "                          Breakdowns  TIME      Value\n",
      "14  Households living in rural areas  2012  35.368744\n",
      "15  Households living in rural areas  2013  40.481757\n",
      "16  Households living in rural areas  2014  41.578141\n",
      "17  Households living in rural areas  2015  55.626249\n",
      "18  Households living in rural areas  2016  66.441794\n",
      "19  Households living in rural areas  2017  76.694364\n",
      "Esta es la media de Chile de Households living in rural areas: 52.69850814166667\n"
     ]
    }
   ],
   "source": [
    "# Households with income in the fourth quartile\n",
    "chile_fourth=chile.loc[chile['Breakdowns']=='Households with income in fourth quartile']\n",
    "print(chile_fourth)\n",
    "\n",
    "\n",
    "# media\n",
    "chile_media_fourth=chile_fourth['Value'].mean()\n",
    "print(f'Esta es la media de Chile de Households with income in fourth quartile: {chile_media_fourth}')\n",
    "\n",
    "# Households living in large urban areas\n",
    "chile_large=chile.loc[chile['Breakdowns']=='Households living in large urban areas']\n",
    "print(chile_large)\n",
    "\n",
    "# media\n",
    "chile_media_large=chile_large['Value'].mean()\n",
    "print(f'Esta es la media de Chile de Households living in large urban areas: {chile_media_large}')\n",
    "\n",
    "# Households living in rural areas\n",
    "chile_rural=chile.loc[chile['Breakdowns']=='Households living in rural areas']\n",
    "print(chile_rural)\n",
    "\n",
    "# media\n",
    "chile_media_rural=chile_rural['Value'].mean()\n",
    "print(f'Esta es la media de Chile de Households living in rural areas: {chile_media_rural}')"
   ]
  },
  {
   "cell_type": "code",
   "execution_count": 27,
   "metadata": {},
   "outputs": [
    {
     "name": "stdout",
     "output_type": "stream",
     "text": [
      "                                   Breakdowns  TIME    Value\n",
      "0                            All (households)  2005   5.0613\n",
      "1                            All (households)  2006  16.5827\n",
      "2                            All (households)  2007  28.0624\n",
      "3                            All (households)  2008  36.4050\n",
      "4                            All (households)  2009  48.8914\n",
      "..                                        ...   ...      ...\n",
      "98   Households with income in third quartile  2016  87.6583\n",
      "99   Households with income in third quartile  2017  93.9845\n",
      "100  Households with income in third quartile  2018  95.9447\n",
      "101  Households with income in third quartile  2019  97.0223\n",
      "102  Households with income in third quartile  2020  96.8213\n",
      "\n",
      "[103 rows x 3 columns]\n"
     ]
    }
   ],
   "source": [
    "# República Checa\n",
    "republica=intento.loc['CZE']\n",
    "republica=republica.reset_index()\n",
    "print(republica)"
   ]
  },
  {
   "cell_type": "code",
   "execution_count": 28,
   "metadata": {},
   "outputs": [
    {
     "name": "stdout",
     "output_type": "stream",
     "text": [
      "          Breakdowns  TIME    Value\n",
      "0   All (households)  2005   5.0613\n",
      "1   All (households)  2006  16.5827\n",
      "2   All (households)  2007  28.0624\n",
      "3   All (households)  2008  36.4050\n",
      "4   All (households)  2009  48.8914\n",
      "5   All (households)  2010  53.6004\n",
      "6   All (households)  2011  63.4421\n",
      "7   All (households)  2012  69.2857\n",
      "8   All (households)  2013  69.3875\n",
      "9   All (households)  2014  75.9137\n",
      "10  All (households)  2015  76.0380\n",
      "11  All (households)  2016  80.3188\n",
      "12  All (households)  2017  82.8761\n",
      "13  All (households)  2018  85.7682\n",
      "14  All (households)  2019  86.9996\n",
      "15  All (households)  2020  88.0204\n",
      "16  All (households)  2021  89.3125\n",
      "Esta es la media de República Checa de All (households): 62.115635294117645\n"
     ]
    }
   ],
   "source": [
    "# all (households)\n",
    "republica_all=republica.loc[republica['Breakdowns']=='All (households)']\n",
    "print(republica_all)\n",
    "\n",
    "# media\n",
    "republica_media=republica_all['Value'].mean()\n",
    "print(f'Esta es la media de República Checa de All (households): {republica_media}')\n"
   ]
  },
  {
   "cell_type": "code",
   "execution_count": 29,
   "metadata": {},
   "outputs": [
    {
     "name": "stdout",
     "output_type": "stream",
     "text": [
      "                                  Breakdowns  TIME    Value\n",
      "51  Households with income in first quartile  2008   9.5961\n",
      "52  Households with income in first quartile  2009  15.1444\n",
      "53  Households with income in first quartile  2010  22.9793\n",
      "54  Households with income in first quartile  2011  29.0734\n",
      "55  Households with income in first quartile  2012  32.0260\n",
      "56  Households with income in first quartile  2013  37.1764\n",
      "57  Households with income in first quartile  2014  40.9494\n",
      "58  Households with income in first quartile  2015  43.7286\n",
      "59  Households with income in first quartile  2016  50.5090\n",
      "60  Households with income in first quartile  2017  55.0026\n",
      "61  Households with income in first quartile  2018  58.8404\n",
      "62  Households with income in first quartile  2019  63.8494\n",
      "63  Households with income in first quartile  2020  63.1683\n",
      "Esta es la media de República Checa de Households with income in first quartile: 40.157176923076925\n"
     ]
    }
   ],
   "source": [
    "# Households with income in the first quartile\n",
    "republica_first=republica.loc[republica['Breakdowns']=='Households with income in first quartile']\n",
    "print(republica_first)\n",
    "\n",
    "# media\n",
    "republica_media_first=republica_first['Value'].mean()\n",
    "print(f'Esta es la media de República Checa de Households with income in first quartile: {republica_media_first}')\n"
   ]
  },
  {
   "cell_type": "code",
   "execution_count": 30,
   "metadata": {},
   "outputs": [
    {
     "name": "stdout",
     "output_type": "stream",
     "text": [
      "                                   Breakdowns  TIME    Value\n",
      "77  Households with income in second quartile  2008  20.2025\n",
      "78  Households with income in second quartile  2009  37.7303\n",
      "79  Households with income in second quartile  2010  39.4428\n",
      "80  Households with income in second quartile  2011  46.6120\n",
      "81  Households with income in second quartile  2012  53.1170\n",
      "82  Households with income in second quartile  2013  51.7117\n",
      "83  Households with income in second quartile  2014  60.5436\n",
      "84  Households with income in second quartile  2015  57.8549\n",
      "85  Households with income in second quartile  2016  62.9859\n",
      "86  Households with income in second quartile  2017  74.4652\n",
      "87  Households with income in second quartile  2018  81.9386\n",
      "88  Households with income in second quartile  2019  81.6470\n",
      "89  Households with income in second quartile  2020  85.6184\n",
      "Esta es la media de República Checa de Households with income in second quartile: 57.989992307692305\n"
     ]
    }
   ],
   "source": [
    "# Households with income in the second quartile\t\n",
    "republica_second=republica.loc[republica['Breakdowns']=='Households with income in second quartile']\n",
    "print(republica_second)\n",
    "\n",
    "# media\n",
    "republica_media_second=republica_second['Value'].mean()\n",
    "print(f'Esta es la media de República Checa de Households with income in second quartile: {republica_media_second}')"
   ]
  },
  {
   "cell_type": "code",
   "execution_count": 31,
   "metadata": {},
   "outputs": [
    {
     "name": "stdout",
     "output_type": "stream",
     "text": [
      "                                   Breakdowns  TIME    Value\n",
      "90   Households with income in third quartile  2008  39.9517\n",
      "91   Households with income in third quartile  2009  64.3718\n",
      "92   Households with income in third quartile  2010  62.7237\n",
      "93   Households with income in third quartile  2011  73.0157\n",
      "94   Households with income in third quartile  2012  82.0874\n",
      "95   Households with income in third quartile  2013  82.4535\n",
      "96   Households with income in third quartile  2014  85.6249\n",
      "97   Households with income in third quartile  2015  83.3406\n",
      "98   Households with income in third quartile  2016  87.6583\n",
      "99   Households with income in third quartile  2017  93.9845\n",
      "100  Households with income in third quartile  2018  95.9447\n",
      "101  Households with income in third quartile  2019  97.0223\n",
      "102  Households with income in third quartile  2020  96.8213\n",
      "Esta es la media de República Checa de Households with income in third quartile: 80.38464615384615\n"
     ]
    }
   ],
   "source": [
    "# Households with income in the third quartile\n",
    "republica_third=republica.loc[republica['Breakdowns']=='Households with income in third quartile']\n",
    "print(republica_third)\n",
    "\n",
    "# media\n",
    "republica_media_third=republica_third['Value'].mean()\n",
    "print(f'Esta es la media de República Checa de Households with income in third quartile: {republica_media_third}')\n"
   ]
  },
  {
   "cell_type": "code",
   "execution_count": 32,
   "metadata": {},
   "outputs": [
    {
     "name": "stdout",
     "output_type": "stream",
     "text": [
      "                                   Breakdowns  TIME    Value\n",
      "64  Households with income in fourth quartile  2008  61.1742\n",
      "65  Households with income in fourth quartile  2009  79.9521\n",
      "66  Households with income in fourth quartile  2010  79.2979\n",
      "67  Households with income in fourth quartile  2011  88.9609\n",
      "68  Households with income in fourth quartile  2012  91.5553\n",
      "69  Households with income in fourth quartile  2013  92.1325\n",
      "70  Households with income in fourth quartile  2014  95.8114\n",
      "71  Households with income in fourth quartile  2015  94.5495\n",
      "72  Households with income in fourth quartile  2016  96.6439\n",
      "73  Households with income in fourth quartile  2017  98.5136\n",
      "74  Households with income in fourth quartile  2018  99.0398\n",
      "75  Households with income in fourth quartile  2019  99.3563\n",
      "76  Households with income in fourth quartile  2020  99.2480\n",
      "Esta es la media de República Checa de Households with income in fourth quartile: 90.47964615384616\n"
     ]
    }
   ],
   "source": [
    "# Households with income in the fourth quartile\n",
    "republica_fourth=republica.loc[republica['Breakdowns']=='Households with income in fourth quartile']\n",
    "print(republica_fourth)\n",
    "\n",
    "# media\n",
    "republica_media_fourth=republica_fourth['Value'].mean()\n",
    "print(f'Esta es la media de República Checa de Households with income in fourth quartile: {republica_media_fourth}')\n"
   ]
  },
  {
   "cell_type": "code",
   "execution_count": 33,
   "metadata": {},
   "outputs": [
    {
     "name": "stdout",
     "output_type": "stream",
     "text": [
      "                                Breakdowns  TIME    Value\n",
      "17  Households living in large urban areas  2005   7.3107\n",
      "18  Households living in large urban areas  2006  22.3704\n",
      "19  Households living in large urban areas  2007  36.8901\n",
      "20  Households living in large urban areas  2008  43.5405\n",
      "21  Households living in large urban areas  2009  56.3247\n",
      "22  Households living in large urban areas  2010  56.2611\n",
      "23  Households living in large urban areas  2011  67.7259\n",
      "24  Households living in large urban areas  2012  76.0147\n",
      "25  Households living in large urban areas  2013  74.6243\n",
      "26  Households living in large urban areas  2014  83.8065\n",
      "27  Households living in large urban areas  2015  82.5852\n",
      "28  Households living in large urban areas  2016  85.4733\n",
      "29  Households living in large urban areas  2017  86.1750\n",
      "30  Households living in large urban areas  2018  88.5943\n",
      "31  Households living in large urban areas  2019  90.1116\n",
      "32  Households living in large urban areas  2020  90.0872\n",
      "33  Households living in large urban areas  2021  92.6872\n",
      "Esta es la media de República Checa de Households living in large urban areas: 67.0931\n"
     ]
    }
   ],
   "source": [
    "# Households living in large urban areas\n",
    "republica_large=republica.loc[republica['Breakdowns']=='Households living in large urban areas']\n",
    "print(republica_large)\n",
    "\n",
    "# media\n",
    "republica_media_large=republica_large['Value'].mean()\n",
    "print(f'Esta es la media de República Checa de Households living in large urban areas: {republica_media_large}')"
   ]
  },
  {
   "cell_type": "code",
   "execution_count": 34,
   "metadata": {},
   "outputs": [
    {
     "name": "stdout",
     "output_type": "stream",
     "text": [
      "                          Breakdowns  TIME    Value\n",
      "34  Households living in rural areas  2005   3.0324\n",
      "35  Households living in rural areas  2006  11.9585\n",
      "36  Households living in rural areas  2007  22.3090\n",
      "37  Households living in rural areas  2008  31.9565\n",
      "38  Households living in rural areas  2009  43.9717\n",
      "39  Households living in rural areas  2010  50.5257\n",
      "40  Households living in rural areas  2011  60.0750\n",
      "41  Households living in rural areas  2012  64.6945\n",
      "42  Households living in rural areas  2013  64.3784\n",
      "43  Households living in rural areas  2014  71.1381\n",
      "44  Households living in rural areas  2015  72.5821\n",
      "45  Households living in rural areas  2016  75.8454\n",
      "46  Households living in rural areas  2017  79.9115\n",
      "47  Households living in rural areas  2018  83.8851\n",
      "48  Households living in rural areas  2019  84.0800\n",
      "49  Households living in rural areas  2020  86.2524\n",
      "50  Households living in rural areas  2021  85.6163\n",
      "Esta es la media de República Checa de Households living in rural areas: 58.36544705882353\n"
     ]
    }
   ],
   "source": [
    "# Households living in rural areas\n",
    "republica_rural=republica.loc[republica['Breakdowns']=='Households living in rural areas']\n",
    "print(republica_rural)\n",
    "\n",
    "# media\n",
    "republica_media_rural=republica_rural['Value'].mean()\n",
    "print(f'Esta es la media de República Checa de Households living in rural areas: {republica_media_rural}')"
   ]
  },
  {
   "cell_type": "code",
   "execution_count": 35,
   "metadata": {},
   "outputs": [
    {
     "name": "stdout",
     "output_type": "stream",
     "text": [
      "                                   Breakdowns  TIME    Value\n",
      "0                            All (households)  2005  51.1790\n",
      "1                            All (households)  2006  63.2527\n",
      "2                            All (households)  2007  69.5315\n",
      "3                            All (households)  2008  74.0713\n",
      "4                            All (households)  2009  76.0467\n",
      "..                                        ...   ...      ...\n",
      "102  Households with income in third quartile  2016  93.5047\n",
      "103  Households with income in third quartile  2017  94.9710\n",
      "104  Households with income in third quartile  2018  95.6754\n",
      "105  Households with income in third quartile  2019  95.8999\n",
      "106  Households with income in third quartile  2020  96.0885\n",
      "\n",
      "[107 rows x 3 columns]\n"
     ]
    }
   ],
   "source": [
    "#Dinamarca\n",
    "dinamarca=intento.loc['DNK']\n",
    "dinamarca=dinamarca.reset_index()\n",
    "print(dinamarca)\n",
    "\n"
   ]
  },
  {
   "cell_type": "code",
   "execution_count": 36,
   "metadata": {},
   "outputs": [
    {
     "name": "stdout",
     "output_type": "stream",
     "text": [
      "          Breakdowns  TIME    Value\n",
      "0   All (households)  2005  51.1790\n",
      "1   All (households)  2006  63.2527\n",
      "2   All (households)  2007  69.5315\n",
      "3   All (households)  2008  74.0713\n",
      "4   All (households)  2009  76.0467\n",
      "5   All (households)  2010  80.1021\n",
      "6   All (households)  2011  83.8913\n",
      "7   All (households)  2012  84.7714\n",
      "8   All (households)  2013  87.1906\n",
      "9   All (households)  2014  85.4128\n",
      "10  All (households)  2015  84.1968\n",
      "11  All (households)  2016  91.6026\n",
      "12  All (households)  2017  92.1007\n",
      "13  All (households)  2018  90.2963\n",
      "14  All (households)  2019  92.5330\n",
      "15  All (households)  2020  92.5007\n",
      "16  All (households)  2021  92.4658\n",
      "Esta es la media de Dinamarca de All (households): 81.83207647058825\n"
     ]
    }
   ],
   "source": [
    "# all (households)\n",
    "dinamarca_all=dinamarca.loc[dinamarca['Breakdowns']=='All (households)']\n",
    "print(dinamarca_all)\n",
    "\n",
    "# media\n",
    "dinamarca_media=dinamarca_all['Value'].mean()\n",
    "print(f'Esta es la media de Dinamarca de All (households): {dinamarca_media}')\n"
   ]
  },
  {
   "cell_type": "code",
   "execution_count": 37,
   "metadata": {},
   "outputs": [
    {
     "name": "stdout",
     "output_type": "stream",
     "text": [
      "                                  Breakdowns  TIME    Value\n",
      "51  Households with income in first quartile  2006  52.1114\n",
      "52  Households with income in first quartile  2007  48.3330\n",
      "53  Households with income in first quartile  2008  47.9084\n",
      "54  Households with income in first quartile  2009  73.8656\n",
      "55  Households with income in first quartile  2010  82.6579\n",
      "56  Households with income in first quartile  2011  80.2237\n",
      "57  Households with income in first quartile  2012  87.2243\n",
      "58  Households with income in first quartile  2013  71.5426\n",
      "59  Households with income in first quartile  2014  77.2672\n",
      "60  Households with income in first quartile  2016  83.7647\n",
      "61  Households with income in first quartile  2017  86.1689\n",
      "62  Households with income in first quartile  2018  82.6167\n",
      "63  Households with income in first quartile  2019  85.4750\n",
      "64  Households with income in first quartile  2020  85.9533\n",
      "Esta es la media de Dinamarca de Households with income in first quartile: 74.65090714285714\n"
     ]
    }
   ],
   "source": [
    "# Households with income in the first quartile\n",
    "dinamarca_first=dinamarca.loc[dinamarca['Breakdowns']=='Households with income in first quartile']\n",
    "print(dinamarca_first)\n",
    "\n",
    "# media\n",
    "dinamarca_media_first=dinamarca_first['Value'].mean()\n",
    "print(f'Esta es la media de Dinamarca de Households with income in first quartile: {dinamarca_media_first}')\n"
   ]
  },
  {
   "cell_type": "code",
   "execution_count": 38,
   "metadata": {},
   "outputs": [
    {
     "name": "stdout",
     "output_type": "stream",
     "text": [
      "                                   Breakdowns  TIME    Value\n",
      "79  Households with income in second quartile  2006  56.4323\n",
      "80  Households with income in second quartile  2007  64.1331\n",
      "81  Households with income in second quartile  2008  61.7248\n",
      "82  Households with income in second quartile  2009  69.3124\n",
      "83  Households with income in second quartile  2010  70.2221\n",
      "84  Households with income in second quartile  2011  76.2989\n",
      "85  Households with income in second quartile  2012  81.5553\n",
      "86  Households with income in second quartile  2013  88.9480\n",
      "87  Households with income in second quartile  2014  81.8922\n",
      "88  Households with income in second quartile  2016  91.7479\n",
      "89  Households with income in second quartile  2017  88.4887\n",
      "90  Households with income in second quartile  2018  84.6928\n",
      "91  Households with income in second quartile  2019  91.7999\n",
      "92  Households with income in second quartile  2020  88.6466\n",
      "Esta es la media de Dinamarca de Households with income in second quartile: 78.27821428571428\n"
     ]
    }
   ],
   "source": [
    "# Households with income in the second quartile\n",
    "dinamarca_second=dinamarca.loc[dinamarca['Breakdowns']=='Households with income in second quartile']\n",
    "print(dinamarca_second)\n",
    "\n",
    "# media\n",
    "dinamarca_media_second=dinamarca_second['Value'].mean()\n",
    "print(f'Esta es la media de Dinamarca de Households with income in second quartile: {dinamarca_media_second}')"
   ]
  },
  {
   "cell_type": "code",
   "execution_count": 39,
   "metadata": {},
   "outputs": [
    {
     "name": "stdout",
     "output_type": "stream",
     "text": [
      "                                   Breakdowns  TIME    Value\n",
      "93   Households with income in third quartile  2006  68.7746\n",
      "94   Households with income in third quartile  2007  81.7569\n",
      "95   Households with income in third quartile  2008  80.1961\n",
      "96   Households with income in third quartile  2009  75.0171\n",
      "97   Households with income in third quartile  2010  78.8139\n",
      "98   Households with income in third quartile  2011  87.4675\n",
      "99   Households with income in third quartile  2012  81.4181\n",
      "100  Households with income in third quartile  2013  93.6700\n",
      "101  Households with income in third quartile  2014  88.2391\n",
      "102  Households with income in third quartile  2016  93.5047\n",
      "103  Households with income in third quartile  2017  94.9710\n",
      "104  Households with income in third quartile  2018  95.6754\n",
      "105  Households with income in third quartile  2019  95.8999\n",
      "106  Households with income in third quartile  2020  96.0885\n",
      "Esta es la media de Dinamarca de Households with income in third quartile: 86.5352\n"
     ]
    }
   ],
   "source": [
    "# Households with income in the third quartile\t\n",
    "dinamarca_third=dinamarca.loc[dinamarca['Breakdowns']=='Households with income in third quartile']\n",
    "print(dinamarca_third)\n",
    "\n",
    "# media\n",
    "dinamarca_media_third=dinamarca_third['Value'].mean()\n",
    "print(f'Esta es la media de Dinamarca de Households with income in third quartile: {dinamarca_media_third}')"
   ]
  },
  {
   "cell_type": "code",
   "execution_count": 40,
   "metadata": {},
   "outputs": [
    {
     "name": "stdout",
     "output_type": "stream",
     "text": [
      "                                   Breakdowns  TIME    Value\n",
      "65  Households with income in fourth quartile  2006  84.8062\n",
      "66  Households with income in fourth quartile  2007  91.4246\n",
      "67  Households with income in fourth quartile  2008  87.8252\n",
      "68  Households with income in fourth quartile  2009  84.7940\n",
      "69  Households with income in fourth quartile  2010  88.4946\n",
      "70  Households with income in fourth quartile  2011  91.4611\n",
      "71  Households with income in fourth quartile  2012  89.0180\n",
      "72  Households with income in fourth quartile  2013  94.9583\n",
      "73  Households with income in fourth quartile  2014  93.6008\n",
      "74  Households with income in fourth quartile  2016  96.8993\n",
      "75  Households with income in fourth quartile  2017  96.7124\n",
      "76  Households with income in fourth quartile  2018  97.5865\n",
      "77  Households with income in fourth quartile  2019  97.5992\n",
      "78  Households with income in fourth quartile  2020  97.6311\n",
      "Esta es la media de Dinamarca de Households with income in fourth quartile: 92.34366428571431\n"
     ]
    }
   ],
   "source": [
    "# Households with income in the fourth quartile\n",
    "dinamarca_fourth=dinamarca.loc[dinamarca['Breakdowns']=='Households with income in fourth quartile']\n",
    "print(dinamarca_fourth)\n",
    "\n",
    "# media\n",
    "dinamarca_media_fourth=dinamarca_fourth['Value'].mean()\n",
    "print(f'Esta es la media de Dinamarca de Households with income in fourth quartile: {dinamarca_media_fourth}')"
   ]
  },
  {
   "cell_type": "code",
   "execution_count": 41,
   "metadata": {},
   "outputs": [
    {
     "name": "stdout",
     "output_type": "stream",
     "text": [
      "                                Breakdowns  TIME    Value\n",
      "17  Households living in large urban areas  2005  59.0963\n",
      "18  Households living in large urban areas  2006  70.3633\n",
      "19  Households living in large urban areas  2007  74.4282\n",
      "20  Households living in large urban areas  2008  78.0068\n",
      "21  Households living in large urban areas  2009  78.9329\n",
      "22  Households living in large urban areas  2010  82.4496\n",
      "23  Households living in large urban areas  2011  85.1371\n",
      "24  Households living in large urban areas  2012  86.7343\n",
      "25  Households living in large urban areas  2013  87.6941\n",
      "26  Households living in large urban areas  2014  87.8744\n",
      "27  Households living in large urban areas  2015  83.0420\n",
      "28  Households living in large urban areas  2016  91.8894\n",
      "29  Households living in large urban areas  2017  93.1906\n",
      "30  Households living in large urban areas  2018  90.3105\n",
      "31  Households living in large urban areas  2019  93.5437\n",
      "32  Households living in large urban areas  2020  93.6869\n",
      "33  Households living in large urban areas  2021  93.9822\n",
      "Esta es la media de Dinamarca de Households living in large urban areas: 84.13895882352939\n"
     ]
    }
   ],
   "source": [
    "# Households living in large urban areas\n",
    "dinamarca_large=dinamarca.loc[dinamarca['Breakdowns']=='Households living in large urban areas']\n",
    "print(dinamarca_large)\n",
    "\n",
    "# media\n",
    "dinamarca_media_large=dinamarca_large['Value'].mean()\n",
    "print(f'Esta es la media de Dinamarca de Households living in large urban areas: {dinamarca_media_large}')"
   ]
  },
  {
   "cell_type": "code",
   "execution_count": 42,
   "metadata": {},
   "outputs": [
    {
     "name": "stdout",
     "output_type": "stream",
     "text": [
      "                          Breakdowns  TIME    Value\n",
      "34  Households living in rural areas  2005  41.5511\n",
      "35  Households living in rural areas  2006  54.8197\n",
      "36  Households living in rural areas  2007  64.0309\n",
      "37  Households living in rural areas  2008  68.7487\n",
      "38  Households living in rural areas  2009  71.6876\n",
      "39  Households living in rural areas  2010  76.2059\n",
      "40  Households living in rural areas  2011  82.6707\n",
      "41  Households living in rural areas  2012  82.6441\n",
      "42  Households living in rural areas  2013  86.2294\n",
      "43  Households living in rural areas  2014  83.1373\n",
      "44  Households living in rural areas  2015  83.3115\n",
      "45  Households living in rural areas  2016  91.3119\n",
      "46  Households living in rural areas  2017  90.8113\n",
      "47  Households living in rural areas  2018  88.0422\n",
      "48  Households living in rural areas  2019  91.1342\n",
      "49  Households living in rural areas  2020  89.4222\n",
      "50  Households living in rural areas  2021  89.7991\n",
      "Esta es la media de Dinamarca de Households living in rural areas: 78.56222352941175\n"
     ]
    }
   ],
   "source": [
    "# Households living in rural areas\n",
    "dinamarca_rural=dinamarca.loc[dinamarca['Breakdowns']=='Households living in rural areas']\n",
    "print(dinamarca_rural)\n",
    "\n",
    "# media\n",
    "dinamarca_media_rural=dinamarca_rural['Value'].mean()\n",
    "print(f'Esta es la media de Dinamarca de Households living in rural areas: {dinamarca_media_rural}')"
   ]
  },
  {
   "cell_type": "code",
   "execution_count": 43,
   "metadata": {},
   "outputs": [
    {
     "name": "stdout",
     "output_type": "stream",
     "text": [
      "                                   Breakdowns  TIME    Value\n",
      "0                            All (households)  2005  28.4090\n",
      "1                            All (households)  2006  36.3961\n",
      "2                            All (households)  2007  46.8177\n",
      "3                            All (households)  2008  53.7733\n",
      "4                            All (households)  2009  60.9001\n",
      "..                                        ...   ...      ...\n",
      "98   Households with income in third quartile  2016  95.8348\n",
      "99   Households with income in third quartile  2017  95.5335\n",
      "100  Households with income in third quartile  2018  94.5603\n",
      "101  Households with income in third quartile  2019  96.6536\n",
      "102  Households with income in third quartile  2020  96.9500\n",
      "\n",
      "[103 rows x 3 columns]\n"
     ]
    }
   ],
   "source": [
    "# Estonia\n",
    "estonia=intento.loc['EST']\n",
    "estonia=estonia.reset_index()\n",
    "print(estonia)\n"
   ]
  },
  {
   "cell_type": "code",
   "execution_count": 44,
   "metadata": {},
   "outputs": [
    {
     "name": "stdout",
     "output_type": "stream",
     "text": [
      "          Breakdowns  TIME    Value\n",
      "0   All (households)  2005  28.4090\n",
      "1   All (households)  2006  36.3961\n",
      "2   All (households)  2007  46.8177\n",
      "3   All (households)  2008  53.7733\n",
      "4   All (households)  2009  60.9001\n",
      "5   All (households)  2010  63.6351\n",
      "6   All (households)  2011  64.9389\n",
      "7   All (households)  2012  73.0381\n",
      "8   All (households)  2013  78.4193\n",
      "9   All (households)  2014  81.2006\n",
      "10  All (households)  2015  86.9123\n",
      "11  All (households)  2016  85.2947\n",
      "12  All (households)  2017  87.3577\n",
      "13  All (households)  2018  89.2878\n",
      "14  All (households)  2019  89.9997\n",
      "15  All (households)  2020  89.1093\n",
      "16  All (households)  2021  90.8716\n",
      "Esta es la media de Estonia de All (households): 70.9624294117647\n"
     ]
    }
   ],
   "source": [
    "# all (households)\n",
    "estonia_all=estonia.loc[estonia['Breakdowns']=='All (households)']\n",
    "print(estonia_all)\n",
    "\n",
    "# media\n",
    "estonia_media=estonia_all['Value'].mean()\n",
    "print(f'Esta es la media de Estonia de All (households): {estonia_media}')\n"
   ]
  },
  {
   "cell_type": "code",
   "execution_count": 45,
   "metadata": {},
   "outputs": [
    {
     "name": "stdout",
     "output_type": "stream",
     "text": [
      "                                  Breakdowns  TIME    Value\n",
      "51  Households with income in first quartile  2008  21.8744\n",
      "52  Households with income in first quartile  2009  29.4567\n",
      "53  Households with income in first quartile  2010  36.7983\n",
      "54  Households with income in first quartile  2011  39.1768\n",
      "55  Households with income in first quartile  2012  42.4982\n",
      "56  Households with income in first quartile  2013  49.7256\n",
      "57  Households with income in first quartile  2014  56.6307\n",
      "58  Households with income in first quartile  2015  67.9740\n",
      "59  Households with income in first quartile  2016  61.5227\n",
      "60  Households with income in first quartile  2017  68.0409\n",
      "61  Households with income in first quartile  2018  74.2786\n",
      "62  Households with income in first quartile  2019  72.8178\n",
      "63  Households with income in first quartile  2020  68.6142\n",
      "Esta es la media de Estonia de Households with income in first quartile: 53.031453846153845\n"
     ]
    }
   ],
   "source": [
    "# Households with income in the first quartile\n",
    "estonia_first=estonia.loc[estonia['Breakdowns']=='Households with income in first quartile']\n",
    "print(estonia_first)\n",
    "\n",
    "# media\n",
    "estonia_media_first=estonia_first['Value'].mean()\n",
    "print(f'Esta es la media de Estonia de Households with income in first quartile: {estonia_media_first}')"
   ]
  },
  {
   "cell_type": "code",
   "execution_count": 46,
   "metadata": {},
   "outputs": [
    {
     "name": "stdout",
     "output_type": "stream",
     "text": [
      "                                   Breakdowns  TIME    Value\n",
      "77  Households with income in second quartile  2008  56.5395\n",
      "78  Households with income in second quartile  2009  58.2355\n",
      "79  Households with income in second quartile  2010  65.0538\n",
      "80  Households with income in second quartile  2011  66.9881\n",
      "81  Households with income in second quartile  2012  69.5217\n",
      "82  Households with income in second quartile  2013  76.7167\n",
      "83  Households with income in second quartile  2014  80.6111\n",
      "84  Households with income in second quartile  2015  85.5474\n",
      "85  Households with income in second quartile  2016  85.4312\n",
      "86  Households with income in second quartile  2017  88.6139\n",
      "87  Households with income in second quartile  2018  90.4580\n",
      "88  Households with income in second quartile  2019  91.5090\n",
      "89  Households with income in second quartile  2020  92.6422\n",
      "Esta es la media de Estonia de Households with income in second quartile: 77.52831538461538\n"
     ]
    }
   ],
   "source": [
    "# Households with income in the second quartile\n",
    "estonia_second=estonia.loc[estonia['Breakdowns']=='Households with income in second quartile']\n",
    "print(estonia_second)\n",
    "\n",
    "# media\n",
    "estonia_media_second=estonia_second['Value'].mean()\n",
    "print(f'Esta es la media de Estonia de Households with income in second quartile: {estonia_media_second}')\n",
    "\n"
   ]
  },
  {
   "cell_type": "code",
   "execution_count": 47,
   "metadata": {},
   "outputs": [
    {
     "name": "stdout",
     "output_type": "stream",
     "text": [
      "                                   Breakdowns  TIME    Value\n",
      "90   Households with income in third quartile  2008  71.3725\n",
      "91   Households with income in third quartile  2009  78.7556\n",
      "92   Households with income in third quartile  2010  78.8860\n",
      "93   Households with income in third quartile  2011  81.8168\n",
      "94   Households with income in third quartile  2012  87.6787\n",
      "95   Households with income in third quartile  2013  90.1838\n",
      "96   Households with income in third quartile  2014  91.1977\n",
      "97   Households with income in third quartile  2015  95.3184\n",
      "98   Households with income in third quartile  2016  95.8348\n",
      "99   Households with income in third quartile  2017  95.5335\n",
      "100  Households with income in third quartile  2018  94.5603\n",
      "101  Households with income in third quartile  2019  96.6536\n",
      "102  Households with income in third quartile  2020  96.9500\n",
      "Esta es la media de Estonia de Households with income in third quartile: 88.82628461538462\n"
     ]
    }
   ],
   "source": [
    "# Households with income in the third quartile\n",
    "estonia_third=estonia.loc[estonia['Breakdowns']=='Households with income in third quartile']\n",
    "print(estonia_third)\n",
    "\n",
    "# media\n",
    "estonia_media_third=estonia_third['Value'].mean()\n",
    "print(f'Esta es la media de Estonia de Households with income in third quartile: {estonia_media_third}')"
   ]
  },
  {
   "cell_type": "code",
   "execution_count": 48,
   "metadata": {},
   "outputs": [
    {
     "name": "stdout",
     "output_type": "stream",
     "text": [
      "                                   Breakdowns  TIME    Value\n",
      "64  Households with income in fourth quartile  2008  80.8888\n",
      "65  Households with income in fourth quartile  2009  91.7137\n",
      "66  Households with income in fourth quartile  2010  88.2484\n",
      "67  Households with income in fourth quartile  2011  85.0029\n",
      "68  Households with income in fourth quartile  2012  95.3509\n",
      "69  Households with income in fourth quartile  2013  96.7610\n",
      "70  Households with income in fourth quartile  2014  96.3218\n",
      "71  Households with income in fourth quartile  2015  98.7744\n",
      "72  Households with income in fourth quartile  2016  98.3822\n",
      "73  Households with income in fourth quartile  2017  97.2354\n",
      "74  Households with income in fourth quartile  2018  97.8351\n",
      "75  Households with income in fourth quartile  2019  99.0017\n",
      "76  Households with income in fourth quartile  2020  98.1999\n",
      "Esta es la media de Estonia de Households with income in fourth quartile: 94.13201538461539\n"
     ]
    }
   ],
   "source": [
    "# Households with income in the fourth quartile\n",
    "estonia_fourth=estonia.loc[estonia['Breakdowns']=='Households with income in fourth quartile']\n",
    "print(estonia_fourth)\n",
    "\n",
    "# media\n",
    "estonia_media_fourth=estonia_fourth['Value'].mean()\n",
    "print(f'Esta es la media de Estonia de Households with income in fourth quartile: {estonia_media_fourth}')"
   ]
  },
  {
   "cell_type": "code",
   "execution_count": 49,
   "metadata": {},
   "outputs": [
    {
     "name": "stdout",
     "output_type": "stream",
     "text": [
      "                                Breakdowns  TIME    Value\n",
      "17  Households living in large urban areas  2005  36.0978\n",
      "18  Households living in large urban areas  2006  42.4993\n",
      "19  Households living in large urban areas  2007  55.9463\n",
      "20  Households living in large urban areas  2008  59.0540\n",
      "21  Households living in large urban areas  2009  68.7855\n",
      "22  Households living in large urban areas  2010  67.8055\n",
      "23  Households living in large urban areas  2011  70.7609\n",
      "24  Households living in large urban areas  2012  80.3310\n",
      "25  Households living in large urban areas  2013  85.4940\n",
      "26  Households living in large urban areas  2014  84.2014\n",
      "27  Households living in large urban areas  2015  88.5748\n",
      "28  Households living in large urban areas  2016  88.9307\n",
      "29  Households living in large urban areas  2017  90.5582\n",
      "30  Households living in large urban areas  2018  90.4095\n",
      "31  Households living in large urban areas  2019  91.2814\n",
      "32  Households living in large urban areas  2020  90.5422\n",
      "33  Households living in large urban areas  2021  93.7587\n",
      "Esta es la media de Estonia de Households living in large urban areas: 75.5900705882353\n"
     ]
    }
   ],
   "source": [
    "# Households living in large urban areas\n",
    "estonia_large=estonia.loc[estonia['Breakdowns']=='Households living in large urban areas']\n",
    "print(estonia_large)\n",
    "\n",
    "# media\n",
    "estonia_media_large=estonia_large['Value'].mean()\n",
    "print(f'Esta es la media de Estonia de Households living in large urban areas: {estonia_media_large}')"
   ]
  },
  {
   "cell_type": "code",
   "execution_count": 50,
   "metadata": {},
   "outputs": [
    {
     "name": "stdout",
     "output_type": "stream",
     "text": [
      "                          Breakdowns  TIME    Value\n",
      "34  Households living in rural areas  2005  20.5853\n",
      "35  Households living in rural areas  2006  30.2580\n",
      "36  Households living in rural areas  2007  37.4959\n",
      "37  Households living in rural areas  2008  47.6999\n",
      "38  Households living in rural areas  2009  52.6916\n",
      "39  Households living in rural areas  2010  59.3794\n",
      "40  Households living in rural areas  2011  59.6528\n",
      "41  Households living in rural areas  2012  67.8490\n",
      "42  Households living in rural areas  2013  73.3763\n",
      "43  Households living in rural areas  2014  77.8372\n",
      "44  Households living in rural areas  2015  84.2425\n",
      "45  Households living in rural areas  2016  82.2931\n",
      "46  Households living in rural areas  2017  84.7456\n",
      "47  Households living in rural areas  2018  88.0961\n",
      "48  Households living in rural areas  2019  89.2286\n",
      "49  Households living in rural areas  2020  88.3085\n",
      "50  Households living in rural areas  2021  88.7181\n",
      "Esta es la media de Estonia de Households living in rural areas: 66.6151705882353\n"
     ]
    }
   ],
   "source": [
    "# Households living in rural areas\n",
    "estonia_rural=estonia.loc[estonia['Breakdowns']=='Households living in rural areas']\n",
    "print(estonia_rural)\n",
    "\n",
    "# media\n",
    "estonia_media_rural=estonia_rural['Value'].mean()\n",
    "print(f'Esta es la media de Estonia de Households living in rural areas: {estonia_media_rural}')"
   ]
  },
  {
   "cell_type": "code",
   "execution_count": 51,
   "metadata": {},
   "outputs": [
    {
     "name": "stdout",
     "output_type": "stream",
     "text": [
      "                                   Breakdowns  TIME    Value\n",
      "0                            All (households)  2005  36.0883\n",
      "1                            All (households)  2006  52.8619\n",
      "2                            All (households)  2007  62.8782\n",
      "3                            All (households)  2008  66.1444\n",
      "4                            All (households)  2009  73.7382\n",
      "..                                        ...   ...      ...\n",
      "106  Households with income in third quartile  2016  97.5958\n",
      "107  Households with income in third quartile  2017  98.9373\n",
      "108  Households with income in third quartile  2018  98.2131\n",
      "109  Households with income in third quartile  2019  98.3991\n",
      "110  Households with income in third quartile  2020  98.8821\n",
      "\n",
      "[111 rows x 3 columns]\n"
     ]
    }
   ],
   "source": [
    "# Finlandia\n",
    "finlandia=intento.loc['FIN']\n",
    "finlandia=finlandia.reset_index()\n",
    "print(finlandia)\n",
    "\n"
   ]
  },
  {
   "cell_type": "code",
   "execution_count": 52,
   "metadata": {},
   "outputs": [
    {
     "name": "stdout",
     "output_type": "stream",
     "text": [
      "          Breakdowns  TIME    Value\n",
      "0   All (households)  2005  36.0883\n",
      "1   All (households)  2006  52.8619\n",
      "2   All (households)  2007  62.8782\n",
      "3   All (households)  2008  66.1444\n",
      "4   All (households)  2009  73.7382\n",
      "5   All (households)  2010  75.8024\n",
      "6   All (households)  2011  81.2968\n",
      "7   All (households)  2012  84.9687\n",
      "8   All (households)  2013  87.9929\n",
      "9   All (households)  2014  88.9160\n",
      "10  All (households)  2015  89.5240\n",
      "11  All (households)  2016  91.2100\n",
      "12  All (households)  2017  93.4095\n",
      "13  All (households)  2018  92.9988\n",
      "14  All (households)  2019  93.0666\n",
      "15  All (households)  2020  94.8272\n",
      "16  All (households)  2021  95.4751\n",
      "Esta es la media de Finlandia de All (households): 80.07052941176471\n"
     ]
    }
   ],
   "source": [
    "# all (households)\n",
    "finlandia_all=finlandia.loc[finlandia['Breakdowns']=='All (households)']\n",
    "print(finlandia_all)\n",
    "\n",
    "# media\n",
    "finlandia_media=finlandia_all['Value'].mean()\n",
    "print(f'Esta es la media de Finlandia de All (households): {finlandia_media}')"
   ]
  },
  {
   "cell_type": "code",
   "execution_count": 53,
   "metadata": {},
   "outputs": [
    {
     "name": "stdout",
     "output_type": "stream",
     "text": [
      "                                  Breakdowns  TIME    Value\n",
      "51  Households with income in first quartile  2006  33.5124\n",
      "52  Households with income in first quartile  2007  43.5973\n",
      "53  Households with income in first quartile  2008  43.6499\n",
      "54  Households with income in first quartile  2009  56.2083\n",
      "55  Households with income in first quartile  2010  62.0332\n",
      "56  Households with income in first quartile  2011  64.5069\n",
      "57  Households with income in first quartile  2012  69.0046\n",
      "58  Households with income in first quartile  2013  71.3357\n",
      "59  Households with income in first quartile  2014  70.6142\n",
      "60  Households with income in first quartile  2015  74.6758\n",
      "61  Households with income in first quartile  2016  78.7105\n",
      "62  Households with income in first quartile  2017  84.9621\n",
      "63  Households with income in first quartile  2018  84.4564\n",
      "64  Households with income in first quartile  2019  83.1674\n",
      "65  Households with income in first quartile  2020  87.9381\n",
      "Esta es la media de Finlandia de Households with income in first quartile: 67.22485333333333\n"
     ]
    }
   ],
   "source": [
    "# Households with income in the first quartile\n",
    "finlandia_first=finlandia.loc[finlandia['Breakdowns']=='Households with income in first quartile']\n",
    "print(finlandia_first)\n",
    "\n",
    "# media\n",
    "finlandia_media_first=finlandia_first['Value'].mean()\n",
    "print(f'Esta es la media de Finlandia de Households with income in first quartile: {finlandia_media_first}')\n"
   ]
  },
  {
   "cell_type": "code",
   "execution_count": 54,
   "metadata": {},
   "outputs": [
    {
     "name": "stdout",
     "output_type": "stream",
     "text": [
      "                                   Breakdowns  TIME    Value\n",
      "81  Households with income in second quartile  2006  36.4989\n",
      "82  Households with income in second quartile  2007  55.0190\n",
      "83  Households with income in second quartile  2008  57.8226\n",
      "84  Households with income in second quartile  2009  75.8505\n",
      "85  Households with income in second quartile  2010  80.7335\n",
      "86  Households with income in second quartile  2011  84.6985\n",
      "87  Households with income in second quartile  2012  83.9688\n",
      "88  Households with income in second quartile  2013  85.8927\n",
      "89  Households with income in second quartile  2014  87.9315\n",
      "90  Households with income in second quartile  2015  92.7265\n",
      "91  Households with income in second quartile  2016  92.0004\n",
      "92  Households with income in second quartile  2017  94.1182\n",
      "93  Households with income in second quartile  2018  93.6610\n",
      "94  Households with income in second quartile  2019  93.6953\n",
      "95  Households with income in second quartile  2020  97.1596\n",
      "Esta es la media de Finlandia de Households with income in second quartile: 80.78513333333333\n"
     ]
    }
   ],
   "source": [
    "# Households with income in the second quartile\n",
    "finlandia_second=finlandia.loc[finlandia['Breakdowns']=='Households with income in second quartile']\n",
    "print(finlandia_second)\n",
    "\n",
    "# media\n",
    "finlandia_media_second=finlandia_second['Value'].mean()\n",
    "print(f'Esta es la media de Finlandia de Households with income in second quartile: {finlandia_media_second}')\n"
   ]
  },
  {
   "cell_type": "code",
   "execution_count": 55,
   "metadata": {},
   "outputs": [
    {
     "name": "stdout",
     "output_type": "stream",
     "text": [
      "                                   Breakdowns  TIME    Value\n",
      "96   Households with income in third quartile  2006  56.9669\n",
      "97   Households with income in third quartile  2007  76.5775\n",
      "98   Households with income in third quartile  2008  79.6365\n",
      "99   Households with income in third quartile  2009  88.8828\n",
      "100  Households with income in third quartile  2010  87.3821\n",
      "101  Households with income in third quartile  2011  93.3205\n",
      "102  Households with income in third quartile  2012  93.9126\n",
      "103  Households with income in third quartile  2013  94.3118\n",
      "104  Households with income in third quartile  2014  96.3285\n",
      "105  Households with income in third quartile  2015  95.3744\n",
      "106  Households with income in third quartile  2016  97.5958\n",
      "107  Households with income in third quartile  2017  98.9373\n",
      "108  Households with income in third quartile  2018  98.2131\n",
      "109  Households with income in third quartile  2019  98.3991\n",
      "110  Households with income in third quartile  2020  98.8821\n",
      "Esta es la media de Finlandia de Households with income in third quartile: 90.31473333333335\n"
     ]
    }
   ],
   "source": [
    "# Households with income in the third quartile\n",
    "finlandia_third=finlandia.loc[finlandia['Breakdowns']=='Households with income in third quartile']\n",
    "print(finlandia_third)\n",
    "\n",
    "# media\n",
    "finlandia_media_third=finlandia_third['Value'].mean()\n",
    "print(f'Esta es la media de Finlandia de Households with income in third quartile: {finlandia_media_third}')\n"
   ]
  },
  {
   "cell_type": "code",
   "execution_count": 56,
   "metadata": {},
   "outputs": [
    {
     "name": "stdout",
     "output_type": "stream",
     "text": [
      "                                   Breakdowns  TIME    Value\n",
      "66  Households with income in fourth quartile  2006  74.2038\n",
      "67  Households with income in fourth quartile  2007  90.0183\n",
      "68  Households with income in fourth quartile  2008  88.2442\n",
      "69  Households with income in fourth quartile  2009  92.4162\n",
      "70  Households with income in fourth quartile  2010  92.2149\n",
      "71  Households with income in fourth quartile  2011  96.0095\n",
      "72  Households with income in fourth quartile  2012  96.6630\n",
      "73  Households with income in fourth quartile  2013  98.9918\n",
      "74  Households with income in fourth quartile  2014  98.5798\n",
      "75  Households with income in fourth quartile  2015  99.0869\n",
      "76  Households with income in fourth quartile  2016  99.2370\n",
      "77  Households with income in fourth quartile  2017  99.8522\n",
      "78  Households with income in fourth quartile  2018  98.7630\n",
      "79  Households with income in fourth quartile  2019  99.6866\n",
      "80  Households with income in fourth quartile  2020  99.1756\n",
      "Esta es la media de Finlandia de Households with income in fourth quartile: 94.87618666666667\n"
     ]
    }
   ],
   "source": [
    "# Households with income in the fourth quartile\n",
    "finlandia_fourth=finlandia.loc[finlandia['Breakdowns']=='Households with income in fourth quartile']\n",
    "print(finlandia_fourth)\n",
    "\n",
    "# media\n",
    "finlandia_media_fourth=finlandia_fourth['Value'].mean()\n",
    "print(f'Esta es la media de Finlandia de Households with income in fourth quartile: {finlandia_media_fourth}')"
   ]
  },
  {
   "cell_type": "code",
   "execution_count": 57,
   "metadata": {},
   "outputs": [
    {
     "name": "stdout",
     "output_type": "stream",
     "text": [
      "                                Breakdowns  TIME    Value\n",
      "17  Households living in large urban areas  2005  43.2740\n",
      "18  Households living in large urban areas  2006  59.6637\n",
      "19  Households living in large urban areas  2007  71.6298\n",
      "20  Households living in large urban areas  2008  72.1540\n",
      "21  Households living in large urban areas  2009  82.1000\n",
      "22  Households living in large urban areas  2010  83.4625\n",
      "23  Households living in large urban areas  2011  86.4040\n",
      "24  Households living in large urban areas  2012  89.6706\n",
      "25  Households living in large urban areas  2013  91.5930\n",
      "26  Households living in large urban areas  2014  92.9050\n",
      "27  Households living in large urban areas  2015  93.4832\n",
      "28  Households living in large urban areas  2016  94.5092\n",
      "29  Households living in large urban areas  2017  96.4297\n",
      "30  Households living in large urban areas  2018  94.5515\n",
      "31  Households living in large urban areas  2019  96.3501\n",
      "32  Households living in large urban areas  2020  96.6525\n",
      "33  Households living in large urban areas  2021  97.0874\n",
      "Esta es la media de Finlandia de Households living in large urban areas: 84.81883529411765\n"
     ]
    }
   ],
   "source": [
    "# Households living in large urban areas\n",
    "finlandia_large=finlandia.loc[finlandia['Breakdowns']=='Households living in large urban areas']\n",
    "print(finlandia_large)\n",
    "\n",
    "# media\n",
    "finlandia_media_large=finlandia_large['Value'].mean()\n",
    "print(f'Esta es la media de Finlandia de Households living in large urban areas: {finlandia_media_large}')\n"
   ]
  },
  {
   "cell_type": "code",
   "execution_count": 58,
   "metadata": {},
   "outputs": [
    {
     "name": "stdout",
     "output_type": "stream",
     "text": [
      "                          Breakdowns  TIME    Value\n",
      "34  Households living in rural areas  2005  30.2959\n",
      "35  Households living in rural areas  2006  45.2931\n",
      "36  Households living in rural areas  2007  56.4357\n",
      "37  Households living in rural areas  2008  61.7594\n",
      "38  Households living in rural areas  2009  68.8955\n",
      "39  Households living in rural areas  2010  72.4980\n",
      "40  Households living in rural areas  2011  78.5482\n",
      "41  Households living in rural areas  2012  82.8934\n",
      "42  Households living in rural areas  2013  84.5588\n",
      "43  Households living in rural areas  2014  85.1825\n",
      "44  Households living in rural areas  2015  84.9942\n",
      "45  Households living in rural areas  2016  86.6609\n",
      "46  Households living in rural areas  2017  89.5333\n",
      "47  Households living in rural areas  2018  90.9509\n",
      "48  Households living in rural areas  2019  90.9718\n",
      "49  Households living in rural areas  2020  92.7139\n",
      "50  Households living in rural areas  2021  93.8385\n",
      "Esta es la media de Finlandia de Households living in rural areas: 76.23670588235295\n"
     ]
    }
   ],
   "source": [
    "# Households living in rural areas\n",
    "finlandia_rural=finlandia.loc[finlandia['Breakdowns']=='Households living in rural areas']\n",
    "print(finlandia_rural)\n",
    "\n",
    "# media\n",
    "finlandia_media_rural=finlandia_rural['Value'].mean()\n",
    "print(f'Esta es la media de Finlandia de Households living in rural areas: {finlandia_media_rural}')\n"
   ]
  },
  {
   "cell_type": "code",
   "execution_count": 59,
   "metadata": {},
   "outputs": [
    {
     "name": "stdout",
     "output_type": "stream",
     "text": [
      "                                  Breakdowns  TIME    Value\n",
      "0                           All (households)  2006  30.2603\n",
      "1                           All (households)  2007  48.9039\n",
      "2                           All (households)  2008  57.0997\n",
      "3                           All (households)  2009  62.7416\n",
      "4                           All (households)  2010  66.3910\n",
      "..                                       ...   ...      ...\n",
      "72  Households with income in third quartile  2015  81.5283\n",
      "73  Households with income in third quartile  2016  82.6914\n",
      "74  Households with income in third quartile  2017  84.5269\n",
      "75  Households with income in third quartile  2018  85.6350\n",
      "76  Households with income in third quartile  2019  86.2917\n",
      "\n",
      "[77 rows x 3 columns]\n"
     ]
    }
   ],
   "source": [
    "# Francia\n",
    "francia=intento.loc['FRA']\n",
    "francia=francia.reset_index()\n",
    "print(francia)"
   ]
  },
  {
   "cell_type": "code",
   "execution_count": 60,
   "metadata": {},
   "outputs": [
    {
     "name": "stdout",
     "output_type": "stream",
     "text": [
      "          Breakdowns  TIME    Value\n",
      "0   All (households)  2006  30.2603\n",
      "1   All (households)  2007  48.9039\n",
      "2   All (households)  2008  57.0997\n",
      "3   All (households)  2009  62.7416\n",
      "4   All (households)  2010  66.3910\n",
      "5   All (households)  2011  69.9495\n",
      "6   All (households)  2012  77.2335\n",
      "7   All (households)  2013  78.3743\n",
      "8   All (households)  2014  76.6883\n",
      "9   All (households)  2015  76.0871\n",
      "10  All (households)  2016  79.2876\n",
      "11  All (households)  2017  79.1813\n",
      "12  All (households)  2018  81.3062\n",
      "13  All (households)  2019  82.8373\n",
      "14  All (households)  2021  88.1137\n",
      "Esta es la media de Francia de All (households): 70.29702\n"
     ]
    }
   ],
   "source": [
    "# all (households)\n",
    "francia_all=francia.loc[francia['Breakdowns']=='All (households)']\n",
    "print(francia_all)\n",
    "\n",
    "# media\n",
    "francia_media=francia_all['Value'].mean()\n",
    "print(f'Esta es la media de Francia de All (households): {francia_media}')"
   ]
  },
  {
   "cell_type": "code",
   "execution_count": 61,
   "metadata": {},
   "outputs": [
    {
     "name": "stdout",
     "output_type": "stream",
     "text": [
      "                                  Breakdowns  TIME    Value\n",
      "45  Households with income in first quartile  2006  17.9975\n",
      "46  Households with income in first quartile  2013  60.1520\n",
      "47  Households with income in first quartile  2014  60.0640\n",
      "48  Households with income in first quartile  2015  56.6751\n",
      "49  Households with income in first quartile  2016  65.6614\n",
      "50  Households with income in first quartile  2017  62.7425\n",
      "51  Households with income in first quartile  2018  68.0987\n",
      "52  Households with income in first quartile  2019  70.7852\n",
      "Esta es la media de Francia de Households with income in first quartile: 57.77204999999999\n"
     ]
    }
   ],
   "source": [
    "# Households with income in the first quartile\n",
    "francia_first=francia.loc[francia['Breakdowns']=='Households with income in first quartile']\n",
    "print(francia_first)\n",
    "\n",
    "# media\n",
    "francia_media_first=francia_first['Value'].mean()\n",
    "print(f'Esta es la media de Francia de Households with income in first quartile: {francia_media_first}')"
   ]
  },
  {
   "cell_type": "code",
   "execution_count": 62,
   "metadata": {},
   "outputs": [
    {
     "name": "stdout",
     "output_type": "stream",
     "text": [
      "                                   Breakdowns  TIME    Value\n",
      "61  Households with income in second quartile  2006  24.9173\n",
      "62  Households with income in second quartile  2013  72.7863\n",
      "63  Households with income in second quartile  2014  69.2549\n",
      "64  Households with income in second quartile  2015  70.6028\n",
      "65  Households with income in second quartile  2016  75.1683\n",
      "66  Households with income in second quartile  2017  74.6431\n",
      "67  Households with income in second quartile  2018  76.6675\n",
      "68  Households with income in second quartile  2019  79.4400\n",
      "Esta es la media de Francia de Households with income in second quartile: 67.935025\n"
     ]
    }
   ],
   "source": [
    "# Households with income in the second quartile\n",
    "francia_second=francia.loc[francia['Breakdowns']=='Households with income in second quartile']\n",
    "print(francia_second)\n",
    "\n",
    "# media\n",
    "francia_media_second=francia_second['Value'].mean()\n",
    "print(f'Esta es la media de Francia de Households with income in second quartile: {francia_media_second}')"
   ]
  },
  {
   "cell_type": "code",
   "execution_count": 63,
   "metadata": {},
   "outputs": [
    {
     "name": "stdout",
     "output_type": "stream",
     "text": [
      "                                  Breakdowns  TIME    Value\n",
      "69  Households with income in third quartile  2006  32.4469\n",
      "70  Households with income in third quartile  2013  83.2088\n",
      "71  Households with income in third quartile  2014  81.5656\n",
      "72  Households with income in third quartile  2015  81.5283\n",
      "73  Households with income in third quartile  2016  82.6914\n",
      "74  Households with income in third quartile  2017  84.5269\n",
      "75  Households with income in third quartile  2018  85.6350\n",
      "76  Households with income in third quartile  2019  86.2917\n",
      "Esta es la media de Francia de Households with income in third quartile: 77.236825\n"
     ]
    }
   ],
   "source": [
    "# Households with income in the third quartile\n",
    "fancia_third=francia.loc[francia['Breakdowns']=='Households with income in third quartile']\n",
    "print(fancia_third)\n",
    "\n",
    "# media\n",
    "francia_media_third=fancia_third['Value'].mean()\n",
    "print(f'Esta es la media de Francia de Households with income in third quartile: {francia_media_third}')\n"
   ]
  },
  {
   "cell_type": "code",
   "execution_count": 64,
   "metadata": {},
   "outputs": [
    {
     "name": "stdout",
     "output_type": "stream",
     "text": [
      "                                   Breakdowns  TIME    Value\n",
      "53  Households with income in fourth quartile  2006  45.5475\n",
      "54  Households with income in fourth quartile  2013  93.6417\n",
      "55  Households with income in fourth quartile  2014  92.8444\n",
      "56  Households with income in fourth quartile  2015  92.7084\n",
      "57  Households with income in fourth quartile  2016  91.3823\n",
      "58  Households with income in fourth quartile  2017  92.4467\n",
      "59  Households with income in fourth quartile  2018  93.1169\n",
      "60  Households with income in fourth quartile  2019  93.9388\n",
      "Esta es la media de Francia de Households with income in fourth quartile: 86.9533375\n"
     ]
    }
   ],
   "source": [
    "# Households with income in the fourth quartile\n",
    "francia_fourth=francia.loc[francia['Breakdowns']=='Households with income in fourth quartile']\n",
    "print(francia_fourth)\n",
    "\n",
    "# media\n",
    "francia_media_fourth=francia_fourth['Value'].mean()\n",
    "print(f'Esta es la media de Francia de Households with income in fourth quartile: {francia_media_fourth}')"
   ]
  },
  {
   "cell_type": "code",
   "execution_count": 65,
   "metadata": {},
   "outputs": [
    {
     "name": "stdout",
     "output_type": "stream",
     "text": [
      "                                Breakdowns  TIME    Value\n",
      "15  Households living in large urban areas  2006  37.2833\n",
      "16  Households living in large urban areas  2007  52.1554\n",
      "17  Households living in large urban areas  2008  60.0402\n",
      "18  Households living in large urban areas  2009  65.9097\n",
      "19  Households living in large urban areas  2010  74.2808\n",
      "20  Households living in large urban areas  2011  74.7032\n",
      "21  Households living in large urban areas  2012  81.0931\n",
      "22  Households living in large urban areas  2013  81.4491\n",
      "23  Households living in large urban areas  2014  79.9767\n",
      "24  Households living in large urban areas  2015  78.9886\n",
      "25  Households living in large urban areas  2016  82.0206\n",
      "26  Households living in large urban areas  2017  83.8400\n",
      "27  Households living in large urban areas  2018  85.2662\n",
      "28  Households living in large urban areas  2019  87.8130\n",
      "29  Households living in large urban areas  2021  92.4500\n",
      "Esta es la media de Francia de Households living in large urban areas: 74.48466\n"
     ]
    }
   ],
   "source": [
    "# Households living in large urban areas\n",
    "francia_large=francia.loc[francia['Breakdowns']=='Households living in large urban areas']\n",
    "print(francia_large)\n",
    "\n",
    "# media\n",
    "francia_media_large=francia_large['Value'].mean()\n",
    "print(f'Esta es la media de Francia de Households living in large urban areas: {francia_media_large}')"
   ]
  },
  {
   "cell_type": "code",
   "execution_count": 66,
   "metadata": {},
   "outputs": [
    {
     "name": "stdout",
     "output_type": "stream",
     "text": [
      "                          Breakdowns  TIME    Value\n",
      "30  Households living in rural areas  2006  18.2840\n",
      "31  Households living in rural areas  2007  37.7166\n",
      "32  Households living in rural areas  2008  50.8284\n",
      "33  Households living in rural areas  2009  58.0878\n",
      "34  Households living in rural areas  2010  51.2581\n",
      "35  Households living in rural areas  2011  60.7981\n",
      "36  Households living in rural areas  2012  74.3382\n",
      "37  Households living in rural areas  2013  75.3582\n",
      "38  Households living in rural areas  2014  72.6788\n",
      "39  Households living in rural areas  2015  72.7712\n",
      "40  Households living in rural areas  2016  74.9999\n",
      "41  Households living in rural areas  2017  74.0805\n",
      "42  Households living in rural areas  2018  76.7685\n",
      "43  Households living in rural areas  2019  77.1398\n",
      "44  Households living in rural areas  2021  82.1902\n",
      "Esta es la media de Francia de Households living in rural areas: 63.819886666666676\n"
     ]
    }
   ],
   "source": [
    "# Households living in rural areas\n",
    "francia_rural=francia.loc[francia['Breakdowns']=='Households living in rural areas']\n",
    "print(francia_rural)\n",
    "\n",
    "# media\n",
    "francia_media_rural=francia_rural['Value'].mean()\n",
    "print(f'Esta es la media de Francia de Households living in rural areas: {francia_media_rural}')"
   ]
  },
  {
   "cell_type": "code",
   "execution_count": 67,
   "metadata": {},
   "outputs": [
    {
     "name": "stdout",
     "output_type": "stream",
     "text": [
      "                                   Breakdowns  TIME    Value\n",
      "0                            All (households)  2005  23.2448\n",
      "1                            All (households)  2006  33.5357\n",
      "2                            All (households)  2007  49.5664\n",
      "3                            All (households)  2008  54.8585\n",
      "4                            All (households)  2009  64.5849\n",
      "..                                        ...   ...      ...\n",
      "100  Households with income in third quartile  2016  93.9173\n",
      "101  Households with income in third quartile  2017  96.7376\n",
      "102  Households with income in third quartile  2018  93.8970\n",
      "103  Households with income in third quartile  2019  97.8703\n",
      "104  Households with income in third quartile  2020  98.7053\n",
      "\n",
      "[105 rows x 3 columns]\n"
     ]
    }
   ],
   "source": [
    "# Alemania\n",
    "alemania=intento.loc['DEU']\n",
    "alemania=alemania.reset_index()\n",
    "print(alemania)"
   ]
  },
  {
   "cell_type": "code",
   "execution_count": 68,
   "metadata": {},
   "outputs": [
    {
     "name": "stdout",
     "output_type": "stream",
     "text": [
      "          Breakdowns  TIME    Value\n",
      "0   All (households)  2005  23.2448\n",
      "1   All (households)  2006  33.5357\n",
      "2   All (households)  2007  49.5664\n",
      "3   All (households)  2008  54.8585\n",
      "4   All (households)  2009  64.5849\n",
      "5   All (households)  2010  75.2013\n",
      "6   All (households)  2011  77.5217\n",
      "7   All (households)  2012  81.5248\n",
      "8   All (households)  2013  84.7878\n",
      "9   All (households)  2014  86.5778\n",
      "10  All (households)  2015  87.8287\n",
      "11  All (households)  2016  89.5972\n",
      "12  All (households)  2017  91.6003\n",
      "13  All (households)  2018  90.2508\n",
      "14  All (households)  2019  93.9261\n",
      "15  All (households)  2020  94.8271\n",
      "16  All (households)  2021  88.8377\n",
      "Esta es la media de Alemania de All (households): 74.60421176470588\n"
     ]
    }
   ],
   "source": [
    "# all (households)\n",
    "alemania_all=alemania.loc[alemania['Breakdowns']=='All (households)']\n",
    "print(alemania_all)\n",
    "\n",
    "# media\n",
    "alemania_media=alemania_all['Value'].mean()\n",
    "print(f'Esta es la media de Alemania de All (households): {alemania_media}')"
   ]
  },
  {
   "cell_type": "code",
   "execution_count": 69,
   "metadata": {},
   "outputs": [
    {
     "name": "stdout",
     "output_type": "stream",
     "text": [
      "                                  Breakdowns  TIME    Value\n",
      "49  Households with income in first quartile  2006  16.2187\n",
      "50  Households with income in first quartile  2007  27.3649\n",
      "51  Households with income in first quartile  2008  33.9510\n",
      "52  Households with income in first quartile  2009  41.5575\n",
      "53  Households with income in first quartile  2011  59.6447\n",
      "54  Households with income in first quartile  2012  63.1632\n",
      "55  Households with income in first quartile  2013  69.9291\n",
      "56  Households with income in first quartile  2014  70.8683\n",
      "57  Households with income in first quartile  2015  73.4698\n",
      "58  Households with income in first quartile  2016  75.4107\n",
      "59  Households with income in first quartile  2017  79.4872\n",
      "60  Households with income in first quartile  2018  80.9853\n",
      "61  Households with income in first quartile  2019  83.8986\n",
      "62  Households with income in first quartile  2020  85.6789\n",
      "Esta es la media de Alemania de Households with income in first quartile: 61.544850000000004\n"
     ]
    }
   ],
   "source": [
    "# Households with income in the first quartile\n",
    "alemania_first=alemania.loc[alemania['Breakdowns']=='Households with income in first quartile']\n",
    "print(alemania_first)\n",
    "\n",
    "# media\n",
    "alemania_media_first=alemania_first['Value'].mean()\n",
    "print(f'Esta es la media de Alemania de Households with income in first quartile: {alemania_media_first}')"
   ]
  },
  {
   "cell_type": "code",
   "execution_count": 70,
   "metadata": {},
   "outputs": [
    {
     "name": "stdout",
     "output_type": "stream",
     "text": [
      "                                   Breakdowns  TIME    Value\n",
      "77  Households with income in second quartile  2006  24.6417\n",
      "78  Households with income in second quartile  2007  39.4313\n",
      "79  Households with income in second quartile  2008  42.2045\n",
      "80  Households with income in second quartile  2009  54.5652\n",
      "81  Households with income in second quartile  2011  73.6381\n",
      "82  Households with income in second quartile  2012  78.2116\n",
      "83  Households with income in second quartile  2013  80.7152\n",
      "84  Households with income in second quartile  2014  83.1468\n",
      "85  Households with income in second quartile  2015  84.7103\n",
      "86  Households with income in second quartile  2016  88.0455\n",
      "87  Households with income in second quartile  2017  92.5126\n",
      "88  Households with income in second quartile  2018  89.9422\n",
      "89  Households with income in second quartile  2019  94.5776\n",
      "90  Households with income in second quartile  2020  95.4158\n",
      "Esta es la media de Alemania de Households with income in second quartile: 72.98274285714284\n"
     ]
    }
   ],
   "source": [
    "# Households with income in the second quartile\n",
    "alemania_second=alemania.loc[alemania['Breakdowns']=='Households with income in second quartile']\n",
    "print(alemania_second)\n",
    "\n",
    "# media\n",
    "alemania_media_second=alemania_second['Value'].mean()\n",
    "print(f'Esta es la media de Alemania de Households with income in second quartile: {alemania_media_second}')"
   ]
  },
  {
   "cell_type": "code",
   "execution_count": 71,
   "metadata": {},
   "outputs": [
    {
     "name": "stdout",
     "output_type": "stream",
     "text": [
      "                                   Breakdowns  TIME    Value\n",
      "91   Households with income in third quartile  2006  34.9301\n",
      "92   Households with income in third quartile  2007  53.5656\n",
      "93   Households with income in third quartile  2008  59.4348\n",
      "94   Households with income in third quartile  2009  68.2984\n",
      "95   Households with income in third quartile  2011  84.5380\n",
      "96   Households with income in third quartile  2012  89.6970\n",
      "97   Households with income in third quartile  2013  90.8580\n",
      "98   Households with income in third quartile  2014  93.0398\n",
      "99   Households with income in third quartile  2015  92.6707\n",
      "100  Households with income in third quartile  2016  93.9173\n",
      "101  Households with income in third quartile  2017  96.7376\n",
      "102  Households with income in third quartile  2018  93.8970\n",
      "103  Households with income in third quartile  2019  97.8703\n",
      "104  Households with income in third quartile  2020  98.7053\n",
      "Esta es la media de Alemania de Households with income in third quartile: 82.01142142857144\n"
     ]
    }
   ],
   "source": [
    "# Households with income in the third quartile\n",
    "alemania_third=alemania.loc[alemania['Breakdowns']=='Households with income in third quartile']\n",
    "print(alemania_third)\n",
    "\n",
    "# media\n",
    "alemania_media_third=alemania_third['Value'].mean()\n",
    "print(f'Esta es la media de Alemania de Households with income in third quartile: {alemania_media_third}')"
   ]
  },
  {
   "cell_type": "code",
   "execution_count": 72,
   "metadata": {},
   "outputs": [
    {
     "name": "stdout",
     "output_type": "stream",
     "text": [
      "                                   Breakdowns  TIME    Value\n",
      "63  Households with income in fourth quartile  2006  52.9181\n",
      "64  Households with income in fourth quartile  2007  71.3523\n",
      "65  Households with income in fourth quartile  2008  75.7095\n",
      "66  Households with income in fourth quartile  2009  84.3889\n",
      "67  Households with income in fourth quartile  2011  92.9971\n",
      "68  Households with income in fourth quartile  2012  95.8992\n",
      "69  Households with income in fourth quartile  2013  96.8924\n",
      "70  Households with income in fourth quartile  2014  97.3745\n",
      "71  Households with income in fourth quartile  2015  97.6503\n",
      "72  Households with income in fourth quartile  2016  98.0852\n",
      "73  Households with income in fourth quartile  2017  99.1731\n",
      "74  Households with income in fourth quartile  2018  96.3153\n",
      "75  Households with income in fourth quartile  2019  99.2429\n",
      "76  Households with income in fourth quartile  2020  99.5170\n",
      "Esta es la media de Alemania de Households with income in fourth quartile: 89.82255714285714\n"
     ]
    }
   ],
   "source": [
    "# Households with income in the fourth quartile\n",
    "alemania_fourth=alemania.loc[alemania['Breakdowns']=='Households with income in fourth quartile']\n",
    "print(alemania_fourth)\n",
    "\n",
    "# media\n",
    "alemania_media_fourth=alemania_fourth['Value'].mean()\n",
    "print(f'Esta es la media de Alemania de Households with income in fourth quartile: {alemania_media_fourth}')"
   ]
  },
  {
   "cell_type": "code",
   "execution_count": 73,
   "metadata": {},
   "outputs": [
    {
     "name": "stdout",
     "output_type": "stream",
     "text": [
      "                                Breakdowns  TIME    Value\n",
      "17  Households living in large urban areas  2005  24.8373\n",
      "18  Households living in large urban areas  2006  37.3834\n",
      "19  Households living in large urban areas  2007  52.4599\n",
      "20  Households living in large urban areas  2008  56.1896\n",
      "21  Households living in large urban areas  2009  66.8991\n",
      "22  Households living in large urban areas  2010  76.1533\n",
      "23  Households living in large urban areas  2011  78.5688\n",
      "24  Households living in large urban areas  2013  86.1156\n",
      "25  Households living in large urban areas  2014  87.2965\n",
      "26  Households living in large urban areas  2015  88.3849\n",
      "27  Households living in large urban areas  2016  90.2931\n",
      "28  Households living in large urban areas  2017  92.5662\n",
      "29  Households living in large urban areas  2018  91.9848\n",
      "30  Households living in large urban areas  2019  94.5268\n",
      "31  Households living in large urban areas  2020  94.5626\n",
      "32  Households living in large urban areas  2021  89.9966\n",
      "Esta es la media de Alemania de Households living in large urban areas: 75.51365625\n"
     ]
    }
   ],
   "source": [
    "# Households living in large urban areas\n",
    "alemania_large=alemania.loc[alemania['Breakdowns']=='Households living in large urban areas']\n",
    "print(alemania_large)\n",
    "\n",
    "# media\n",
    "alemania_media_large=alemania_large['Value'].mean()\n",
    "print(f'Esta es la media de Alemania de Households living in large urban areas: {alemania_media_large}')"
   ]
  },
  {
   "cell_type": "code",
   "execution_count": 74,
   "metadata": {},
   "outputs": [
    {
     "name": "stdout",
     "output_type": "stream",
     "text": [
      "                          Breakdowns  TIME    Value\n",
      "33  Households living in rural areas  2005  15.3014\n",
      "34  Households living in rural areas  2006  24.0769\n",
      "35  Households living in rural areas  2007  40.0895\n",
      "36  Households living in rural areas  2008  46.4974\n",
      "37  Households living in rural areas  2009  56.8806\n",
      "38  Households living in rural areas  2010  70.3726\n",
      "39  Households living in rural areas  2011  72.4699\n",
      "40  Households living in rural areas  2013  84.2913\n",
      "41  Households living in rural areas  2014  85.6550\n",
      "42  Households living in rural areas  2015  86.9696\n",
      "43  Households living in rural areas  2016  88.4232\n",
      "44  Households living in rural areas  2017  90.3834\n",
      "45  Households living in rural areas  2018  88.5774\n",
      "46  Households living in rural areas  2019  93.0387\n",
      "47  Households living in rural areas  2020  95.1940\n",
      "48  Households living in rural areas  2021  88.1549\n",
      "Esta es la media de Alemania de Households living in rural areas: 70.3984875\n"
     ]
    }
   ],
   "source": [
    "# Households living in rural areas\n",
    "alemania_rural=alemania.loc[alemania['Breakdowns']=='Households living in rural areas']\n",
    "print(alemania_rural)\n",
    "\n",
    "# media\n",
    "alemania_media_rural=alemania_rural['Value'].mean()\n",
    "print(f'Esta es la media de Alemania de Households living in rural areas: {alemania_media_rural}')"
   ]
  },
  {
   "cell_type": "code",
   "execution_count": 75,
   "metadata": {},
   "outputs": [
    {
     "name": "stdout",
     "output_type": "stream",
     "text": [
      "                                   Breakdowns  TIME    Value\n",
      "0                            All (households)  2005  10.9393\n",
      "1                            All (households)  2006  21.5016\n",
      "2                            All (households)  2007  32.4490\n",
      "3                            All (households)  2008  40.8648\n",
      "4                            All (households)  2009  49.5201\n",
      "..                                        ...   ...      ...\n",
      "110  Households with income in third quartile  2016  80.7890\n",
      "111  Households with income in third quartile  2017  80.0965\n",
      "112  Households with income in third quartile  2018  80.8627\n",
      "113  Households with income in third quartile  2019  82.7549\n",
      "114  Households with income in third quartile  2020  94.8830\n",
      "\n",
      "[115 rows x 3 columns]\n"
     ]
    }
   ],
   "source": [
    "# Hungría\n",
    "hungria=intento.loc['HUN']\n",
    "hungria=hungria.reset_index()\n",
    "print(hungria)"
   ]
  },
  {
   "cell_type": "code",
   "execution_count": 76,
   "metadata": {},
   "outputs": [
    {
     "name": "stdout",
     "output_type": "stream",
     "text": [
      "          Breakdowns  TIME    Value\n",
      "0   All (households)  2005  10.9393\n",
      "1   All (households)  2006  21.5016\n",
      "2   All (households)  2007  32.4490\n",
      "3   All (households)  2008  40.8648\n",
      "4   All (households)  2009  49.5201\n",
      "5   All (households)  2010  50.5154\n",
      "6   All (households)  2011  59.0572\n",
      "7   All (households)  2012  66.2590\n",
      "8   All (households)  2013  69.1979\n",
      "9   All (households)  2014  72.5026\n",
      "10  All (households)  2015  74.8645\n",
      "11  All (households)  2016  78.2128\n",
      "12  All (households)  2017  81.8854\n",
      "13  All (households)  2018  82.8661\n",
      "14  All (households)  2019  85.8946\n",
      "15  All (households)  2020  87.2307\n",
      "16  All (households)  2021  90.7809\n",
      "Esta es la media de Hungría de All (households): 62.031876470588244\n"
     ]
    }
   ],
   "source": [
    "# all (households)\n",
    "hungria_all=hungria.loc[hungria['Breakdowns']=='All (households)']\n",
    "print(hungria_all)\n",
    "\n",
    "# media\n",
    "hungria_media=hungria_all['Value'].mean()\n",
    "print(f'Esta es la media de Hungría de All (households): {hungria_media}')"
   ]
  },
  {
   "cell_type": "code",
   "execution_count": 77,
   "metadata": {},
   "outputs": [
    {
     "name": "stdout",
     "output_type": "stream",
     "text": [
      "                                  Breakdowns  TIME    Value\n",
      "51  Households with income in first quartile  2005   8.1580\n",
      "52  Households with income in first quartile  2006   5.6642\n",
      "53  Households with income in first quartile  2007  10.2566\n",
      "54  Households with income in first quartile  2008  14.1861\n",
      "55  Households with income in first quartile  2009  21.7976\n",
      "56  Households with income in first quartile  2010  22.0905\n",
      "57  Households with income in first quartile  2011  27.9299\n",
      "58  Households with income in first quartile  2012  29.5602\n",
      "59  Households with income in first quartile  2013  34.3880\n",
      "60  Households with income in first quartile  2014  37.6878\n",
      "61  Households with income in first quartile  2015  38.3506\n",
      "62  Households with income in first quartile  2016  39.8610\n",
      "63  Households with income in first quartile  2017  44.5640\n",
      "64  Households with income in first quartile  2018  44.5139\n",
      "65  Households with income in first quartile  2019  45.0555\n",
      "66  Households with income in first quartile  2020  59.9711\n",
      "Esta es la media de Hungría de Households with income in first quartile: 30.2521875\n"
     ]
    }
   ],
   "source": [
    "# Households with income in the first quartile\n",
    "hungria_first=hungria.loc[hungria['Breakdowns']=='Households with income in first quartile']\n",
    "print(hungria_first)\n",
    "\n",
    "# media\n",
    "hungria_media_first=hungria_first['Value'].mean()\n",
    "print(f'Esta es la media de Hungría de Households with income in first quartile: {hungria_media_first}')"
   ]
  },
  {
   "cell_type": "code",
   "execution_count": 78,
   "metadata": {},
   "outputs": [
    {
     "name": "stdout",
     "output_type": "stream",
     "text": [
      "                                   Breakdowns  TIME    Value\n",
      "83  Households with income in second quartile  2005   3.9458\n",
      "84  Households with income in second quartile  2006  15.4640\n",
      "85  Households with income in second quartile  2007  22.6620\n",
      "86  Households with income in second quartile  2008  33.1334\n",
      "87  Households with income in second quartile  2009  41.8801\n",
      "88  Households with income in second quartile  2010  43.6002\n",
      "89  Households with income in second quartile  2011  51.0663\n",
      "90  Households with income in second quartile  2012  58.1145\n",
      "91  Households with income in second quartile  2013  59.4540\n",
      "92  Households with income in second quartile  2014  62.4045\n",
      "93  Households with income in second quartile  2015  62.1963\n",
      "94  Households with income in second quartile  2016  62.3155\n",
      "95  Households with income in second quartile  2017  66.1617\n",
      "96  Households with income in second quartile  2018  62.8937\n",
      "97  Households with income in second quartile  2019  64.2538\n",
      "98  Households with income in second quartile  2020  85.6922\n",
      "Esta es la media de Hungría de Households with income in second quartile: 49.702375\n"
     ]
    }
   ],
   "source": [
    "# Households with income in the second quartile\n",
    "hungria_second=hungria.loc[hungria['Breakdowns']=='Households with income in second quartile']\n",
    "print(hungria_second)\n",
    "\n",
    "# media\n",
    "hungria_media_second=hungria_second['Value'].mean()\n",
    "print(f'Esta es la media de Hungría de Households with income in second quartile: {hungria_media_second}')"
   ]
  },
  {
   "cell_type": "code",
   "execution_count": 79,
   "metadata": {},
   "outputs": [
    {
     "name": "stdout",
     "output_type": "stream",
     "text": [
      "                                   Breakdowns  TIME    Value\n",
      "99   Households with income in third quartile  2005   7.9302\n",
      "100  Households with income in third quartile  2006  27.7742\n",
      "101  Households with income in third quartile  2007  46.5792\n",
      "102  Households with income in third quartile  2008  50.9138\n",
      "103  Households with income in third quartile  2009  62.5478\n",
      "104  Households with income in third quartile  2010  62.8685\n",
      "105  Households with income in third quartile  2011  69.1007\n",
      "106  Households with income in third quartile  2012  77.3300\n",
      "107  Households with income in third quartile  2013  78.3140\n",
      "108  Households with income in third quartile  2014  79.7596\n",
      "109  Households with income in third quartile  2015  81.4114\n",
      "110  Households with income in third quartile  2016  80.7890\n",
      "111  Households with income in third quartile  2017  80.0965\n",
      "112  Households with income in third quartile  2018  80.8627\n",
      "113  Households with income in third quartile  2019  82.7549\n",
      "114  Households with income in third quartile  2020  94.8830\n",
      "Esta es la media de Hungría de Households with income in third quartile: 66.49471875\n"
     ]
    }
   ],
   "source": [
    "# Households with income in the third quartile\n",
    "hungria_third=hungria.loc[hungria['Breakdowns']=='Households with income in third quartile']\n",
    "print(hungria_third)\n",
    "\n",
    "# media\n",
    "hungria_media_third=hungria_third['Value'].mean()\n",
    "print(f'Esta es la media de Hungría de Households with income in third quartile: {hungria_media_third}')"
   ]
  },
  {
   "cell_type": "code",
   "execution_count": 80,
   "metadata": {},
   "outputs": [
    {
     "name": "stdout",
     "output_type": "stream",
     "text": [
      "                                   Breakdowns  TIME    Value\n",
      "67  Households with income in fourth quartile  2005  22.5009\n",
      "68  Households with income in fourth quartile  2006  46.6642\n",
      "69  Households with income in fourth quartile  2007  66.2110\n",
      "70  Households with income in fourth quartile  2008  72.1846\n",
      "71  Households with income in fourth quartile  2009  80.1211\n",
      "72  Households with income in fourth quartile  2010  76.8290\n",
      "73  Households with income in fourth quartile  2011  85.5429\n",
      "74  Households with income in fourth quartile  2012  92.6247\n",
      "75  Households with income in fourth quartile  2013  93.1899\n",
      "76  Households with income in fourth quartile  2014  94.3306\n",
      "77  Households with income in fourth quartile  2015  94.3321\n",
      "78  Households with income in fourth quartile  2016  94.8104\n",
      "79  Households with income in fourth quartile  2017  95.6456\n",
      "80  Households with income in fourth quartile  2018  94.7022\n",
      "81  Households with income in fourth quartile  2019  95.8331\n",
      "82  Households with income in fourth quartile  2020  98.9337\n",
      "Esta es la media de Hungría de Households with income in fourth quartile: 81.52850000000001\n"
     ]
    }
   ],
   "source": [
    "# Households with income in the fourth quartile\n",
    "hungria_fourth=hungria.loc[hungria['Breakdowns']=='Households with income in fourth quartile']\n",
    "print(hungria_fourth)\n",
    "\n",
    "# media\n",
    "hungria_media_fourth=hungria_fourth['Value'].mean()\n",
    "print(f'Esta es la media de Hungría de Households with income in fourth quartile: {hungria_media_fourth}')"
   ]
  },
  {
   "cell_type": "code",
   "execution_count": 81,
   "metadata": {},
   "outputs": [
    {
     "name": "stdout",
     "output_type": "stream",
     "text": [
      "                                Breakdowns  TIME    Value\n",
      "17  Households living in large urban areas  2005  18.5800\n",
      "18  Households living in large urban areas  2006  32.2191\n",
      "19  Households living in large urban areas  2007  43.8949\n",
      "20  Households living in large urban areas  2008  48.6792\n",
      "21  Households living in large urban areas  2009  58.3253\n",
      "22  Households living in large urban areas  2010  60.7802\n",
      "23  Households living in large urban areas  2011  69.0376\n",
      "24  Households living in large urban areas  2012  75.3410\n",
      "25  Households living in large urban areas  2013  77.2448\n",
      "26  Households living in large urban areas  2014  80.4126\n",
      "27  Households living in large urban areas  2015  82.8221\n",
      "28  Households living in large urban areas  2016  85.2041\n",
      "29  Households living in large urban areas  2017  87.7802\n",
      "30  Households living in large urban areas  2018  88.3962\n",
      "31  Households living in large urban areas  2019  90.5012\n",
      "32  Households living in large urban areas  2020  91.7926\n",
      "33  Households living in large urban areas  2021  94.0996\n",
      "Esta es la media de Hungría de Households living in large urban areas: 69.71239411764705\n"
     ]
    }
   ],
   "source": [
    "# Households living in large urban areas\n",
    "hungria_large=hungria.loc[hungria['Breakdowns']=='Households living in large urban areas']\n",
    "print(hungria_large)\n",
    "\n",
    "# media\n",
    "hungria_media_large=hungria_large['Value'].mean()\n",
    "print(f'Esta es la media de Hungría de Households living in large urban areas: {hungria_media_large}')"
   ]
  },
  {
   "cell_type": "code",
   "execution_count": 82,
   "metadata": {},
   "outputs": [
    {
     "name": "stdout",
     "output_type": "stream",
     "text": [
      "                          Breakdowns  TIME    Value\n",
      "34  Households living in rural areas  2005   4.6695\n",
      "35  Households living in rural areas  2006  12.6808\n",
      "36  Households living in rural areas  2007  23.7668\n",
      "37  Households living in rural areas  2008  33.9378\n",
      "38  Households living in rural areas  2009  42.3629\n",
      "39  Households living in rural areas  2010  43.0164\n",
      "40  Households living in rural areas  2011  50.4440\n",
      "41  Households living in rural areas  2012  57.0030\n",
      "42  Households living in rural areas  2013  59.8500\n",
      "43  Households living in rural areas  2014  63.5000\n",
      "44  Households living in rural areas  2015  64.7540\n",
      "45  Households living in rural areas  2016  68.3835\n",
      "46  Households living in rural areas  2017  73.5868\n",
      "47  Households living in rural areas  2018  77.1540\n",
      "48  Households living in rural areas  2019  80.5503\n",
      "49  Households living in rural areas  2020  81.1310\n",
      "50  Households living in rural areas  2021  85.5082\n",
      "Esta es la media de Hungría de Households living in rural areas: 54.252882352941185\n"
     ]
    }
   ],
   "source": [
    "# Households living in rural areas\n",
    "hungria_rural=hungria.loc[hungria['Breakdowns']=='Households living in rural areas']\n",
    "print(hungria_rural)\n",
    "\n",
    "# media\n",
    "hungria_media_rural=hungria_rural['Value'].mean()\n",
    "print(f'Esta es la media de Hungría de Households living in rural areas: {hungria_media_rural}')"
   ]
  },
  {
   "cell_type": "code",
   "execution_count": 83,
   "metadata": {},
   "outputs": [
    {
     "name": "stdout",
     "output_type": "stream",
     "text": [
      "                                  Breakdowns  TIME     Value\n",
      "0                           All (households)  2005   63.4670\n",
      "1                           All (households)  2006   72.0759\n",
      "2                           All (households)  2007   76.0990\n",
      "3                           All (households)  2008   83.2488\n",
      "4                           All (households)  2009   86.7289\n",
      "..                                       ...   ...       ...\n",
      "78  Households with income in third quartile  2011  100.0000\n",
      "79  Households with income in third quartile  2012   97.9620\n",
      "80  Households with income in third quartile  2013   99.8029\n",
      "81  Households with income in third quartile  2014   94.9532\n",
      "82  Households with income in third quartile  2017   96.8067\n",
      "\n",
      "[83 rows x 3 columns]\n"
     ]
    }
   ],
   "source": [
    "# Islandia\n",
    "islandia=intento.loc['ISL']\n",
    "islandia=islandia.reset_index()\n",
    "print(islandia)"
   ]
  },
  {
   "cell_type": "code",
   "execution_count": 84,
   "metadata": {},
   "outputs": [
    {
     "name": "stdout",
     "output_type": "stream",
     "text": [
      "          Breakdowns  TIME    Value\n",
      "0   All (households)  2005  63.4670\n",
      "1   All (households)  2006  72.0759\n",
      "2   All (households)  2007  76.0990\n",
      "3   All (households)  2008  83.2488\n",
      "4   All (households)  2009  86.7289\n",
      "5   All (households)  2010  86.9647\n",
      "6   All (households)  2011  92.4215\n",
      "7   All (households)  2012  92.7497\n",
      "8   All (households)  2013  95.4894\n",
      "9   All (households)  2014  92.6736\n",
      "10  All (households)  2017  96.1881\n",
      "11  All (households)  2018  97.0212\n",
      "12  All (households)  2019  94.5557\n",
      "13  All (households)  2020  96.7212\n",
      "14  All (households)  2021  94.8967\n",
      "Esta es la media de Islandia de All (households): 88.08676\n"
     ]
    }
   ],
   "source": [
    "# all (households)\n",
    "islandia_all=islandia.loc[islandia['Breakdowns']=='All (households)']\n",
    "print(islandia_all)\n",
    "\n",
    "# media\n",
    "islandia_media=islandia_all['Value'].mean()\n",
    "print(f'Esta es la media de Islandia de All (households): {islandia_media}')"
   ]
  },
  {
   "cell_type": "code",
   "execution_count": 85,
   "metadata": {},
   "outputs": [
    {
     "name": "stdout",
     "output_type": "stream",
     "text": [
      "                                  Breakdowns  TIME    Value\n",
      "39  Households with income in first quartile  2005  43.4182\n",
      "40  Households with income in first quartile  2006  37.4565\n",
      "41  Households with income in first quartile  2007  48.0605\n",
      "42  Households with income in first quartile  2008  59.3428\n",
      "43  Households with income in first quartile  2009  65.2296\n",
      "44  Households with income in first quartile  2010  62.6963\n",
      "45  Households with income in first quartile  2011  86.8747\n",
      "46  Households with income in first quartile  2012  87.5098\n",
      "47  Households with income in first quartile  2013  90.5236\n",
      "48  Households with income in first quartile  2014  86.6945\n",
      "49  Households with income in first quartile  2017  92.2097\n",
      "Esta es la media de Islandia de Households with income in first quartile: 69.0923818181818\n"
     ]
    }
   ],
   "source": [
    "# Households with income in the first quartile\n",
    "islandia_first=islandia.loc[islandia['Breakdowns']=='Households with income in first quartile']\n",
    "print(islandia_first)\n",
    "\n",
    "# media\n",
    "islandia_media_first=islandia_first['Value'].mean()\n",
    "print(f'Esta es la media de Islandia de Households with income in first quartile: {islandia_media_first}')"
   ]
  },
  {
   "cell_type": "code",
   "execution_count": 86,
   "metadata": {},
   "outputs": [
    {
     "name": "stdout",
     "output_type": "stream",
     "text": [
      "                                   Breakdowns  TIME    Value\n",
      "61  Households with income in second quartile  2005  67.0123\n",
      "62  Households with income in second quartile  2006  60.0437\n",
      "63  Households with income in second quartile  2007  74.9055\n",
      "64  Households with income in second quartile  2008  81.6068\n",
      "65  Households with income in second quartile  2009  85.2841\n",
      "66  Households with income in second quartile  2010  85.5331\n",
      "67  Households with income in second quartile  2011  97.8899\n",
      "68  Households with income in second quartile  2012  95.6872\n",
      "69  Households with income in second quartile  2013  97.8956\n",
      "70  Households with income in second quartile  2014  92.7241\n",
      "71  Households with income in second quartile  2017  98.6291\n",
      "Esta es la media de Islandia de Households with income in second quartile: 85.20103636363638\n"
     ]
    }
   ],
   "source": [
    "# Households with income in the second quartile\n",
    "islandia_second=islandia.loc[islandia['Breakdowns']=='Households with income in second quartile']\n",
    "print(islandia_second)\n",
    "\n",
    "# media\n",
    "islandia_media_second=islandia_second['Value'].mean()\n",
    "print(f'Esta es la media de Islandia de Households with income in second quartile: {islandia_media_second}')"
   ]
  },
  {
   "cell_type": "code",
   "execution_count": 87,
   "metadata": {},
   "outputs": [
    {
     "name": "stdout",
     "output_type": "stream",
     "text": [
      "                                  Breakdowns  TIME     Value\n",
      "72  Households with income in third quartile  2005   75.7053\n",
      "73  Households with income in third quartile  2006   81.9493\n",
      "74  Households with income in third quartile  2007   85.5204\n",
      "75  Households with income in third quartile  2008   92.0956\n",
      "76  Households with income in third quartile  2009   92.9362\n",
      "77  Households with income in third quartile  2010   93.2826\n",
      "78  Households with income in third quartile  2011  100.0000\n",
      "79  Households with income in third quartile  2012   97.9620\n",
      "80  Households with income in third quartile  2013   99.8029\n",
      "81  Households with income in third quartile  2014   94.9532\n",
      "82  Households with income in third quartile  2017   96.8067\n",
      "Esta es la media de Islandia de Households with income in third quartile: 91.91038181818182\n"
     ]
    }
   ],
   "source": [
    "# Households with income in the third quartile\n",
    "islandia_third=islandia.loc[islandia['Breakdowns']=='Households with income in third quartile']\n",
    "print(islandia_third)\n",
    "\n",
    "# media\n",
    "islandia_media_third=islandia_third['Value'].mean()\n",
    "print(f'Esta es la media de Islandia de Households with income in third quartile: {islandia_media_third}')"
   ]
  },
  {
   "cell_type": "code",
   "execution_count": 88,
   "metadata": {},
   "outputs": [
    {
     "name": "stdout",
     "output_type": "stream",
     "text": [
      "                                   Breakdowns  TIME    Value\n",
      "50  Households with income in fourth quartile  2005  86.5668\n",
      "51  Households with income in fourth quartile  2006  95.3409\n",
      "52  Households with income in fourth quartile  2007  92.0067\n",
      "53  Households with income in fourth quartile  2008  94.8287\n",
      "54  Households with income in fourth quartile  2009  96.0112\n",
      "55  Households with income in fourth quartile  2010  96.3184\n",
      "56  Households with income in fourth quartile  2011  99.5235\n",
      "57  Households with income in fourth quartile  2012  98.9881\n",
      "58  Households with income in fourth quartile  2013  99.8845\n",
      "59  Households with income in fourth quartile  2014  96.2394\n",
      "60  Households with income in fourth quartile  2017  98.3597\n",
      "Esta es la media de Islandia de Households with income in fourth quartile: 95.82435454545454\n"
     ]
    }
   ],
   "source": [
    "# Households with income in the fourth quartile\n",
    "islandia_fourth=islandia.loc[islandia['Breakdowns']=='Households with income in fourth quartile']\n",
    "print(islandia_fourth)\n",
    "\n",
    "# media\n",
    "islandia_media_fourth=islandia_fourth['Value'].mean()\n",
    "print(f'Esta es la media de Islandia de Households with income in fourth quartile: {islandia_media_fourth}')"
   ]
  },
  {
   "cell_type": "code",
   "execution_count": 89,
   "metadata": {},
   "outputs": [
    {
     "name": "stdout",
     "output_type": "stream",
     "text": [
      "                                Breakdowns  TIME    Value\n",
      "15  Households living in large urban areas  2011  93.6599\n",
      "16  Households living in large urban areas  2012  94.2016\n",
      "17  Households living in large urban areas  2013  96.3914\n",
      "18  Households living in large urban areas  2014  94.0764\n",
      "19  Households living in large urban areas  2017  96.5172\n",
      "20  Households living in large urban areas  2018  97.2689\n",
      "21  Households living in large urban areas  2019  94.0047\n",
      "22  Households living in large urban areas  2020  96.5356\n",
      "23  Households living in large urban areas  2021  95.4356\n",
      "Esta es la media de Islandia de Households living in large urban areas: 95.34347777777778\n"
     ]
    }
   ],
   "source": [
    "# Households living in large urban areas\n",
    "islandia_large=islandia.loc[islandia['Breakdowns']=='Households living in large urban areas']\n",
    "print(islandia_large)\n",
    "\n",
    "# media\n",
    "islandia_media_large=islandia_large['Value'].mean()\n",
    "print(f'Esta es la media de Islandia de Households living in large urban areas: {islandia_media_large}')"
   ]
  },
  {
   "cell_type": "code",
   "execution_count": 90,
   "metadata": {},
   "outputs": [
    {
     "name": "stdout",
     "output_type": "stream",
     "text": [
      "                          Breakdowns  TIME    Value\n",
      "24  Households living in rural areas  2005  53.9777\n",
      "25  Households living in rural areas  2006  63.4342\n",
      "26  Households living in rural areas  2007  71.9742\n",
      "27  Households living in rural areas  2008  79.1876\n",
      "28  Households living in rural areas  2009  83.6879\n",
      "29  Households living in rural areas  2010  82.3760\n",
      "30  Households living in rural areas  2011  90.4311\n",
      "31  Households living in rural areas  2012  89.6067\n",
      "32  Households living in rural areas  2013  94.7044\n",
      "33  Households living in rural areas  2014  84.0964\n",
      "34  Households living in rural areas  2017  94.7344\n",
      "35  Households living in rural areas  2018  97.1357\n",
      "36  Households living in rural areas  2019  95.5920\n",
      "37  Households living in rural areas  2020  97.2797\n",
      "38  Households living in rural areas  2021  95.0355\n",
      "Esta es la media de Islandia de Households living in rural areas: 84.88356666666668\n"
     ]
    }
   ],
   "source": [
    "# Households living in rural areas\n",
    "islandia_rural=islandia.loc[islandia['Breakdowns']=='Households living in rural areas']\n",
    "print(islandia_rural)\n",
    "\n",
    "# media\n",
    "islandia_media_rural=islandia_rural['Value'].mean()\n",
    "print(f'Esta es la media de Islandia de Households living in rural areas: {islandia_media_rural}')"
   ]
  },
  {
   "cell_type": "code",
   "execution_count": 91,
   "metadata": {},
   "outputs": [
    {
     "name": "stdout",
     "output_type": "stream",
     "text": [
      "                                   Breakdowns  TIME    Value\n",
      "0                            All (households)  2005  13.9319\n",
      "1                            All (households)  2006  22.5044\n",
      "2                            All (households)  2007  31.9235\n",
      "3                            All (households)  2008  39.6576\n",
      "4                            All (households)  2009  50.2337\n",
      "..                                        ...   ...      ...\n",
      "110  Households with income in third quartile  2016  87.9388\n",
      "111  Households with income in third quartile  2017  90.3441\n",
      "112  Households with income in third quartile  2018  93.0844\n",
      "113  Households with income in third quartile  2019  93.9344\n",
      "114  Households with income in third quartile  2020  91.9594\n",
      "\n",
      "[115 rows x 3 columns]\n"
     ]
    }
   ],
   "source": [
    "# Letonia\n",
    "letonia=intento.loc['LVA']\n",
    "letonia=letonia.reset_index()\n",
    "print(letonia)"
   ]
  },
  {
   "cell_type": "code",
   "execution_count": 92,
   "metadata": {},
   "outputs": [
    {
     "name": "stdout",
     "output_type": "stream",
     "text": [
      "          Breakdowns  TIME    Value\n",
      "0   All (households)  2005  13.9319\n",
      "1   All (households)  2006  22.5044\n",
      "2   All (households)  2007  31.9235\n",
      "3   All (households)  2008  39.6576\n",
      "4   All (households)  2009  50.2337\n",
      "5   All (households)  2010  52.5646\n",
      "6   All (households)  2011  59.3778\n",
      "7   All (households)  2012  67.2844\n",
      "8   All (households)  2013  70.1288\n",
      "9   All (households)  2014  73.0891\n",
      "10  All (households)  2015  74.3762\n",
      "11  All (households)  2016  75.0844\n",
      "12  All (households)  2017  76.4973\n",
      "13  All (households)  2018  78.7898\n",
      "14  All (households)  2019  83.3023\n",
      "15  All (households)  2020  87.5546\n",
      "16  All (households)  2021  89.4787\n",
      "Esta es la media de Letonia de All (households): 61.51641764705881\n"
     ]
    }
   ],
   "source": [
    "# all (households)\n",
    "letonia_all=letonia.loc[letonia['Breakdowns']=='All (households)']\n",
    "print(letonia_all)\n",
    "\n",
    "# media\n",
    "letonia_media=letonia_all['Value'].mean()\n",
    "print(f'Esta es la media de Letonia de All (households): {letonia_media}')"
   ]
  },
  {
   "cell_type": "code",
   "execution_count": 93,
   "metadata": {},
   "outputs": [
    {
     "name": "stdout",
     "output_type": "stream",
     "text": [
      "                                  Breakdowns  TIME    Value\n",
      "51  Households with income in first quartile  2005   1.7131\n",
      "52  Households with income in first quartile  2006   3.0166\n",
      "53  Households with income in first quartile  2007   3.3970\n",
      "54  Households with income in first quartile  2008   7.8627\n",
      "55  Households with income in first quartile  2009  21.5819\n",
      "56  Households with income in first quartile  2010  21.9742\n",
      "57  Households with income in first quartile  2011  27.6178\n",
      "58  Households with income in first quartile  2012  36.0421\n",
      "59  Households with income in first quartile  2013  37.2794\n",
      "60  Households with income in first quartile  2014  49.0598\n",
      "61  Households with income in first quartile  2015  48.3773\n",
      "62  Households with income in first quartile  2016  50.3531\n",
      "63  Households with income in first quartile  2017  42.5924\n",
      "64  Households with income in first quartile  2018  47.4521\n",
      "65  Households with income in first quartile  2019  57.3921\n",
      "66  Households with income in first quartile  2020  73.9971\n",
      "Esta es la media de Letonia de Households with income in first quartile: 33.10679375\n"
     ]
    }
   ],
   "source": [
    "# Households with income in the first quartile\n",
    "letonia_first=letonia.loc[letonia['Breakdowns']=='Households with income in first quartile']\n",
    "print(letonia_first)\n",
    "\n",
    "# media\n",
    "letonia_media_first=letonia_first['Value'].mean()\n",
    "print(f'Esta es la media de Letonia de Households with income in first quartile: {letonia_media_first}')"
   ]
  },
  {
   "cell_type": "code",
   "execution_count": 94,
   "metadata": {},
   "outputs": [
    {
     "name": "stdout",
     "output_type": "stream",
     "text": [
      "                                   Breakdowns  TIME    Value\n",
      "83  Households with income in second quartile  2005   7.6066\n",
      "84  Households with income in second quartile  2006  10.6561\n",
      "85  Households with income in second quartile  2007  18.4543\n",
      "86  Households with income in second quartile  2008  26.0543\n",
      "87  Households with income in second quartile  2009  38.4078\n",
      "88  Households with income in second quartile  2010  44.1418\n",
      "89  Households with income in second quartile  2011  51.8985\n",
      "90  Households with income in second quartile  2012  60.0455\n",
      "91  Households with income in second quartile  2013  63.7522\n",
      "92  Households with income in second quartile  2014  78.6521\n",
      "93  Households with income in second quartile  2015  76.0448\n",
      "94  Households with income in second quartile  2016  73.8772\n",
      "95  Households with income in second quartile  2017  77.1934\n",
      "96  Households with income in second quartile  2018  81.4989\n",
      "97  Households with income in second quartile  2019  84.9519\n",
      "98  Households with income in second quartile  2020  87.0516\n",
      "Esta es la media de Letonia de Households with income in second quartile: 55.0179375\n"
     ]
    }
   ],
   "source": [
    "# Households with income in the second quartile\n",
    "letonia_second=letonia.loc[letonia['Breakdowns']=='Households with income in second quartile']\n",
    "print(letonia_second)\n",
    "\n",
    "# media\n",
    "letonia_media_second=letonia_second['Value'].mean()\n",
    "print(f'Esta es la media de Letonia de Households with income in second quartile: {letonia_media_second}')"
   ]
  },
  {
   "cell_type": "code",
   "execution_count": 95,
   "metadata": {},
   "outputs": [
    {
     "name": "stdout",
     "output_type": "stream",
     "text": [
      "                                   Breakdowns  TIME    Value\n",
      "99   Households with income in third quartile  2005  13.2621\n",
      "100  Households with income in third quartile  2006  24.5533\n",
      "101  Households with income in third quartile  2007  38.9206\n",
      "102  Households with income in third quartile  2008  46.2683\n",
      "103  Households with income in third quartile  2009  51.8356\n",
      "104  Households with income in third quartile  2010  57.3189\n",
      "105  Households with income in third quartile  2011  63.0514\n",
      "106  Households with income in third quartile  2012  73.9423\n",
      "107  Households with income in third quartile  2013  80.0843\n",
      "108  Households with income in third quartile  2014  90.6385\n",
      "109  Households with income in third quartile  2015  90.7776\n",
      "110  Households with income in third quartile  2016  87.9388\n",
      "111  Households with income in third quartile  2017  90.3441\n",
      "112  Households with income in third quartile  2018  93.0844\n",
      "113  Households with income in third quartile  2019  93.9344\n",
      "114  Households with income in third quartile  2020  91.9594\n",
      "Esta es la media de Letonia de Households with income in third quartile: 67.994625\n"
     ]
    }
   ],
   "source": [
    "# Households with income in the third quartile\n",
    "letonia_third=letonia.loc[letonia['Breakdowns']=='Households with income in third quartile']\n",
    "print(letonia_third)\n",
    "\n",
    "# media\n",
    "letonia_media_third=letonia_third['Value'].mean()\n",
    "print(f'Esta es la media de Letonia de Households with income in third quartile: {letonia_media_third}')"
   ]
  },
  {
   "cell_type": "code",
   "execution_count": 96,
   "metadata": {},
   "outputs": [
    {
     "name": "stdout",
     "output_type": "stream",
     "text": [
      "                                   Breakdowns  TIME    Value\n",
      "67  Households with income in fourth quartile  2005  29.2403\n",
      "68  Households with income in fourth quartile  2006  45.9443\n",
      "69  Households with income in fourth quartile  2007  58.5037\n",
      "70  Households with income in fourth quartile  2008  69.6549\n",
      "71  Households with income in fourth quartile  2009  81.9361\n",
      "72  Households with income in fourth quartile  2010  79.3279\n",
      "73  Households with income in fourth quartile  2011  89.2850\n",
      "74  Households with income in fourth quartile  2012  92.4376\n",
      "75  Households with income in fourth quartile  2013  95.4610\n",
      "76  Households with income in fourth quartile  2014  94.9450\n",
      "77  Households with income in fourth quartile  2015  96.8237\n",
      "78  Households with income in fourth quartile  2016  95.9708\n",
      "79  Households with income in fourth quartile  2017  96.2592\n",
      "80  Households with income in fourth quartile  2018  93.2701\n",
      "81  Households with income in fourth quartile  2019  99.2533\n",
      "82  Households with income in fourth quartile  2020  98.1213\n",
      "Esta es la media de Letonia de Households with income in fourth quartile: 82.2771375\n"
     ]
    }
   ],
   "source": [
    "# Households with income in the fourth quartile\n",
    "letonia_fourth=letonia.loc[letonia['Breakdowns']=='Households with income in fourth quartile']\n",
    "print(letonia_fourth)\n",
    "\n",
    "# media\n",
    "letonia_media_fourth=letonia_fourth['Value'].mean()\n",
    "print(f'Esta es la media de Letonia de Households with income in fourth quartile: {letonia_media_fourth}')"
   ]
  },
  {
   "cell_type": "code",
   "execution_count": 97,
   "metadata": {},
   "outputs": [
    {
     "name": "stdout",
     "output_type": "stream",
     "text": [
      "                                Breakdowns  TIME    Value\n",
      "17  Households living in large urban areas  2005  20.7463\n",
      "18  Households living in large urban areas  2006  33.4137\n",
      "19  Households living in large urban areas  2007  41.5237\n",
      "20  Households living in large urban areas  2008  46.7090\n",
      "21  Households living in large urban areas  2009  58.5452\n",
      "22  Households living in large urban areas  2010  57.3721\n",
      "23  Households living in large urban areas  2011  64.0139\n",
      "24  Households living in large urban areas  2012  73.8345\n",
      "25  Households living in large urban areas  2013  75.1507\n",
      "26  Households living in large urban areas  2014  78.7303\n",
      "27  Households living in large urban areas  2015  79.3900\n",
      "28  Households living in large urban areas  2016  78.7346\n",
      "29  Households living in large urban areas  2017  80.8452\n",
      "30  Households living in large urban areas  2018  80.7530\n",
      "31  Households living in large urban areas  2019  86.4641\n",
      "32  Households living in large urban areas  2020  88.5108\n",
      "33  Households living in large urban areas  2021  91.1174\n",
      "Esta es la media de Letonia de Households living in large urban areas: 66.8149705882353\n"
     ]
    }
   ],
   "source": [
    "# Households living in large urban areas\n",
    "letonia_large=letonia.loc[letonia['Breakdowns']=='Households living in large urban areas']\n",
    "print(letonia_large)\n",
    "\n",
    "# media\n",
    "letonia_media_large=letonia_large['Value'].mean()\n",
    "print(f'Esta es la media de Letonia de Households living in large urban areas: {letonia_media_large}')"
   ]
  },
  {
   "cell_type": "code",
   "execution_count": 98,
   "metadata": {},
   "outputs": [
    {
     "name": "stdout",
     "output_type": "stream",
     "text": [
      "                          Breakdowns  TIME    Value\n",
      "34  Households living in rural areas  2005   7.4423\n",
      "35  Households living in rural areas  2006  11.8646\n",
      "36  Households living in rural areas  2007  22.5846\n",
      "37  Households living in rural areas  2008  33.3230\n",
      "38  Households living in rural areas  2009  41.9135\n",
      "39  Households living in rural areas  2010  47.0740\n",
      "40  Households living in rural areas  2011  54.5711\n",
      "41  Households living in rural areas  2012  59.9148\n",
      "42  Households living in rural areas  2013  63.2867\n",
      "43  Households living in rural areas  2014  67.5007\n",
      "44  Households living in rural areas  2015  67.3223\n",
      "45  Households living in rural areas  2016  71.7342\n",
      "46  Households living in rural areas  2017  70.9098\n",
      "47  Households living in rural areas  2018  74.5452\n",
      "48  Households living in rural areas  2019  78.9413\n",
      "49  Households living in rural areas  2020  85.2626\n",
      "50  Households living in rural areas  2021  87.9737\n",
      "Esta es la media de Letonia de Households living in rural areas: 55.6567294117647\n"
     ]
    }
   ],
   "source": [
    "# Households living in rural areas\n",
    "letonia_rural=letonia.loc[letonia['Breakdowns']=='Households living in rural areas']\n",
    "print(letonia_rural)\n",
    "\n",
    "# media\n",
    "letonia_media_rural=letonia_rural['Value'].mean()\n",
    "print(f'Esta es la media de Letonia de Households living in rural areas: {letonia_media_rural}')"
   ]
  },
  {
   "cell_type": "code",
   "execution_count": 99,
   "metadata": {},
   "outputs": [
    {
     "name": "stdout",
     "output_type": "stream",
     "text": [
      "                                   Breakdowns  TIME    Value\n",
      "0                            All (households)  2005  11.5822\n",
      "1                            All (households)  2006  19.4129\n",
      "2                            All (households)  2007  34.1279\n",
      "3                            All (households)  2008  42.8626\n",
      "4                            All (households)  2009  49.8459\n",
      "..                                        ...   ...      ...\n",
      "110  Households with income in third quartile  2016  89.8531\n",
      "111  Households with income in third quartile  2017  91.5152\n",
      "112  Households with income in third quartile  2018  92.0487\n",
      "113  Households with income in third quartile  2019  95.2153\n",
      "114  Households with income in third quartile  2020  94.9581\n",
      "\n",
      "[115 rows x 3 columns]\n"
     ]
    }
   ],
   "source": [
    "# Lituania\n",
    "lituania=intento.loc['LTU']\n",
    "lituania=lituania.reset_index()\n",
    "print(lituania)"
   ]
  },
  {
   "cell_type": "code",
   "execution_count": 100,
   "metadata": {},
   "outputs": [
    {
     "name": "stdout",
     "output_type": "stream",
     "text": [
      "          Breakdowns  TIME    Value\n",
      "0   All (households)  2005  11.5822\n",
      "1   All (households)  2006  19.4129\n",
      "2   All (households)  2007  34.1279\n",
      "3   All (households)  2008  42.8626\n",
      "4   All (households)  2009  49.8459\n",
      "5   All (households)  2010  53.5681\n",
      "6   All (households)  2011  55.6535\n",
      "7   All (households)  2012  59.6024\n",
      "8   All (households)  2013  64.0958\n",
      "9   All (households)  2014  65.3717\n",
      "10  All (households)  2015  67.3280\n",
      "11  All (households)  2016  71.0244\n",
      "12  All (households)  2017  74.6719\n",
      "13  All (households)  2018  77.8948\n",
      "14  All (households)  2019  81.3552\n",
      "15  All (households)  2020  81.8329\n",
      "16  All (households)  2021  85.9495\n",
      "Esta es la media de Lituania de All (households): 58.598805882352934\n"
     ]
    }
   ],
   "source": [
    "# all (households)\n",
    "lituania_all=lituania.loc[lituania['Breakdowns']=='All (households)']\n",
    "print(lituania_all)\n",
    "\n",
    "# media\n",
    "lituania_media=lituania_all['Value'].mean()\n",
    "print(f'Esta es la media de Lituania de All (households): {lituania_media}')"
   ]
  },
  {
   "cell_type": "code",
   "execution_count": 101,
   "metadata": {},
   "outputs": [
    {
     "name": "stdout",
     "output_type": "stream",
     "text": [
      "                                  Breakdowns  TIME    Value\n",
      "51  Households with income in first quartile  2005   1.4486\n",
      "52  Households with income in first quartile  2006   2.5109\n",
      "53  Households with income in first quartile  2007   5.4159\n",
      "54  Households with income in first quartile  2008   8.8841\n",
      "55  Households with income in first quartile  2009  13.9660\n",
      "56  Households with income in first quartile  2010  20.6680\n",
      "57  Households with income in first quartile  2011  19.3405\n",
      "58  Households with income in first quartile  2012  23.1903\n",
      "59  Households with income in first quartile  2013  24.0895\n",
      "60  Households with income in first quartile  2014  29.2481\n",
      "61  Households with income in first quartile  2015  34.3809\n",
      "62  Households with income in first quartile  2016  44.2269\n",
      "63  Households with income in first quartile  2017  46.2512\n",
      "64  Households with income in first quartile  2018  48.1150\n",
      "65  Households with income in first quartile  2019  58.0508\n",
      "66  Households with income in first quartile  2020  56.0207\n",
      "Esta es la media de Lituania de Households with income in first quartile: 27.237962500000002\n"
     ]
    }
   ],
   "source": [
    "# Households with income in the first quartile\n",
    "lituania_first=lituania.loc[lituania['Breakdowns']=='Households with income in first quartile']\n",
    "print(lituania_first)\n",
    "\n",
    "# media\n",
    "lituania_media_first=lituania_first['Value'].mean()\n",
    "print(f'Esta es la media de Lituania de Households with income in first quartile: {lituania_media_first}')"
   ]
  },
  {
   "cell_type": "code",
   "execution_count": 102,
   "metadata": {},
   "outputs": [
    {
     "name": "stdout",
     "output_type": "stream",
     "text": [
      "                                   Breakdowns  TIME    Value\n",
      "83  Households with income in second quartile  2005   3.7608\n",
      "84  Households with income in second quartile  2006   9.4619\n",
      "85  Households with income in second quartile  2007  17.2091\n",
      "86  Households with income in second quartile  2008  22.5295\n",
      "87  Households with income in second quartile  2009  29.3685\n",
      "88  Households with income in second quartile  2010  48.4461\n",
      "89  Households with income in second quartile  2011  45.1533\n",
      "90  Households with income in second quartile  2012  50.2488\n",
      "91  Households with income in second quartile  2013  52.0217\n",
      "92  Households with income in second quartile  2014  51.4241\n",
      "93  Households with income in second quartile  2015  65.8584\n",
      "94  Households with income in second quartile  2016  68.6258\n",
      "95  Households with income in second quartile  2017  70.1705\n",
      "96  Households with income in second quartile  2018  75.2165\n",
      "97  Households with income in second quartile  2019  78.3971\n",
      "98  Households with income in second quartile  2020  81.1616\n",
      "Esta es la media de Lituania de Households with income in second quartile: 48.065856249999996\n"
     ]
    }
   ],
   "source": [
    "# Households with income in the second quartile\n",
    "lituania_second=lituania.loc[lituania['Breakdowns']=='Households with income in second quartile']\n",
    "print(lituania_second)\n",
    "\n",
    "# media\n",
    "lituania_media_second=lituania_second['Value'].mean()\n",
    "print(f'Esta es la media de Lituania de Households with income in second quartile: {lituania_media_second}')"
   ]
  },
  {
   "cell_type": "code",
   "execution_count": 103,
   "metadata": {},
   "outputs": [
    {
     "name": "stdout",
     "output_type": "stream",
     "text": [
      "                                   Breakdowns  TIME    Value\n",
      "99   Households with income in third quartile  2005  10.0788\n",
      "100  Households with income in third quartile  2006  22.1502\n",
      "101  Households with income in third quartile  2007  42.7153\n",
      "102  Households with income in third quartile  2008  56.1929\n",
      "103  Households with income in third quartile  2009  60.5629\n",
      "104  Households with income in third quartile  2010  72.5155\n",
      "105  Households with income in third quartile  2011  73.4983\n",
      "106  Households with income in third quartile  2012  81.2642\n",
      "107  Households with income in third quartile  2013  80.6350\n",
      "108  Households with income in third quartile  2014  85.9045\n",
      "109  Households with income in third quartile  2015  73.6942\n",
      "110  Households with income in third quartile  2016  89.8531\n",
      "111  Households with income in third quartile  2017  91.5152\n",
      "112  Households with income in third quartile  2018  92.0487\n",
      "113  Households with income in third quartile  2019  95.2153\n",
      "114  Households with income in third quartile  2020  94.9581\n",
      "Esta es la media de Lituania de Households with income in third quartile: 70.17513749999999\n"
     ]
    }
   ],
   "source": [
    "# Households with income in the third quartile\n",
    "lituania_third=lituania.loc[lituania['Breakdowns']=='Households with income in third quartile']\n",
    "print(lituania_third)\n",
    "\n",
    "# media\n",
    "lituania_media_third=lituania_third['Value'].mean()\n",
    "print(f'Esta es la media de Lituania de Households with income in third quartile: {lituania_media_third}')"
   ]
  },
  {
   "cell_type": "code",
   "execution_count": 104,
   "metadata": {},
   "outputs": [
    {
     "name": "stdout",
     "output_type": "stream",
     "text": [
      "                                   Breakdowns  TIME    Value\n",
      "67  Households with income in fourth quartile  2005  30.7398\n",
      "68  Households with income in fourth quartile  2006  45.9814\n",
      "69  Households with income in fourth quartile  2007  70.1587\n",
      "70  Households with income in fourth quartile  2008  79.4249\n",
      "71  Households with income in fourth quartile  2009  88.0745\n",
      "72  Households with income in fourth quartile  2010  92.8683\n",
      "73  Households with income in fourth quartile  2011  93.8476\n",
      "74  Households with income in fourth quartile  2012  95.9240\n",
      "75  Households with income in fourth quartile  2013  97.0684\n",
      "76  Households with income in fourth quartile  2014  97.7096\n",
      "77  Households with income in fourth quartile  2015  93.3920\n",
      "78  Households with income in fourth quartile  2016  96.4649\n",
      "79  Households with income in fourth quartile  2017  98.8594\n",
      "80  Households with income in fourth quartile  2018  98.6520\n",
      "81  Households with income in fourth quartile  2019  99.5361\n",
      "82  Households with income in fourth quartile  2020  98.9809\n",
      "Esta es la media de Lituania de Households with income in fourth quartile: 86.10515625\n"
     ]
    }
   ],
   "source": [
    "# Households with income in the fourth quartile\n",
    "lituania_fourth=lituania.loc[lituania['Breakdowns']=='Households with income in fourth quartile']\n",
    "print(lituania_fourth)\n",
    "\n",
    "# media\n",
    "lituania_media_fourth=lituania_fourth['Value'].mean()\n",
    "print(f'Esta es la media de Lituania de Households with income in fourth quartile: {lituania_media_fourth}')"
   ]
  },
  {
   "cell_type": "code",
   "execution_count": 105,
   "metadata": {},
   "outputs": [
    {
     "name": "stdout",
     "output_type": "stream",
     "text": [
      "                                Breakdowns  TIME    Value\n",
      "17  Households living in large urban areas  2005  19.8616\n",
      "18  Households living in large urban areas  2006  31.7543\n",
      "19  Households living in large urban areas  2007  51.5118\n",
      "20  Households living in large urban areas  2008  52.8531\n",
      "21  Households living in large urban areas  2009  63.5510\n",
      "22  Households living in large urban areas  2010  68.7916\n",
      "23  Households living in large urban areas  2011  69.0996\n",
      "24  Households living in large urban areas  2012  69.8816\n",
      "25  Households living in large urban areas  2013  74.5494\n",
      "26  Households living in large urban areas  2014  72.4649\n",
      "27  Households living in large urban areas  2015  74.0445\n",
      "28  Households living in large urban areas  2016  78.4237\n",
      "29  Households living in large urban areas  2017  82.8447\n",
      "30  Households living in large urban areas  2018  84.1268\n",
      "31  Households living in large urban areas  2019  85.6221\n",
      "32  Households living in large urban areas  2020  86.9557\n",
      "33  Households living in large urban areas  2021  89.6331\n",
      "Esta es la media de Lituania de Households living in large urban areas: 67.99820588235293\n"
     ]
    }
   ],
   "source": [
    "# Households living in large urban areas\n",
    "lituania_large=lituania.loc[lituania['Breakdowns']=='Households living in large urban areas']\n",
    "print(lituania_large)\n",
    "\n",
    "# media\n",
    "lituania_media_large=lituania_large['Value'].mean()\n",
    "print(f'Esta es la media de Lituania de Households living in large urban areas: {lituania_media_large}')"
   ]
  },
  {
   "cell_type": "code",
   "execution_count": 106,
   "metadata": {},
   "outputs": [
    {
     "name": "stdout",
     "output_type": "stream",
     "text": [
      "                          Breakdowns  TIME    Value\n",
      "34  Households living in rural areas  2005   5.5048\n",
      "35  Households living in rural areas  2006  11.0518\n",
      "36  Households living in rural areas  2007  22.5647\n",
      "37  Households living in rural areas  2008  34.8701\n",
      "38  Households living in rural areas  2009  39.2098\n",
      "39  Households living in rural areas  2010  42.2842\n",
      "40  Households living in rural areas  2011  45.1981\n",
      "41  Households living in rural areas  2012  49.2816\n",
      "42  Households living in rural areas  2013  52.8418\n",
      "43  Households living in rural areas  2014  57.0348\n",
      "44  Households living in rural areas  2015  59.5933\n",
      "45  Households living in rural areas  2016  63.7637\n",
      "46  Households living in rural areas  2017  66.7318\n",
      "47  Households living in rural areas  2018  71.5526\n",
      "48  Households living in rural areas  2019  77.1029\n",
      "49  Households living in rural areas  2020  77.1951\n",
      "50  Households living in rural areas  2021  82.0127\n",
      "Esta es la media de Lituania de Households living in rural areas: 50.45845882352941\n"
     ]
    }
   ],
   "source": [
    "# Households living in rural areas\n",
    "lituania_rural=lituania.loc[lituania['Breakdowns']=='Households living in rural areas']\n",
    "print(lituania_rural)\n",
    "\n",
    "# media\n",
    "lituania_media_rural=lituania_rural['Value'].mean()\n",
    "print(f'Esta es la media de Lituania de Households living in rural areas: {lituania_media_rural}')"
   ]
  },
  {
   "cell_type": "code",
   "execution_count": 107,
   "metadata": {},
   "outputs": [
    {
     "name": "stdout",
     "output_type": "stream",
     "text": [
      "                                   Breakdowns  TIME    Value\n",
      "0                            All (households)  2005  33.4079\n",
      "1                            All (households)  2006  44.0873\n",
      "2                            All (households)  2007  57.7708\n",
      "3                            All (households)  2008  61.0076\n",
      "4                            All (households)  2009  71.0810\n",
      "..                                        ...   ...      ...\n",
      "104  Households with income in third quartile  2016  97.6253\n",
      "105  Households with income in third quartile  2017  98.1693\n",
      "106  Households with income in third quartile  2018  98.9733\n",
      "107  Households with income in third quartile  2019  99.0580\n",
      "108  Households with income in third quartile  2020  99.3129\n",
      "\n",
      "[109 rows x 3 columns]\n"
     ]
    }
   ],
   "source": [
    "# Luxemburgo\n",
    "luxemburgo=intento.loc['LUX']\n",
    "luxemburgo=luxemburgo.reset_index()\n",
    "print(luxemburgo)"
   ]
  },
  {
   "cell_type": "code",
   "execution_count": 108,
   "metadata": {},
   "outputs": [
    {
     "name": "stdout",
     "output_type": "stream",
     "text": [
      "          Breakdowns  TIME    Value\n",
      "0   All (households)  2005  33.4079\n",
      "1   All (households)  2006  44.0873\n",
      "2   All (households)  2007  57.7708\n",
      "3   All (households)  2008  61.0076\n",
      "4   All (households)  2009  71.0810\n",
      "5   All (households)  2010  70.3294\n",
      "6   All (households)  2011  67.7389\n",
      "7   All (households)  2012  67.8661\n",
      "8   All (households)  2013  69.8795\n",
      "9   All (households)  2014  92.6849\n",
      "10  All (households)  2015  95.1005\n",
      "11  All (households)  2016  96.7759\n",
      "12  All (households)  2017  97.0357\n",
      "13  All (households)  2018  92.8670\n",
      "14  All (households)  2019  95.1973\n",
      "15  All (households)  2020  93.5729\n",
      "16  All (households)  2021  97.3509\n",
      "Esta es la media de Luxemburgo de All (households): 76.69138823529411\n"
     ]
    }
   ],
   "source": [
    "# all (households)\n",
    "luxemburgo_all=luxemburgo.loc[luxemburgo['Breakdowns']=='All (households)']\n",
    "print(luxemburgo_all)\n",
    "\n",
    "# media\n",
    "luxemburgo_media=luxemburgo_all['Value'].mean()\n",
    "print(f'Esta es la media de Luxemburgo de All (households): {luxemburgo_media}')"
   ]
  },
  {
   "cell_type": "code",
   "execution_count": 109,
   "metadata": {},
   "outputs": [
    {
     "name": "stdout",
     "output_type": "stream",
     "text": [
      "                                  Breakdowns  TIME    Value\n",
      "49  Households with income in first quartile  2006  24.7744\n",
      "50  Households with income in first quartile  2007  36.7730\n",
      "51  Households with income in first quartile  2008  34.9604\n",
      "52  Households with income in first quartile  2009  56.2529\n",
      "53  Households with income in first quartile  2010  48.1640\n",
      "54  Households with income in first quartile  2011  43.7405\n",
      "55  Households with income in first quartile  2012  50.3243\n",
      "56  Households with income in first quartile  2013  59.6944\n",
      "57  Households with income in first quartile  2014  84.8957\n",
      "58  Households with income in first quartile  2015  87.6605\n",
      "59  Households with income in first quartile  2016  92.2104\n",
      "60  Households with income in first quartile  2017  93.7261\n",
      "61  Households with income in first quartile  2018  86.2903\n",
      "62  Households with income in first quartile  2019  91.7386\n",
      "63  Households with income in first quartile  2020  88.8213\n",
      "Esta es la media de Luxemburgo de Households with income in first quartile: 65.33512\n"
     ]
    }
   ],
   "source": [
    "# Households with income in the first quartile\n",
    "luxemburgo_first=luxemburgo.loc[luxemburgo['Breakdowns']=='Households with income in first quartile']\n",
    "print(luxemburgo_first)\n",
    "\n",
    "# media\n",
    "luxemburgo_media_first=luxemburgo_first['Value'].mean()\n",
    "print(f'Esta es la media de Luxemburgo de Households with income in first quartile: {luxemburgo_media_first}')"
   ]
  },
  {
   "cell_type": "code",
   "execution_count": 110,
   "metadata": {},
   "outputs": [
    {
     "name": "stdout",
     "output_type": "stream",
     "text": [
      "                                   Breakdowns  TIME    Value\n",
      "79  Households with income in second quartile  2006  35.8284\n",
      "80  Households with income in second quartile  2007  53.6768\n",
      "81  Households with income in second quartile  2008  55.0166\n",
      "82  Households with income in second quartile  2009  58.4443\n",
      "83  Households with income in second quartile  2010  61.3170\n",
      "84  Households with income in second quartile  2011  66.5214\n",
      "85  Households with income in second quartile  2012  69.8511\n",
      "86  Households with income in second quartile  2013  69.5326\n",
      "87  Households with income in second quartile  2014  93.8083\n",
      "88  Households with income in second quartile  2015  97.2128\n",
      "89  Households with income in second quartile  2016  97.4322\n",
      "90  Households with income in second quartile  2017  98.7766\n",
      "91  Households with income in second quartile  2018  93.4519\n",
      "92  Households with income in second quartile  2019  95.9468\n",
      "93  Households with income in second quartile  2020  93.9719\n",
      "Esta es la media de Luxemburgo de Households with income in second quartile: 76.05258\n"
     ]
    }
   ],
   "source": [
    "# Households with income in the second quartile\n",
    "luxemburgo_second=luxemburgo.loc[luxemburgo['Breakdowns']=='Households with income in second quartile']\n",
    "print(luxemburgo_second)\n",
    "\n",
    "# media\n",
    "luxemburgo_media_second=luxemburgo_second['Value'].mean()\n",
    "print(f'Esta es la media de Luxemburgo de Households with income in second quartile: {luxemburgo_media_second}')"
   ]
  },
  {
   "cell_type": "code",
   "execution_count": 111,
   "metadata": {},
   "outputs": [
    {
     "name": "stdout",
     "output_type": "stream",
     "text": [
      "                                   Breakdowns  TIME    Value\n",
      "94   Households with income in third quartile  2006  51.8403\n",
      "95   Households with income in third quartile  2007  63.3035\n",
      "96   Households with income in third quartile  2008  68.6098\n",
      "97   Households with income in third quartile  2009  77.6357\n",
      "98   Households with income in third quartile  2010  77.9033\n",
      "99   Households with income in third quartile  2011  68.8699\n",
      "100  Households with income in third quartile  2012  77.1025\n",
      "101  Households with income in third quartile  2013  73.1003\n",
      "102  Households with income in third quartile  2014  91.6929\n",
      "103  Households with income in third quartile  2015  97.8804\n",
      "104  Households with income in third quartile  2016  97.6253\n",
      "105  Households with income in third quartile  2017  98.1693\n",
      "106  Households with income in third quartile  2018  98.9733\n",
      "107  Households with income in third quartile  2019  99.0580\n",
      "108  Households with income in third quartile  2020  99.3129\n",
      "Esta es la media de Luxemburgo de Households with income in third quartile: 82.73849333333332\n"
     ]
    }
   ],
   "source": [
    "# Households with income in the third quartile\n",
    "luxemburgo_third=luxemburgo.loc[luxemburgo['Breakdowns']=='Households with income in third quartile']\n",
    "print(luxemburgo_third)\n",
    "\n",
    "# media\n",
    "luxemburgo_media_third=luxemburgo_third['Value'].mean()\n",
    "print(f'Esta es la media de Luxemburgo de Households with income in third quartile: {luxemburgo_media_third}')"
   ]
  },
  {
   "cell_type": "code",
   "execution_count": 112,
   "metadata": {},
   "outputs": [
    {
     "name": "stdout",
     "output_type": "stream",
     "text": [
      "                                   Breakdowns  TIME     Value\n",
      "64  Households with income in fourth quartile  2006   64.2259\n",
      "65  Households with income in fourth quartile  2007   76.9579\n",
      "66  Households with income in fourth quartile  2008   79.3060\n",
      "67  Households with income in fourth quartile  2009   80.7783\n",
      "68  Households with income in fourth quartile  2010   80.7759\n",
      "69  Households with income in fourth quartile  2011   76.1028\n",
      "70  Households with income in fourth quartile  2012   86.7704\n",
      "71  Households with income in fourth quartile  2013   81.7307\n",
      "72  Households with income in fourth quartile  2014   96.8314\n",
      "73  Households with income in fourth quartile  2015   99.3466\n",
      "74  Households with income in fourth quartile  2016   98.4238\n",
      "75  Households with income in fourth quartile  2017  100.0000\n",
      "76  Households with income in fourth quartile  2018   99.3758\n",
      "77  Households with income in fourth quartile  2019   99.4214\n",
      "78  Households with income in fourth quartile  2020   99.3594\n",
      "Esta es la media de Luxemburgo de Households with income in fourth quartile: 87.96041999999998\n"
     ]
    }
   ],
   "source": [
    "# Households with income in the fourth quartile\n",
    "luxemburgo_fourth=luxemburgo.loc[luxemburgo['Breakdowns']=='Households with income in fourth quartile']\n",
    "print(luxemburgo_fourth)\n",
    "\n",
    "# media\n",
    "luxemburgo_media_fourth=luxemburgo_fourth['Value'].mean()\n",
    "print(f'Esta es la media de Luxemburgo de Households with income in fourth quartile: {luxemburgo_media_fourth}')"
   ]
  },
  {
   "cell_type": "code",
   "execution_count": 113,
   "metadata": {},
   "outputs": [
    {
     "name": "stdout",
     "output_type": "stream",
     "text": [
      "                                Breakdowns  TIME    Value\n",
      "17  Households living in large urban areas  2005  31.0539\n",
      "18  Households living in large urban areas  2006  41.4813\n",
      "19  Households living in large urban areas  2007  54.4734\n",
      "20  Households living in large urban areas  2008  57.4097\n",
      "21  Households living in large urban areas  2009  70.0753\n",
      "22  Households living in large urban areas  2010  71.8007\n",
      "23  Households living in large urban areas  2011  65.6274\n",
      "24  Households living in large urban areas  2013  71.6242\n",
      "25  Households living in large urban areas  2014  92.3773\n",
      "26  Households living in large urban areas  2015  93.4814\n",
      "27  Households living in large urban areas  2016  94.7126\n",
      "28  Households living in large urban areas  2017  94.6566\n",
      "29  Households living in large urban areas  2018  94.8913\n",
      "30  Households living in large urban areas  2019  96.5482\n",
      "31  Households living in large urban areas  2020  93.2469\n",
      "32  Households living in large urban areas  2021  96.4750\n",
      "Esta es la media de Luxemburgo de Households living in large urban areas: 76.24595\n"
     ]
    }
   ],
   "source": [
    "# Households living in large urban areas\n",
    "luxemburgo_large=luxemburgo.loc[luxemburgo['Breakdowns']=='Households living in large urban areas']\n",
    "print(luxemburgo_large)\n",
    "\n",
    "# media\n",
    "luxemburgo_media_large=luxemburgo_large['Value'].mean()\n",
    "print(f'Esta es la media de Luxemburgo de Households living in large urban areas: {luxemburgo_media_large}')"
   ]
  },
  {
   "cell_type": "code",
   "execution_count": 114,
   "metadata": {},
   "outputs": [
    {
     "name": "stdout",
     "output_type": "stream",
     "text": [
      "                          Breakdowns  TIME    Value\n",
      "33  Households living in rural areas  2005  29.9415\n",
      "34  Households living in rural areas  2006  44.8816\n",
      "35  Households living in rural areas  2007  60.1169\n",
      "36  Households living in rural areas  2008  65.7564\n",
      "37  Households living in rural areas  2009  72.1250\n",
      "38  Households living in rural areas  2010  67.6270\n",
      "39  Households living in rural areas  2011  72.0576\n",
      "40  Households living in rural areas  2013  71.7691\n",
      "41  Households living in rural areas  2014  92.5596\n",
      "42  Households living in rural areas  2015  95.9751\n",
      "43  Households living in rural areas  2016  98.2739\n",
      "44  Households living in rural areas  2017  98.2082\n",
      "45  Households living in rural areas  2018  92.6127\n",
      "46  Households living in rural areas  2019  95.2597\n",
      "47  Households living in rural areas  2020  96.0689\n",
      "48  Households living in rural areas  2021  97.4601\n",
      "Esta es la media de Luxemburgo de Households living in rural areas: 78.16833125\n"
     ]
    }
   ],
   "source": [
    "# Households living in rural areas\n",
    "luxemburgo_rural=luxemburgo.loc[luxemburgo['Breakdowns']=='Households living in rural areas']\n",
    "print(luxemburgo_rural)\n",
    "\n",
    "# media\n",
    "luxemburgo_media_rural=luxemburgo_rural['Value'].mean()\n",
    "print(f'Esta es la media de Luxemburgo de Households living in rural areas: {luxemburgo_media_rural}')"
   ]
  },
  {
   "cell_type": "code",
   "execution_count": 115,
   "metadata": {},
   "outputs": [
    {
     "name": "stdout",
     "output_type": "stream",
     "text": [
      "                                   Breakdowns  TIME    Value\n",
      "0                            All (households)  2005  53.8705\n",
      "1                            All (households)  2006  66.1660\n",
      "2                            All (households)  2007  73.7695\n",
      "3                            All (households)  2008  73.9709\n",
      "4                            All (households)  2009  76.9742\n",
      "..                                        ...   ...      ...\n",
      "102  Households with income in third quartile  2016  97.3766\n",
      "103  Households with income in third quartile  2017  98.7068\n",
      "104  Households with income in third quartile  2018  97.6442\n",
      "105  Households with income in third quartile  2019  98.5535\n",
      "106  Households with income in third quartile  2020  98.3880\n",
      "\n",
      "[107 rows x 3 columns]\n"
     ]
    }
   ],
   "source": [
    "# Holanda\n",
    "holanda=intento.loc['NLD']\n",
    "holanda=holanda.reset_index()\n",
    "print(holanda)"
   ]
  },
  {
   "cell_type": "code",
   "execution_count": 116,
   "metadata": {},
   "outputs": [
    {
     "name": "stdout",
     "output_type": "stream",
     "text": [
      "          Breakdowns  TIME    Value\n",
      "0   All (households)  2005  53.8705\n",
      "1   All (households)  2006  66.1660\n",
      "2   All (households)  2007  73.7695\n",
      "3   All (households)  2008  73.9709\n",
      "4   All (households)  2009  76.9742\n",
      "5   All (households)  2010  79.5136\n",
      "6   All (households)  2011  82.9317\n",
      "7   All (households)  2012  84.4626\n",
      "8   All (households)  2013  86.9064\n",
      "9   All (households)  2014  94.3732\n",
      "10  All (households)  2015  94.0049\n",
      "11  All (households)  2016  95.4131\n",
      "12  All (households)  2017  97.7997\n",
      "13  All (households)  2018  97.4134\n",
      "14  All (households)  2019  97.9223\n",
      "15  All (households)  2020  96.9534\n",
      "16  All (households)  2021  98.5570\n",
      "Esta es la media de Holanda de All (households): 85.35308235294119\n"
     ]
    }
   ],
   "source": [
    "# all (households)\n",
    "holanda_all=holanda.loc[holanda['Breakdowns']=='All (households)']\n",
    "print(holanda_all)\n",
    "\n",
    "# media\n",
    "holanda_media=holanda_all['Value'].mean()\n",
    "print(f'Esta es la media de Holanda de All (households): {holanda_media}')"
   ]
  },
  {
   "cell_type": "code",
   "execution_count": 117,
   "metadata": {},
   "outputs": [
    {
     "name": "stdout",
     "output_type": "stream",
     "text": [
      "                                  Breakdowns  TIME    Value\n",
      "51  Households with income in first quartile  2007  58.7068\n",
      "52  Households with income in first quartile  2008  59.8003\n",
      "53  Households with income in first quartile  2009  66.0216\n",
      "54  Households with income in first quartile  2010  66.4154\n",
      "55  Households with income in first quartile  2011  73.6875\n",
      "56  Households with income in first quartile  2012  77.5048\n",
      "57  Households with income in first quartile  2013  79.2963\n",
      "58  Households with income in first quartile  2014  87.5070\n",
      "59  Households with income in first quartile  2015  91.1225\n",
      "60  Households with income in first quartile  2016  92.5295\n",
      "61  Households with income in first quartile  2017  95.3762\n",
      "62  Households with income in first quartile  2018  95.6720\n",
      "63  Households with income in first quartile  2019  95.2821\n",
      "64  Households with income in first quartile  2020  92.8618\n",
      "Esta es la media de Holanda de Households with income in first quartile: 80.84169999999999\n"
     ]
    }
   ],
   "source": [
    "# Households with income in the first quartile\n",
    "holanda_first=holanda.loc[holanda['Breakdowns']=='Households with income in first quartile']\n",
    "print(holanda_first)\n",
    "\n",
    "# media\n",
    "holanda_media_first=holanda_first['Value'].mean()\n",
    "print(f'Esta es la media de Holanda de Households with income in first quartile: {holanda_media_first}')"
   ]
  },
  {
   "cell_type": "code",
   "execution_count": 118,
   "metadata": {},
   "outputs": [
    {
     "name": "stdout",
     "output_type": "stream",
     "text": [
      "                                   Breakdowns  TIME    Value\n",
      "79  Households with income in second quartile  2007  68.5646\n",
      "80  Households with income in second quartile  2008  70.7885\n",
      "81  Households with income in second quartile  2009  74.9069\n",
      "82  Households with income in second quartile  2010  79.4872\n",
      "83  Households with income in second quartile  2011  83.2457\n",
      "84  Households with income in second quartile  2012  85.9895\n",
      "85  Households with income in second quartile  2013  80.1337\n",
      "86  Households with income in second quartile  2014  91.6018\n",
      "87  Households with income in second quartile  2015  90.8550\n",
      "88  Households with income in second quartile  2016  92.3047\n",
      "89  Households with income in second quartile  2017  96.7529\n",
      "90  Households with income in second quartile  2018  96.2050\n",
      "91  Households with income in second quartile  2019  97.3291\n",
      "92  Households with income in second quartile  2020  96.7838\n",
      "Esta es la media de Holanda de Households with income in second quartile: 86.06774285714286\n"
     ]
    }
   ],
   "source": [
    "# Households with income in the second quartile\n",
    "holanda_second=holanda.loc[holanda['Breakdowns']=='Households with income in second quartile']\n",
    "print(holanda_second)\n",
    "\n",
    "# media\n",
    "holanda_media_second=holanda_second['Value'].mean()\n",
    "print(f'Esta es la media de Holanda de Households with income in second quartile: {holanda_media_second}')"
   ]
  },
  {
   "cell_type": "code",
   "execution_count": 119,
   "metadata": {},
   "outputs": [
    {
     "name": "stdout",
     "output_type": "stream",
     "text": [
      "                                   Breakdowns  TIME    Value\n",
      "93   Households with income in third quartile  2007  81.7573\n",
      "94   Households with income in third quartile  2008  82.0199\n",
      "95   Households with income in third quartile  2009  83.5117\n",
      "96   Households with income in third quartile  2010  83.4415\n",
      "97   Households with income in third quartile  2011  86.6681\n",
      "98   Households with income in third quartile  2012  90.0139\n",
      "99   Households with income in third quartile  2013  89.5385\n",
      "100  Households with income in third quartile  2014  97.2705\n",
      "101  Households with income in third quartile  2015  95.4315\n",
      "102  Households with income in third quartile  2016  97.3766\n",
      "103  Households with income in third quartile  2017  98.7068\n",
      "104  Households with income in third quartile  2018  97.6442\n",
      "105  Households with income in third quartile  2019  98.5535\n",
      "106  Households with income in third quartile  2020  98.3880\n",
      "Esta es la media de Holanda de Households with income in third quartile: 91.45157142857144\n"
     ]
    }
   ],
   "source": [
    "# Households with income in the third quartile\n",
    "holanda_third=holanda.loc[holanda['Breakdowns']=='Households with income in third quartile']\n",
    "print(holanda_third)\n",
    "\n",
    "# media\n",
    "holanda_media_third=holanda_third['Value'].mean()\n",
    "print(f'Esta es la media de Holanda de Households with income in third quartile: {holanda_media_third}')"
   ]
  },
  {
   "cell_type": "code",
   "execution_count": 120,
   "metadata": {},
   "outputs": [
    {
     "name": "stdout",
     "output_type": "stream",
     "text": [
      "                                   Breakdowns  TIME    Value\n",
      "65  Households with income in fourth quartile  2007  87.2211\n",
      "66  Households with income in fourth quartile  2008  83.3681\n",
      "67  Households with income in fourth quartile  2009  83.4892\n",
      "68  Households with income in fourth quartile  2010  89.2066\n",
      "69  Households with income in fourth quartile  2011  88.2212\n",
      "70  Households with income in fourth quartile  2012  91.6033\n",
      "71  Households with income in fourth quartile  2013  92.5345\n",
      "72  Households with income in fourth quartile  2014  98.2251\n",
      "73  Households with income in fourth quartile  2015  97.4061\n",
      "74  Households with income in fourth quartile  2016  98.6351\n",
      "75  Households with income in fourth quartile  2017  99.3422\n",
      "76  Households with income in fourth quartile  2018  99.2999\n",
      "77  Households with income in fourth quartile  2019  99.5917\n",
      "78  Households with income in fourth quartile  2020  98.9185\n",
      "Esta es la media de Holanda de Households with income in fourth quartile: 93.36161428571428\n"
     ]
    }
   ],
   "source": [
    "# Households with income in the fourth quartile\n",
    "holanda_fourth=holanda.loc[holanda['Breakdowns']=='Households with income in fourth quartile']\n",
    "print(holanda_fourth)\n",
    "\n",
    "# media\n",
    "holanda_media_fourth=holanda_fourth['Value'].mean()\n",
    "print(f'Esta es la media de Holanda de Households with income in fourth quartile: {holanda_media_fourth}')"
   ]
  },
  {
   "cell_type": "code",
   "execution_count": 121,
   "metadata": {},
   "outputs": [
    {
     "name": "stdout",
     "output_type": "stream",
     "text": [
      "                                Breakdowns  TIME    Value\n",
      "17  Households living in large urban areas  2005  57.2993\n",
      "18  Households living in large urban areas  2006  68.9234\n",
      "19  Households living in large urban areas  2007  74.5682\n",
      "20  Households living in large urban areas  2008  76.1104\n",
      "21  Households living in large urban areas  2009  79.7961\n",
      "22  Households living in large urban areas  2010  80.6927\n",
      "23  Households living in large urban areas  2011  83.9557\n",
      "24  Households living in large urban areas  2012  85.4253\n",
      "25  Households living in large urban areas  2013  88.2005\n",
      "26  Households living in large urban areas  2014  94.6366\n",
      "27  Households living in large urban areas  2015  94.9727\n",
      "28  Households living in large urban areas  2016  95.5000\n",
      "29  Households living in large urban areas  2017  97.9941\n",
      "30  Households living in large urban areas  2018  97.3722\n",
      "31  Households living in large urban areas  2019  98.3086\n",
      "32  Households living in large urban areas  2020  96.5799\n",
      "33  Households living in large urban areas  2021  98.5729\n",
      "Esta es la media de Holanda de Households living in large urban areas: 86.40638823529413\n"
     ]
    }
   ],
   "source": [
    "# Households living in large urban areas\n",
    "holanda_large=holanda.loc[holanda['Breakdowns']=='Households living in large urban areas']\n",
    "print(holanda_large)\n",
    "\n",
    "# media\n",
    "holanda_media_large=holanda_large['Value'].mean()\n",
    "print(f'Esta es la media de Holanda de Households living in large urban areas: {holanda_media_large}')"
   ]
  },
  {
   "cell_type": "code",
   "execution_count": 122,
   "metadata": {},
   "outputs": [
    {
     "name": "stdout",
     "output_type": "stream",
     "text": [
      "                          Breakdowns  TIME    Value\n",
      "34  Households living in rural areas  2005  49.0828\n",
      "35  Households living in rural areas  2006  62.7031\n",
      "36  Households living in rural areas  2007  71.5866\n",
      "37  Households living in rural areas  2008  70.9741\n",
      "38  Households living in rural areas  2009  72.2491\n",
      "39  Households living in rural areas  2010  78.1498\n",
      "40  Households living in rural areas  2011  80.2326\n",
      "41  Households living in rural areas  2012  82.5710\n",
      "42  Households living in rural areas  2013  86.4084\n",
      "43  Households living in rural areas  2014  94.4923\n",
      "44  Households living in rural areas  2015  95.4241\n",
      "45  Households living in rural areas  2016  93.1299\n",
      "46  Households living in rural areas  2017  95.9695\n",
      "47  Households living in rural areas  2018  97.1034\n",
      "48  Households living in rural areas  2019  98.2443\n",
      "49  Households living in rural areas  2020  96.2310\n",
      "50  Households living in rural areas  2021  98.4982\n",
      "Esta es la media de Holanda de Households living in rural areas: 83.70883529411765\n"
     ]
    }
   ],
   "source": [
    "# Households living in rural areas\n",
    "holanda_rural=holanda.loc[holanda['Breakdowns']=='Households living in rural areas']\n",
    "print(holanda_rural)\n",
    "\n",
    "# media\n",
    "holanda_media_rural=holanda_rural['Value'].mean()\n",
    "print(f'Esta es la media de Holanda de Households living in rural areas: {holanda_media_rural}')"
   ]
  },
  {
   "cell_type": "code",
   "execution_count": 123,
   "metadata": {},
   "outputs": [
    {
     "name": "stdout",
     "output_type": "stream",
     "text": [
      "                                   Breakdowns  TIME    Value\n",
      "0                            All (households)  2005  41.4356\n",
      "1                            All (households)  2006  57.0696\n",
      "2                            All (households)  2007  66.7168\n",
      "3                            All (households)  2008  72.9765\n",
      "4                            All (households)  2009  77.7683\n",
      "..                                        ...   ...      ...\n",
      "108  Households with income in third quartile  2016  96.2410\n",
      "109  Households with income in third quartile  2017  97.1100\n",
      "110  Households with income in third quartile  2018  95.6856\n",
      "111  Households with income in third quartile  2019  98.9430\n",
      "112  Households with income in third quartile  2020  99.1304\n",
      "\n",
      "[113 rows x 3 columns]\n"
     ]
    }
   ],
   "source": [
    "# Noruega\n",
    "noruega=intento.loc['NOR']\n",
    "noruega=noruega.reset_index()\n",
    "print(noruega)"
   ]
  },
  {
   "cell_type": "code",
   "execution_count": 124,
   "metadata": {},
   "outputs": [
    {
     "name": "stdout",
     "output_type": "stream",
     "text": [
      "          Breakdowns  TIME    Value\n",
      "0   All (households)  2005  41.4356\n",
      "1   All (households)  2006  57.0696\n",
      "2   All (households)  2007  66.7168\n",
      "3   All (households)  2008  72.9765\n",
      "4   All (households)  2009  77.7683\n",
      "5   All (households)  2010  82.5727\n",
      "6   All (households)  2011  80.3452\n",
      "7   All (households)  2012  85.8066\n",
      "8   All (households)  2013  87.8282\n",
      "9   All (households)  2014  87.8662\n",
      "10  All (households)  2015  91.1018\n",
      "11  All (households)  2016  96.1517\n",
      "12  All (households)  2017  93.8499\n",
      "13  All (households)  2018  94.0949\n",
      "14  All (households)  2019  97.4362\n",
      "15  All (households)  2020  96.0081\n",
      "16  All (households)  2021  98.6007\n",
      "Esta es la media de Noruega de All (households): 82.80170588235295\n"
     ]
    }
   ],
   "source": [
    "# all (households)\n",
    "noruega_all=noruega.loc[noruega['Breakdowns']=='All (households)']\n",
    "print(noruega_all)\n",
    "\n",
    "# media\n",
    "noruega_media=noruega_all['Value'].mean()\n",
    "print(f'Esta es la media de Noruega de All (households): {noruega_media}')"
   ]
  },
  {
   "cell_type": "code",
   "execution_count": 125,
   "metadata": {},
   "outputs": [
    {
     "name": "stdout",
     "output_type": "stream",
     "text": [
      "                                  Breakdowns  TIME    Value\n",
      "49  Households with income in first quartile  2005  29.8360\n",
      "50  Households with income in first quartile  2006  38.6086\n",
      "51  Households with income in first quartile  2007  50.3855\n",
      "52  Households with income in first quartile  2008  60.1979\n",
      "53  Households with income in first quartile  2009  63.8242\n",
      "54  Households with income in first quartile  2010  72.0027\n",
      "55  Households with income in first quartile  2011  67.6904\n",
      "56  Households with income in first quartile  2012  76.3681\n",
      "57  Households with income in first quartile  2013  79.7844\n",
      "58  Households with income in first quartile  2014  80.6438\n",
      "59  Households with income in first quartile  2015  88.5465\n",
      "60  Households with income in first quartile  2016  94.8017\n",
      "61  Households with income in first quartile  2017  87.8730\n",
      "62  Households with income in first quartile  2018  90.8635\n",
      "63  Households with income in first quartile  2019  93.9995\n",
      "64  Households with income in first quartile  2020  91.8156\n",
      "Esta es la media de Noruega de Households with income in first quartile: 72.95258749999999\n"
     ]
    }
   ],
   "source": [
    "# Households with income in the first quartile\n",
    "noruega_first=noruega.loc[noruega['Breakdowns']=='Households with income in first quartile']\n",
    "print(noruega_first)\n",
    "\n",
    "# media\n",
    "noruega_media_first=noruega_first['Value'].mean()\n",
    "print(f'Esta es la media de Noruega de Households with income in first quartile: {noruega_media_first}')"
   ]
  },
  {
   "cell_type": "code",
   "execution_count": 126,
   "metadata": {},
   "outputs": [
    {
     "name": "stdout",
     "output_type": "stream",
     "text": [
      "                                   Breakdowns  TIME    Value\n",
      "81  Households with income in second quartile  2005  34.4687\n",
      "82  Households with income in second quartile  2006  40.9307\n",
      "83  Households with income in second quartile  2007  60.3554\n",
      "84  Households with income in second quartile  2008  73.9857\n",
      "85  Households with income in second quartile  2009  83.6202\n",
      "86  Households with income in second quartile  2010  85.5321\n",
      "87  Households with income in second quartile  2011  81.6200\n",
      "88  Households with income in second quartile  2012  95.4510\n",
      "89  Households with income in second quartile  2013  89.7367\n",
      "90  Households with income in second quartile  2014  87.2041\n",
      "91  Households with income in second quartile  2015  89.0684\n",
      "92  Households with income in second quartile  2016  97.2923\n",
      "93  Households with income in second quartile  2017  96.3728\n",
      "94  Households with income in second quartile  2018  95.1079\n",
      "95  Households with income in second quartile  2019  99.6963\n",
      "96  Households with income in second quartile  2020  98.0597\n",
      "Esta es la media de Noruega de Households with income in second quartile: 81.781375\n"
     ]
    }
   ],
   "source": [
    "# Households with income in the second quartile\n",
    "noruega_second=noruega.loc[noruega['Breakdowns']=='Households with income in second quartile']\n",
    "print(noruega_second)\n",
    "\n",
    "# media\n",
    "noruega_media_second=noruega_second['Value'].mean()\n",
    "print(f'Esta es la media de Noruega de Households with income in second quartile: {noruega_media_second}')"
   ]
  },
  {
   "cell_type": "code",
   "execution_count": 127,
   "metadata": {},
   "outputs": [
    {
     "name": "stdout",
     "output_type": "stream",
     "text": [
      "                                   Breakdowns  TIME    Value\n",
      "97   Households with income in third quartile  2005  44.5470\n",
      "98   Households with income in third quartile  2006  66.0885\n",
      "99   Households with income in third quartile  2007  67.7150\n",
      "100  Households with income in third quartile  2008  85.9179\n",
      "101  Households with income in third quartile  2009  86.6405\n",
      "102  Households with income in third quartile  2010  91.4535\n",
      "103  Households with income in third quartile  2011  93.0286\n",
      "104  Households with income in third quartile  2012  92.0234\n",
      "105  Households with income in third quartile  2013  92.8145\n",
      "106  Households with income in third quartile  2014  94.2970\n",
      "107  Households with income in third quartile  2015  93.5988\n",
      "108  Households with income in third quartile  2016  96.2410\n",
      "109  Households with income in third quartile  2017  97.1100\n",
      "110  Households with income in third quartile  2018  95.6856\n",
      "111  Households with income in third quartile  2019  98.9430\n",
      "112  Households with income in third quartile  2020  99.1304\n",
      "Esta es la media de Noruega de Households with income in third quartile: 87.20216875\n"
     ]
    }
   ],
   "source": [
    "# Households with income in the third quartile\n",
    "noruega_third=noruega.loc[noruega['Breakdowns']=='Households with income in third quartile']\n",
    "print(noruega_third)\n",
    "\n",
    "# media\n",
    "noruega_media_third=noruega_third['Value'].mean()\n",
    "print(f'Esta es la media de Noruega de Households with income in third quartile: {noruega_media_third}')"
   ]
  },
  {
   "cell_type": "code",
   "execution_count": 128,
   "metadata": {},
   "outputs": [
    {
     "name": "stdout",
     "output_type": "stream",
     "text": [
      "                                   Breakdowns  TIME     Value\n",
      "65  Households with income in fourth quartile  2005   62.9277\n",
      "66  Households with income in fourth quartile  2006   83.5161\n",
      "67  Households with income in fourth quartile  2007   85.9230\n",
      "68  Households with income in fourth quartile  2008   91.2839\n",
      "69  Households with income in fourth quartile  2009   94.0145\n",
      "70  Households with income in fourth quartile  2010   96.0031\n",
      "71  Households with income in fourth quartile  2011   93.5290\n",
      "72  Households with income in fourth quartile  2012   95.0988\n",
      "73  Households with income in fourth quartile  2013   95.4912\n",
      "74  Households with income in fourth quartile  2014   96.7256\n",
      "75  Households with income in fourth quartile  2015   96.7428\n",
      "76  Households with income in fourth quartile  2016   97.3346\n",
      "77  Households with income in fourth quartile  2017   99.7486\n",
      "78  Households with income in fourth quartile  2018   97.6901\n",
      "79  Households with income in fourth quartile  2019  100.0000\n",
      "80  Households with income in fourth quartile  2020   99.3829\n",
      "Esta es la media de Noruega de Households with income in fourth quartile: 92.83824375\n"
     ]
    }
   ],
   "source": [
    "# Households with income in the fourth quartile\n",
    "noruega_fourth=noruega.loc[noruega['Breakdowns']=='Households with income in fourth quartile']\n",
    "print(noruega_fourth)\n",
    "\n",
    "# media\n",
    "noruega_media_fourth=noruega_fourth['Value'].mean()\n",
    "print(f'Esta es la media de Noruega de Households with income in fourth quartile: {noruega_media_fourth}')"
   ]
  },
  {
   "cell_type": "code",
   "execution_count": 129,
   "metadata": {},
   "outputs": [
    {
     "name": "stdout",
     "output_type": "stream",
     "text": [
      "                                Breakdowns  TIME    Value\n",
      "17  Households living in large urban areas  2005  51.3066\n",
      "18  Households living in large urban areas  2006  65.7277\n",
      "19  Households living in large urban areas  2007  74.2750\n",
      "20  Households living in large urban areas  2008  77.9174\n",
      "21  Households living in large urban areas  2009  82.5486\n",
      "22  Households living in large urban areas  2010  86.7904\n",
      "23  Households living in large urban areas  2011  75.7026\n",
      "24  Households living in large urban areas  2013  92.6112\n",
      "25  Households living in large urban areas  2014  91.3974\n",
      "26  Households living in large urban areas  2015  93.0108\n",
      "27  Households living in large urban areas  2016  97.6714\n",
      "28  Households living in large urban areas  2017  95.2680\n",
      "29  Households living in large urban areas  2018  93.8683\n",
      "30  Households living in large urban areas  2019  97.5825\n",
      "31  Households living in large urban areas  2020  99.8844\n",
      "32  Households living in large urban areas  2021  98.4434\n",
      "Esta es la media de Noruega de Households living in large urban areas: 85.87535625\n"
     ]
    }
   ],
   "source": [
    "# Households living in large urban areas\n",
    "noruega_large=noruega.loc[noruega['Breakdowns']=='Households living in large urban areas']\n",
    "print(noruega_large)\n",
    "\n",
    "# media\n",
    "noruega_media_large=noruega_large['Value'].mean()\n",
    "print(f'Esta es la media de Noruega de Households living in large urban areas: {noruega_media_large}')"
   ]
  },
  {
   "cell_type": "code",
   "execution_count": 130,
   "metadata": {},
   "outputs": [
    {
     "name": "stdout",
     "output_type": "stream",
     "text": [
      "                          Breakdowns  TIME    Value\n",
      "33  Households living in rural areas  2005  32.0224\n",
      "34  Households living in rural areas  2006  49.6389\n",
      "35  Households living in rural areas  2007  61.1408\n",
      "36  Households living in rural areas  2008  70.6425\n",
      "37  Households living in rural areas  2009  71.6343\n",
      "38  Households living in rural areas  2010  78.5542\n",
      "39  Households living in rural areas  2011  82.5009\n",
      "40  Households living in rural areas  2013  83.6793\n",
      "41  Households living in rural areas  2014  85.2610\n",
      "42  Households living in rural areas  2015  90.5382\n",
      "43  Households living in rural areas  2016  94.7064\n",
      "44  Households living in rural areas  2017  93.3138\n",
      "45  Households living in rural areas  2018  92.8117\n",
      "46  Households living in rural areas  2019  95.5685\n",
      "47  Households living in rural areas  2020  91.3281\n",
      "48  Households living in rural areas  2021  99.2207\n",
      "Esta es la media de Noruega de Households living in rural areas: 79.53510625000001\n"
     ]
    }
   ],
   "source": [
    "# Households living in rural areas\n",
    "noruega_rural=noruega.loc[noruega['Breakdowns']=='Households living in rural areas']\n",
    "print(noruega_rural)\n",
    "\n",
    "# media\n",
    "noruega_media_rural=noruega_rural['Value'].mean()\n",
    "print(f'Esta es la media de Noruega de Households living in rural areas: {noruega_media_rural}')"
   ]
  },
  {
   "cell_type": "code",
   "execution_count": 131,
   "metadata": {},
   "outputs": [
    {
     "name": "stdout",
     "output_type": "stream",
     "text": [
      "                                   Breakdowns  TIME    Value\n",
      "0                            All (households)  2005  15.5868\n",
      "1                            All (households)  2006  21.6420\n",
      "2                            All (households)  2007  29.5569\n",
      "3                            All (households)  2008  37.9491\n",
      "4                            All (households)  2009  51.1428\n",
      "..                                        ...   ...      ...\n",
      "110  Households with income in third quartile  2016  86.2373\n",
      "111  Households with income in third quartile  2017  88.9968\n",
      "112  Households with income in third quartile  2018  90.2618\n",
      "113  Households with income in third quartile  2019  92.0541\n",
      "114  Households with income in third quartile  2020  95.5506\n",
      "\n",
      "[115 rows x 3 columns]\n"
     ]
    }
   ],
   "source": [
    "# Polonia\n",
    "polonia=intento.loc['POL']\n",
    "polonia=polonia.reset_index()\n",
    "print(polonia)"
   ]
  },
  {
   "cell_type": "code",
   "execution_count": 132,
   "metadata": {},
   "outputs": [
    {
     "name": "stdout",
     "output_type": "stream",
     "text": [
      "          Breakdowns  TIME    Value\n",
      "0   All (households)  2005  15.5868\n",
      "1   All (households)  2006  21.6420\n",
      "2   All (households)  2007  29.5569\n",
      "3   All (households)  2008  37.9491\n",
      "4   All (households)  2009  51.1428\n",
      "5   All (households)  2010  56.8012\n",
      "6   All (households)  2011  61.1199\n",
      "7   All (households)  2012  66.9996\n",
      "8   All (households)  2013  68.7824\n",
      "9   All (households)  2014  71.1239\n",
      "10  All (households)  2015  71.0026\n",
      "11  All (households)  2016  75.7073\n",
      "12  All (households)  2017  77.6367\n",
      "13  All (households)  2018  79.3346\n",
      "14  All (households)  2019  83.3001\n",
      "15  All (households)  2020  89.5686\n",
      "16  All (households)  2021  91.7201\n",
      "Esta es la media de Polonia de All (households): 61.70438823529412\n"
     ]
    }
   ],
   "source": [
    "# all (households)\n",
    "polonia_all=polonia.loc[polonia['Breakdowns']=='All (households)']\n",
    "print(polonia_all)\n",
    "\n",
    "# media\n",
    "polonia_media=polonia_all['Value'].mean()\n",
    "print(f'Esta es la media de Polonia de All (households): {polonia_media}')"
   ]
  },
  {
   "cell_type": "code",
   "execution_count": 133,
   "metadata": {},
   "outputs": [
    {
     "name": "stdout",
     "output_type": "stream",
     "text": [
      "                                  Breakdowns  TIME    Value\n",
      "51  Households with income in first quartile  2005   5.1107\n",
      "52  Households with income in first quartile  2006   8.2209\n",
      "53  Households with income in first quartile  2007   9.3318\n",
      "54  Households with income in first quartile  2008  13.7619\n",
      "55  Households with income in first quartile  2009  19.5984\n",
      "56  Households with income in first quartile  2010  23.6154\n",
      "57  Households with income in first quartile  2011  26.8703\n",
      "58  Households with income in first quartile  2012  34.3609\n",
      "59  Households with income in first quartile  2013  41.7793\n",
      "60  Households with income in first quartile  2014  42.7442\n",
      "61  Households with income in first quartile  2015  43.7381\n",
      "62  Households with income in first quartile  2016  49.9399\n",
      "63  Households with income in first quartile  2017  48.5269\n",
      "64  Households with income in first quartile  2018  54.2165\n",
      "65  Households with income in first quartile  2019  60.4107\n",
      "66  Households with income in first quartile  2020  72.6470\n",
      "Esta es la media de Polonia de Households with income in first quartile: 34.679556250000005\n"
     ]
    }
   ],
   "source": [
    "# Households with income in the first quartile\n",
    "polonia_first=polonia.loc[polonia['Breakdowns']=='Households with income in first quartile']\n",
    "print(polonia_first)\n",
    "\n",
    "# media\n",
    "polonia_media_first=polonia_first['Value'].mean()\n",
    "print(f'Esta es la media de Polonia de Households with income in first quartile: {polonia_media_first}')"
   ]
  },
  {
   "cell_type": "code",
   "execution_count": 134,
   "metadata": {},
   "outputs": [
    {
     "name": "stdout",
     "output_type": "stream",
     "text": [
      "                                   Breakdowns  TIME    Value\n",
      "83  Households with income in second quartile  2005  10.2728\n",
      "84  Households with income in second quartile  2006  16.3027\n",
      "85  Households with income in second quartile  2007  17.4166\n",
      "86  Households with income in second quartile  2008  26.6918\n",
      "87  Households with income in second quartile  2009  41.8749\n",
      "88  Households with income in second quartile  2010  54.0120\n",
      "89  Households with income in second quartile  2011  56.3544\n",
      "90  Households with income in second quartile  2012  62.4103\n",
      "91  Households with income in second quartile  2013  63.9305\n",
      "92  Households with income in second quartile  2014  68.8743\n",
      "93  Households with income in second quartile  2015  69.6611\n",
      "94  Households with income in second quartile  2016  75.3987\n",
      "95  Households with income in second quartile  2017  79.9580\n",
      "96  Households with income in second quartile  2018  79.7676\n",
      "97  Households with income in second quartile  2019  83.1822\n",
      "98  Households with income in second quartile  2020  91.3483\n",
      "Esta es la media de Polonia de Households with income in second quartile: 56.0910125\n"
     ]
    }
   ],
   "source": [
    "# Households with income in the second quartile\n",
    "polonia_second=polonia.loc[polonia['Breakdowns']=='Households with income in second quartile']\n",
    "print(polonia_second)\n",
    "\n",
    "# media\n",
    "polonia_media_second=polonia_second['Value'].mean()\n",
    "print(f'Esta es la media de Polonia de Households with income in second quartile: {polonia_media_second}')"
   ]
  },
  {
   "cell_type": "code",
   "execution_count": 135,
   "metadata": {},
   "outputs": [
    {
     "name": "stdout",
     "output_type": "stream",
     "text": [
      "                                   Breakdowns  TIME    Value\n",
      "99   Households with income in third quartile  2005  15.2994\n",
      "100  Households with income in third quartile  2006  26.7112\n",
      "101  Households with income in third quartile  2007  33.5509\n",
      "102  Households with income in third quartile  2008  45.1059\n",
      "103  Households with income in third quartile  2009  61.9960\n",
      "104  Households with income in third quartile  2010  65.4668\n",
      "105  Households with income in third quartile  2011  73.0464\n",
      "106  Households with income in third quartile  2012  79.9026\n",
      "107  Households with income in third quartile  2013  80.2137\n",
      "108  Households with income in third quartile  2014  81.0178\n",
      "109  Households with income in third quartile  2015  81.2971\n",
      "110  Households with income in third quartile  2016  86.2373\n",
      "111  Households with income in third quartile  2017  88.9968\n",
      "112  Households with income in third quartile  2018  90.2618\n",
      "113  Households with income in third quartile  2019  92.0541\n",
      "114  Households with income in third quartile  2020  95.5506\n",
      "Esta es la media de Polonia de Households with income in third quartile: 68.544275\n"
     ]
    }
   ],
   "source": [
    "# Households with income in the third quartile\n",
    "polonia_third=polonia.loc[polonia['Breakdowns']=='Households with income in third quartile']\n",
    "print(polonia_third)\n",
    "\n",
    "# media\n",
    "polonia_media_third=polonia_third['Value'].mean()\n",
    "print(f'Esta es la media de Polonia de Households with income in third quartile: {polonia_media_third}')"
   ]
  },
  {
   "cell_type": "code",
   "execution_count": 136,
   "metadata": {},
   "outputs": [
    {
     "name": "stdout",
     "output_type": "stream",
     "text": [
      "                                   Breakdowns  TIME    Value\n",
      "67  Households with income in fourth quartile  2005  33.2879\n",
      "68  Households with income in fourth quartile  2006  48.8799\n",
      "69  Households with income in fourth quartile  2007  56.1786\n",
      "70  Households with income in fourth quartile  2008  66.6782\n",
      "71  Households with income in fourth quartile  2009  81.2917\n",
      "72  Households with income in fourth quartile  2010  83.8165\n",
      "73  Households with income in fourth quartile  2011  88.1779\n",
      "74  Households with income in fourth quartile  2012  91.3865\n",
      "75  Households with income in fourth quartile  2013  89.2174\n",
      "76  Households with income in fourth quartile  2014  91.9363\n",
      "77  Households with income in fourth quartile  2015  89.2698\n",
      "78  Households with income in fourth quartile  2016  91.1794\n",
      "79  Households with income in fourth quartile  2017  93.0375\n",
      "80  Households with income in fourth quartile  2018  92.7891\n",
      "81  Households with income in fourth quartile  2019  95.7434\n",
      "82  Households with income in fourth quartile  2020  98.6408\n",
      "Esta es la media de Polonia de Households with income in fourth quartile: 80.71943125\n"
     ]
    }
   ],
   "source": [
    "# Households with income in the fourth quartile\n",
    "polonia_fourth=polonia.loc[polonia['Breakdowns']=='Households with income in fourth quartile']\n",
    "print(polonia_fourth)\n",
    "\n",
    "# media\n",
    "polonia_media_fourth=polonia_fourth['Value'].mean()\n",
    "print(f'Esta es la media de Polonia de Households with income in fourth quartile: {polonia_media_fourth}')"
   ]
  },
  {
   "cell_type": "code",
   "execution_count": 137,
   "metadata": {},
   "outputs": [
    {
     "name": "stdout",
     "output_type": "stream",
     "text": [
      "                                Breakdowns  TIME    Value\n",
      "17  Households living in large urban areas  2005  25.5341\n",
      "18  Households living in large urban areas  2006  31.4752\n",
      "19  Households living in large urban areas  2007  38.1816\n",
      "20  Households living in large urban areas  2008  46.6947\n",
      "21  Households living in large urban areas  2009  59.5168\n",
      "22  Households living in large urban areas  2010  62.9652\n",
      "23  Households living in large urban areas  2011  66.6327\n",
      "24  Households living in large urban areas  2012  73.1128\n",
      "25  Households living in large urban areas  2013  74.5963\n",
      "26  Households living in large urban areas  2014  76.0178\n",
      "27  Households living in large urban areas  2015  75.9483\n",
      "28  Households living in large urban areas  2016  78.7361\n",
      "29  Households living in large urban areas  2017  81.0071\n",
      "30  Households living in large urban areas  2018  82.9873\n",
      "31  Households living in large urban areas  2019  86.4905\n",
      "32  Households living in large urban areas  2020  90.4969\n",
      "33  Households living in large urban areas  2021  92.9673\n",
      "Esta es la media de Polonia de Households living in large urban areas: 67.25651176470588\n"
     ]
    }
   ],
   "source": [
    "# Households living in large urban areas\n",
    "polonia_large=polonia.loc[polonia['Breakdowns']=='Households living in large urban areas']\n",
    "print(polonia_large)\n",
    "\n",
    "# media\n",
    "polonia_media_large=polonia_large['Value'].mean()\n",
    "print(f'Esta es la media de Polonia de Households living in large urban areas: {polonia_media_large}')"
   ]
  },
  {
   "cell_type": "code",
   "execution_count": 138,
   "metadata": {},
   "outputs": [
    {
     "name": "stdout",
     "output_type": "stream",
     "text": [
      "                          Breakdowns  TIME    Value\n",
      "34  Households living in rural areas  2005   5.1808\n",
      "35  Households living in rural areas  2006   9.8371\n",
      "36  Households living in rural areas  2007  21.5032\n",
      "37  Households living in rural areas  2008  29.8258\n",
      "38  Households living in rural areas  2009  42.2148\n",
      "39  Households living in rural areas  2010  50.2912\n",
      "40  Households living in rural areas  2011  55.3493\n",
      "41  Households living in rural areas  2012  59.9578\n",
      "42  Households living in rural areas  2013  62.7099\n",
      "43  Households living in rural areas  2014  66.4214\n",
      "44  Households living in rural areas  2015  66.2206\n",
      "45  Households living in rural areas  2016  73.3350\n",
      "46  Households living in rural areas  2017  74.4913\n",
      "47  Households living in rural areas  2018  75.7231\n",
      "48  Households living in rural areas  2019  79.0093\n",
      "49  Households living in rural areas  2020  88.3162\n",
      "50  Households living in rural areas  2021  91.0914\n",
      "Esta es la media de Polonia de Households living in rural areas: 55.96930588235295\n"
     ]
    }
   ],
   "source": [
    "# Households living in rural areas\n",
    "polonia_rural=polonia.loc[polonia['Breakdowns']=='Households living in rural areas']\n",
    "print(polonia_rural)\n",
    "\n",
    "# media\n",
    "polonia_media_rural=polonia_rural['Value'].mean()\n",
    "print(f'Esta es la media de Polonia de Households living in rural areas: {polonia_media_rural}')"
   ]
  },
  {
   "cell_type": "code",
   "execution_count": 139,
   "metadata": {},
   "outputs": [
    {
     "name": "stdout",
     "output_type": "stream",
     "text": [
      "                                   Breakdowns  TIME    Value\n",
      "0                            All (households)  2005   7.1164\n",
      "1                            All (households)  2006  11.4169\n",
      "2                            All (households)  2007  26.5023\n",
      "3                            All (households)  2008  35.3300\n",
      "4                            All (households)  2009  41.7274\n",
      "..                                        ...   ...      ...\n",
      "110  Households with income in third quartile  2016  85.2080\n",
      "111  Households with income in third quartile  2017  84.0782\n",
      "112  Households with income in third quartile  2018  76.5417\n",
      "113  Households with income in third quartile  2019  86.8011\n",
      "114  Households with income in third quartile  2020  88.7369\n",
      "\n",
      "[115 rows x 3 columns]\n"
     ]
    }
   ],
   "source": [
    "# Eslovaquia\n",
    "eslovaquia=intento.loc['SVK']\n",
    "eslovaquia=eslovaquia.reset_index()\n",
    "print(eslovaquia)"
   ]
  },
  {
   "cell_type": "code",
   "execution_count": 140,
   "metadata": {},
   "outputs": [
    {
     "name": "stdout",
     "output_type": "stream",
     "text": [
      "          Breakdowns  TIME    Value\n",
      "0   All (households)  2005   7.1164\n",
      "1   All (households)  2006  11.4169\n",
      "2   All (households)  2007  26.5023\n",
      "3   All (households)  2008  35.3300\n",
      "4   All (households)  2009  41.7274\n",
      "5   All (households)  2010  49.3512\n",
      "6   All (households)  2011  55.3284\n",
      "7   All (households)  2012  72.0535\n",
      "8   All (households)  2013  70.1813\n",
      "9   All (households)  2014  76.4151\n",
      "10  All (households)  2015  77.5993\n",
      "11  All (households)  2016  78.1514\n",
      "12  All (households)  2017  78.9105\n",
      "13  All (households)  2018  78.9901\n",
      "14  All (households)  2019  80.3562\n",
      "15  All (households)  2020  84.6838\n",
      "16  All (households)  2021  89.9268\n",
      "Esta es la media de Eslovaquia de All (households): 59.64944705882353\n"
     ]
    }
   ],
   "source": [
    "# all (households)\n",
    "eslovaquia_all=eslovaquia.loc[eslovaquia['Breakdowns']=='All (households)']\n",
    "print(eslovaquia_all)\n",
    "\n",
    "# media\n",
    "eslovaquia_media=eslovaquia_all['Value'].mean()\n",
    "print(f'Esta es la media de Eslovaquia de All (households): {eslovaquia_media}')"
   ]
  },
  {
   "cell_type": "code",
   "execution_count": 141,
   "metadata": {},
   "outputs": [
    {
     "name": "stdout",
     "output_type": "stream",
     "text": [
      "                                  Breakdowns  TIME    Value\n",
      "51  Households with income in first quartile  2005   2.3598\n",
      "52  Households with income in first quartile  2006   2.2297\n",
      "53  Households with income in first quartile  2007   8.2047\n",
      "54  Households with income in first quartile  2008  10.6610\n",
      "55  Households with income in first quartile  2009  11.9647\n",
      "56  Households with income in first quartile  2010  15.4534\n",
      "57  Households with income in first quartile  2011  29.0188\n",
      "58  Households with income in first quartile  2012  42.4299\n",
      "59  Households with income in first quartile  2013  43.0376\n",
      "60  Households with income in first quartile  2014  43.7250\n",
      "61  Households with income in first quartile  2015  47.3249\n",
      "62  Households with income in first quartile  2016  53.4237\n",
      "63  Households with income in first quartile  2017  63.7129\n",
      "64  Households with income in first quartile  2018  61.1075\n",
      "65  Households with income in first quartile  2019  65.3862\n",
      "66  Households with income in first quartile  2020  80.1725\n",
      "Esta es la media de Eslovaquia de Households with income in first quartile: 36.26326875\n"
     ]
    }
   ],
   "source": [
    "# Households with income in the first quartile\n",
    "eslovaquia_first=eslovaquia.loc[eslovaquia['Breakdowns']=='Households with income in first quartile']\n",
    "print(eslovaquia_first)\n",
    "\n",
    "# media\n",
    "eslovaquia_media_first=eslovaquia_first['Value'].mean()\n",
    "print(f'Esta es la media de Eslovaquia de Households with income in first quartile: {eslovaquia_media_first}')"
   ]
  },
  {
   "cell_type": "code",
   "execution_count": 142,
   "metadata": {},
   "outputs": [
    {
     "name": "stdout",
     "output_type": "stream",
     "text": [
      "                                   Breakdowns  TIME    Value\n",
      "83  Households with income in second quartile  2005  10.2783\n",
      "84  Households with income in second quartile  2006   7.1105\n",
      "85  Households with income in second quartile  2007  19.4812\n",
      "86  Households with income in second quartile  2008  30.8434\n",
      "87  Households with income in second quartile  2009  34.6832\n",
      "88  Households with income in second quartile  2010  42.4636\n",
      "89  Households with income in second quartile  2011  59.2083\n",
      "90  Households with income in second quartile  2012  76.3379\n",
      "91  Households with income in second quartile  2013  71.0944\n",
      "92  Households with income in second quartile  2014  77.3324\n",
      "93  Households with income in second quartile  2015  79.0438\n",
      "94  Households with income in second quartile  2016  77.3181\n",
      "95  Households with income in second quartile  2017  72.1485\n",
      "96  Households with income in second quartile  2018  82.7661\n",
      "97  Households with income in second quartile  2019  73.8545\n",
      "98  Households with income in second quartile  2020  78.4668\n",
      "Esta es la media de Eslovaquia de Households with income in second quartile: 55.77693750000001\n"
     ]
    }
   ],
   "source": [
    "# Households with income in the second quartile\n",
    "eslovaquia_second=eslovaquia.loc[eslovaquia['Breakdowns']=='Households with income in second quartile']\n",
    "print(eslovaquia_second)\n",
    "\n",
    "# media\n",
    "eslovaquia_media_second=eslovaquia_second['Value'].mean()\n",
    "print(f'Esta es la media de Eslovaquia de Households with income in second quartile: {eslovaquia_media_second}')"
   ]
  },
  {
   "cell_type": "code",
   "execution_count": 143,
   "metadata": {},
   "outputs": [
    {
     "name": "stdout",
     "output_type": "stream",
     "text": [
      "                                   Breakdowns  TIME    Value\n",
      "99   Households with income in third quartile  2005   6.7895\n",
      "100  Households with income in third quartile  2006  15.3601\n",
      "101  Households with income in third quartile  2007  30.5267\n",
      "102  Households with income in third quartile  2008  45.8156\n",
      "103  Households with income in third quartile  2009  53.7931\n",
      "104  Households with income in third quartile  2010  60.2759\n",
      "105  Households with income in third quartile  2011  69.7967\n",
      "106  Households with income in third quartile  2012  88.8577\n",
      "107  Households with income in third quartile  2013  82.2455\n",
      "108  Households with income in third quartile  2014  92.1933\n",
      "109  Households with income in third quartile  2015  92.5821\n",
      "110  Households with income in third quartile  2016  85.2080\n",
      "111  Households with income in third quartile  2017  84.0782\n",
      "112  Households with income in third quartile  2018  76.5417\n",
      "113  Households with income in third quartile  2019  86.8011\n",
      "114  Households with income in third quartile  2020  88.7369\n",
      "Esta es la media de Eslovaquia de Households with income in third quartile: 66.22513125\n"
     ]
    }
   ],
   "source": [
    "# Households with income in the third quartile\n",
    "eslovaquia_third=eslovaquia.loc[eslovaquia['Breakdowns']=='Households with income in third quartile']\n",
    "print(eslovaquia_third)\n",
    "\n",
    "# media\n",
    "eslovaquia_media_third=eslovaquia_third['Value'].mean()\n",
    "print(f'Esta es la media de Eslovaquia de Households with income in third quartile: {eslovaquia_media_third}')"
   ]
  },
  {
   "cell_type": "code",
   "execution_count": 144,
   "metadata": {},
   "outputs": [
    {
     "name": "stdout",
     "output_type": "stream",
     "text": [
      "                                   Breakdowns  TIME    Value\n",
      "67  Households with income in fourth quartile  2005  10.2813\n",
      "68  Households with income in fourth quartile  2006  23.9452\n",
      "69  Households with income in fourth quartile  2007  48.0109\n",
      "70  Households with income in fourth quartile  2008  58.3725\n",
      "71  Households with income in fourth quartile  2009  64.7480\n",
      "72  Households with income in fourth quartile  2010  72.6328\n",
      "73  Households with income in fourth quartile  2011  79.0475\n",
      "74  Households with income in fourth quartile  2012  92.1501\n",
      "75  Households with income in fourth quartile  2013  88.2370\n",
      "76  Households with income in fourth quartile  2014  95.1770\n",
      "77  Households with income in fourth quartile  2015  95.0212\n",
      "78  Households with income in fourth quartile  2016  96.5425\n",
      "79  Households with income in fourth quartile  2017  95.0405\n",
      "80  Households with income in fourth quartile  2018  94.0089\n",
      "81  Households with income in fourth quartile  2019  95.3210\n",
      "82  Households with income in fourth quartile  2020  91.4602\n",
      "Esta es la media de Eslovaquia de Households with income in fourth quartile: 74.9997875\n"
     ]
    }
   ],
   "source": [
    "# Households with income in the fourth quartile\n",
    "eslovaquia_fourth=eslovaquia.loc[eslovaquia['Breakdowns']=='Households with income in fourth quartile']\n",
    "print(eslovaquia_fourth)\n",
    "\n",
    "# media\n",
    "eslovaquia_media_fourth=eslovaquia_fourth['Value'].mean()\n",
    "print(f'Esta es la media de Eslovaquia de Households with income in fourth quartile: {eslovaquia_media_fourth}')"
   ]
  },
  {
   "cell_type": "code",
   "execution_count": 145,
   "metadata": {},
   "outputs": [
    {
     "name": "stdout",
     "output_type": "stream",
     "text": [
      "                                Breakdowns  TIME    Value\n",
      "17  Households living in large urban areas  2005  15.4979\n",
      "18  Households living in large urban areas  2006  19.7394\n",
      "19  Households living in large urban areas  2007  34.2125\n",
      "20  Households living in large urban areas  2008  42.5397\n",
      "21  Households living in large urban areas  2009  48.2040\n",
      "22  Households living in large urban areas  2010  60.6909\n",
      "23  Households living in large urban areas  2011  63.8830\n",
      "24  Households living in large urban areas  2012  80.1102\n",
      "25  Households living in large urban areas  2013  76.6267\n",
      "26  Households living in large urban areas  2014  80.7898\n",
      "27  Households living in large urban areas  2015  80.2646\n",
      "28  Households living in large urban areas  2016  83.1471\n",
      "29  Households living in large urban areas  2017  81.3532\n",
      "30  Households living in large urban areas  2018  86.0400\n",
      "31  Households living in large urban areas  2019  86.5637\n",
      "32  Households living in large urban areas  2020  83.7414\n",
      "33  Households living in large urban areas  2021  92.8194\n",
      "Esta es la media de Eslovaquia de Households living in large urban areas: 65.66020588235294\n"
     ]
    }
   ],
   "source": [
    "# Households living in large urban areas\n",
    "eslovaquia_large=eslovaquia.loc[eslovaquia['Breakdowns']=='Households living in large urban areas']\n",
    "print(eslovaquia_large)\n",
    "\n",
    "# media\n",
    "eslovaquia_media_large=eslovaquia_large['Value'].mean()\n",
    "print(f'Esta es la media de Eslovaquia de Households living in large urban areas: {eslovaquia_media_large}')"
   ]
  },
  {
   "cell_type": "code",
   "execution_count": 146,
   "metadata": {},
   "outputs": [
    {
     "name": "stdout",
     "output_type": "stream",
     "text": [
      "                          Breakdowns  TIME    Value\n",
      "34  Households living in rural areas  2005   4.0143\n",
      "35  Households living in rural areas  2006   8.3469\n",
      "36  Households living in rural areas  2007  23.6540\n",
      "37  Households living in rural areas  2008  32.6665\n",
      "38  Households living in rural areas  2009  39.3347\n",
      "39  Households living in rural areas  2010  45.1620\n",
      "40  Households living in rural areas  2011  52.1680\n",
      "41  Households living in rural areas  2012  66.4384\n",
      "42  Households living in rural areas  2013  65.1735\n",
      "43  Households living in rural areas  2014  71.2233\n",
      "44  Households living in rural areas  2015  72.7092\n",
      "45  Households living in rural areas  2016  74.5995\n",
      "46  Households living in rural areas  2017  74.5621\n",
      "47  Households living in rural areas  2018  71.0029\n",
      "48  Households living in rural areas  2019  75.1319\n",
      "49  Households living in rural areas  2020  84.8446\n",
      "50  Households living in rural areas  2021  87.2884\n",
      "Esta es la media de Eslovaquia de Households living in rural areas: 55.783541176470585\n"
     ]
    }
   ],
   "source": [
    "# Households living in rural areas\n",
    "eslovaquia_rural=eslovaquia.loc[eslovaquia['Breakdowns']=='Households living in rural areas']\n",
    "print(eslovaquia_rural)\n",
    "\n",
    "# media\n",
    "eslovaquia_media_rural=eslovaquia_rural['Value'].mean()\n",
    "print(f'Esta es la media de Eslovaquia de Households living in rural areas: {eslovaquia_media_rural}')"
   ]
  },
  {
   "cell_type": "code",
   "execution_count": 147,
   "metadata": {},
   "outputs": [
    {
     "name": "stdout",
     "output_type": "stream",
     "text": [
      "                                   Breakdowns  TIME    Value\n",
      "0                            All (households)  2005  20.7541\n",
      "1                            All (households)  2006  28.4993\n",
      "2                            All (households)  2007  38.2481\n",
      "3                            All (households)  2008  43.5725\n",
      "4                            All (households)  2009  50.3055\n",
      "..                                        ...   ...      ...\n",
      "98   Households with income in third quartile  2016  93.4071\n",
      "99   Households with income in third quartile  2017  93.9909\n",
      "100  Households with income in third quartile  2018  95.7067\n",
      "101  Households with income in third quartile  2019  97.1845\n",
      "102  Households with income in third quartile  2020  98.9015\n",
      "\n",
      "[103 rows x 3 columns]\n"
     ]
    }
   ],
   "source": [
    "# España\n",
    "espana=intento.loc['ESP']\n",
    "espana=espana.reset_index()\n",
    "print(espana)"
   ]
  },
  {
   "cell_type": "code",
   "execution_count": 148,
   "metadata": {},
   "outputs": [
    {
     "name": "stdout",
     "output_type": "stream",
     "text": [
      "          Breakdowns  TIME    Value\n",
      "0   All (households)  2005  20.7541\n",
      "1   All (households)  2006  28.4993\n",
      "2   All (households)  2007  38.2481\n",
      "3   All (households)  2008  43.5725\n",
      "4   All (households)  2009  50.3055\n",
      "5   All (households)  2010  56.1468\n",
      "6   All (households)  2011  60.7518\n",
      "7   All (households)  2012  65.4722\n",
      "8   All (households)  2013  68.8264\n",
      "9   All (households)  2014  73.0153\n",
      "10  All (households)  2015  77.8207\n",
      "11  All (households)  2016  81.1554\n",
      "12  All (households)  2017  82.6833\n",
      "13  All (households)  2018  86.1152\n",
      "14  All (households)  2019  91.1694\n",
      "15  All (households)  2020  95.2835\n",
      "16  All (households)  2021  95.9109\n",
      "Esta es la media de España de All (households): 65.63119999999999\n"
     ]
    }
   ],
   "source": [
    "# all (households)\n",
    "espana_all=espana.loc[espana['Breakdowns']=='All (households)']\n",
    "print(espana_all)\n",
    "\n",
    "# media\n",
    "espana_media=espana_all['Value'].mean()\n",
    "print(f'Esta es la media de España de All (households): {espana_media}')"
   ]
  },
  {
   "cell_type": "code",
   "execution_count": 149,
   "metadata": {},
   "outputs": [
    {
     "name": "stdout",
     "output_type": "stream",
     "text": [
      "                                  Breakdowns  TIME    Value\n",
      "51  Households with income in first quartile  2008  16.0476\n",
      "52  Households with income in first quartile  2009  19.5585\n",
      "53  Households with income in first quartile  2010  27.5193\n",
      "54  Households with income in first quartile  2011  31.9121\n",
      "55  Households with income in first quartile  2012  38.2053\n",
      "56  Households with income in first quartile  2013  39.9563\n",
      "57  Households with income in first quartile  2014  46.1370\n",
      "58  Households with income in first quartile  2015  51.8350\n",
      "59  Households with income in first quartile  2016  55.7237\n",
      "60  Households with income in first quartile  2017  62.6004\n",
      "61  Households with income in first quartile  2018  68.1530\n",
      "62  Households with income in first quartile  2019  77.3635\n",
      "63  Households with income in first quartile  2020  85.8695\n",
      "Esta es la media de España de Households with income in first quartile: 47.76009230769231\n"
     ]
    }
   ],
   "source": [
    "# Households with income in the first quartile\n",
    "espana_first=espana.loc[espana['Breakdowns']=='Households with income in first quartile']\n",
    "print(espana_first)\n",
    "\n",
    "# media\n",
    "espana_media_first=espana_first['Value'].mean()\n",
    "print(f'Esta es la media de España de Households with income in first quartile: {espana_media_first}')"
   ]
  },
  {
   "cell_type": "code",
   "execution_count": 150,
   "metadata": {},
   "outputs": [
    {
     "name": "stdout",
     "output_type": "stream",
     "text": [
      "                                   Breakdowns  TIME    Value\n",
      "77  Households with income in second quartile  2008  41.2223\n",
      "78  Households with income in second quartile  2009  49.9693\n",
      "79  Households with income in second quartile  2010  55.0659\n",
      "80  Households with income in second quartile  2011  62.7123\n",
      "81  Households with income in second quartile  2012  69.8247\n",
      "82  Households with income in second quartile  2013  67.7558\n",
      "83  Households with income in second quartile  2014  72.1259\n",
      "84  Households with income in second quartile  2015  77.2281\n",
      "85  Households with income in second quartile  2016  80.2660\n",
      "86  Households with income in second quartile  2017  80.9113\n",
      "87  Households with income in second quartile  2018  84.3975\n",
      "88  Households with income in second quartile  2019  90.2323\n",
      "89  Households with income in second quartile  2020  95.2313\n",
      "Esta es la media de España de Households with income in second quartile: 71.30328461538461\n"
     ]
    }
   ],
   "source": [
    "# Households with income in the second quartile\n",
    "espana_second=espana.loc[espana['Breakdowns']=='Households with income in second quartile']\n",
    "print(espana_second)\n",
    "\n",
    "# media\n",
    "espana_media_second=espana_second['Value'].mean()\n",
    "print(f'Esta es la media de España de Households with income in second quartile: {espana_media_second}')"
   ]
  },
  {
   "cell_type": "code",
   "execution_count": 151,
   "metadata": {},
   "outputs": [
    {
     "name": "stdout",
     "output_type": "stream",
     "text": [
      "                                   Breakdowns  TIME    Value\n",
      "90   Households with income in third quartile  2008  63.2569\n",
      "91   Households with income in third quartile  2009  70.9018\n",
      "92   Households with income in third quartile  2010  77.8178\n",
      "93   Households with income in third quartile  2011  83.9053\n",
      "94   Households with income in third quartile  2012  87.1408\n",
      "95   Households with income in third quartile  2013  85.9566\n",
      "96   Households with income in third quartile  2014  90.2696\n",
      "97   Households with income in third quartile  2015  91.7810\n",
      "98   Households with income in third quartile  2016  93.4071\n",
      "99   Households with income in third quartile  2017  93.9909\n",
      "100  Households with income in third quartile  2018  95.7067\n",
      "101  Households with income in third quartile  2019  97.1845\n",
      "102  Households with income in third quartile  2020  98.9015\n",
      "Esta es la media de España de Households with income in third quartile: 86.94003846153845\n"
     ]
    }
   ],
   "source": [
    "#  Households with income in the third quartile\n",
    "espana_third=espana.loc[espana['Breakdowns']=='Households with income in third quartile']\n",
    "print(espana_third)\n",
    "\n",
    "# media\n",
    "espana_media_third=espana_third['Value'].mean()\n",
    "print(f'Esta es la media de España de Households with income in third quartile: {espana_media_third}')"
   ]
  },
  {
   "cell_type": "code",
   "execution_count": 152,
   "metadata": {},
   "outputs": [
    {
     "name": "stdout",
     "output_type": "stream",
     "text": [
      "                                   Breakdowns  TIME    Value\n",
      "64  Households with income in fourth quartile  2008  76.0786\n",
      "65  Households with income in fourth quartile  2009  83.7659\n",
      "66  Households with income in fourth quartile  2010  89.9833\n",
      "67  Households with income in fourth quartile  2011  91.5318\n",
      "68  Households with income in fourth quartile  2012  94.7833\n",
      "69  Households with income in fourth quartile  2013  96.7973\n",
      "70  Households with income in fourth quartile  2014  96.8688\n",
      "71  Households with income in fourth quartile  2015  97.9685\n",
      "72  Households with income in fourth quartile  2016  98.1245\n",
      "73  Households with income in fourth quartile  2017  98.6002\n",
      "74  Households with income in fourth quartile  2018  98.9548\n",
      "75  Households with income in fourth quartile  2019  99.1015\n",
      "76  Households with income in fourth quartile  2020  99.8065\n",
      "Esta es la media de España de Households with income in fourth quartile: 94.02807692307692\n"
     ]
    }
   ],
   "source": [
    "# Households with income in the fourth quartile\n",
    "espana_fourth=espana.loc[espana['Breakdowns']=='Households with income in fourth quartile']\n",
    "print(espana_fourth)\n",
    "\n",
    "# media\n",
    "espana_media_fourth=espana_fourth['Value'].mean()\n",
    "print(f'Esta es la media de España de Households with income in fourth quartile: {espana_media_fourth}')"
   ]
  },
  {
   "cell_type": "code",
   "execution_count": 153,
   "metadata": {},
   "outputs": [
    {
     "name": "stdout",
     "output_type": "stream",
     "text": [
      "                                Breakdowns  TIME    Value\n",
      "17  Households living in large urban areas  2005  26.3032\n",
      "18  Households living in large urban areas  2006  35.2070\n",
      "19  Households living in large urban areas  2007  45.8767\n",
      "20  Households living in large urban areas  2008  50.4178\n",
      "21  Households living in large urban areas  2009  56.8098\n",
      "22  Households living in large urban areas  2010  61.8186\n",
      "23  Households living in large urban areas  2011  65.6032\n",
      "24  Households living in large urban areas  2012  69.4213\n",
      "25  Households living in large urban areas  2013  72.7990\n",
      "26  Households living in large urban areas  2014  77.2315\n",
      "27  Households living in large urban areas  2015  81.8045\n",
      "28  Households living in large urban areas  2016  84.0657\n",
      "29  Households living in large urban areas  2017  85.3917\n",
      "30  Households living in large urban areas  2018  89.2729\n",
      "31  Households living in large urban areas  2019  93.4064\n",
      "32  Households living in large urban areas  2020  96.5678\n",
      "33  Households living in large urban areas  2021  96.6997\n",
      "Esta es la media de España de Households living in large urban areas: 69.9233411764706\n"
     ]
    }
   ],
   "source": [
    "# Households living in large urban areas\n",
    "espana_large=espana.loc[espana['Breakdowns']=='Households living in large urban areas']\n",
    "print(espana_large)\n",
    "\n",
    "# media\n",
    "espana_media_large=espana_large['Value'].mean()\n",
    "print(f'Esta es la media de España de Households living in large urban areas: {espana_media_large}')"
   ]
  },
  {
   "cell_type": "code",
   "execution_count": 154,
   "metadata": {},
   "outputs": [
    {
     "name": "stdout",
     "output_type": "stream",
     "text": [
      "                          Breakdowns  TIME    Value\n",
      "34  Households living in rural areas  2005  10.4412\n",
      "35  Households living in rural areas  2006  15.3959\n",
      "36  Households living in rural areas  2007  24.4549\n",
      "37  Households living in rural areas  2008  29.6069\n",
      "38  Households living in rural areas  2009  36.5001\n",
      "39  Households living in rural areas  2010  42.4124\n",
      "40  Households living in rural areas  2011  50.5539\n",
      "41  Households living in rural areas  2012  56.1898\n",
      "42  Households living in rural areas  2013  59.6335\n",
      "43  Households living in rural areas  2014  64.5312\n",
      "44  Households living in rural areas  2015  69.5427\n",
      "45  Households living in rural areas  2016  75.0237\n",
      "46  Households living in rural areas  2017  76.8670\n",
      "47  Households living in rural areas  2018  76.4875\n",
      "48  Households living in rural areas  2019  84.0040\n",
      "49  Households living in rural areas  2020  91.0104\n",
      "50  Households living in rural areas  2021  93.5458\n",
      "Esta es la media de España de Households living in rural areas: 56.247111764705885\n"
     ]
    }
   ],
   "source": [
    "# Households living in rural areas\n",
    "espana_rural=espana.loc[espana['Breakdowns']=='Households living in rural areas']\n",
    "print(espana_rural)\n",
    "\n",
    "# media\n",
    "espana_media_rural=espana_rural['Value'].mean()\n",
    "print(f'Esta es la media de España de Households living in rural areas: {espana_media_rural}')"
   ]
  },
  {
   "cell_type": "code",
   "execution_count": 155,
   "metadata": {},
   "outputs": [
    {
     "name": "stdout",
     "output_type": "stream",
     "text": [
      "                                  Breakdowns  TIME    Value\n",
      "0                           All (households)  2005  40.1798\n",
      "1                           All (households)  2006  51.0102\n",
      "2                           All (households)  2007  66.6176\n",
      "3                           All (households)  2008  70.6515\n",
      "4                           All (households)  2009  79.4893\n",
      "..                                       ...   ...      ...\n",
      "95  Households with income in third quartile  2016  90.5192\n",
      "96  Households with income in third quartile  2017  98.6666\n",
      "97  Households with income in third quartile  2018  97.2748\n",
      "98  Households with income in third quartile  2019  98.1640\n",
      "99  Households with income in third quartile  2020  96.2172\n",
      "\n",
      "[100 rows x 3 columns]\n"
     ]
    }
   ],
   "source": [
    "# Suecia\n",
    "suecia=intento.loc['SWE']\n",
    "suecia=suecia.reset_index()\n",
    "print(suecia)"
   ]
  },
  {
   "cell_type": "code",
   "execution_count": 156,
   "metadata": {},
   "outputs": [
    {
     "name": "stdout",
     "output_type": "stream",
     "text": [
      "          Breakdowns  TIME    Value\n",
      "0   All (households)  2005  40.1798\n",
      "1   All (households)  2006  51.0102\n",
      "2   All (households)  2007  66.6176\n",
      "3   All (households)  2008  70.6515\n",
      "4   All (households)  2009  79.4893\n",
      "5   All (households)  2010  82.5623\n",
      "6   All (households)  2011  85.5203\n",
      "7   All (households)  2012  87.0012\n",
      "8   All (households)  2014  86.5255\n",
      "9   All (households)  2015  82.9505\n",
      "10  All (households)  2016  88.6294\n",
      "11  All (households)  2017  93.0705\n",
      "12  All (households)  2018  91.3616\n",
      "13  All (households)  2019  94.8412\n",
      "14  All (households)  2020  90.9997\n",
      "15  All (households)  2021  90.9632\n",
      "Esta es la media de Suecia de All (households): 80.1483625\n"
     ]
    }
   ],
   "source": [
    "# all (households)\n",
    "suecia_all=suecia.loc[suecia['Breakdowns']=='All (households)']\n",
    "print(suecia_all)\n",
    "\n",
    "# media\n",
    "suecia_media=suecia_all['Value'].mean()\n",
    "print(f'Esta es la media de Suecia de All (households): {suecia_media}')"
   ]
  },
  {
   "cell_type": "code",
   "execution_count": 157,
   "metadata": {},
   "outputs": [
    {
     "name": "stdout",
     "output_type": "stream",
     "text": [
      "                                  Breakdowns  TIME    Value\n",
      "48  Households with income in first quartile  2006  35.6068\n",
      "49  Households with income in first quartile  2007  48.8376\n",
      "50  Households with income in first quartile  2008  55.0352\n",
      "51  Households with income in first quartile  2009  59.7282\n",
      "52  Households with income in first quartile  2010  65.7210\n",
      "53  Households with income in first quartile  2011  71.3796\n",
      "54  Households with income in first quartile  2012  71.6281\n",
      "55  Households with income in first quartile  2014  69.7687\n",
      "56  Households with income in first quartile  2016  82.2491\n",
      "57  Households with income in first quartile  2017  87.1703\n",
      "58  Households with income in first quartile  2018  84.6305\n",
      "59  Households with income in first quartile  2019  90.4298\n",
      "60  Households with income in first quartile  2020  77.8017\n",
      "Esta es la media de Suecia de Households with income in first quartile: 69.22973846153846\n"
     ]
    }
   ],
   "source": [
    "# Households with income in the first quartile\n",
    "suecia_first=suecia.loc[suecia['Breakdowns']=='Households with income in first quartile']\n",
    "print(suecia_first)\n",
    "\n",
    "# media\n",
    "suecia_media_first=suecia_first['Value'].mean()\n",
    "print(f'Esta es la media de Suecia de Households with income in first quartile: {suecia_media_first}')"
   ]
  },
  {
   "cell_type": "code",
   "execution_count": 158,
   "metadata": {},
   "outputs": [
    {
     "name": "stdout",
     "output_type": "stream",
     "text": [
      "                                   Breakdowns  TIME    Value\n",
      "74  Households with income in second quartile  2006  48.8361\n",
      "75  Households with income in second quartile  2007  66.7593\n",
      "76  Households with income in second quartile  2008  67.5267\n",
      "77  Households with income in second quartile  2009  79.5239\n",
      "78  Households with income in second quartile  2010  85.8333\n",
      "79  Households with income in second quartile  2011  83.5129\n",
      "80  Households with income in second quartile  2012  85.9044\n",
      "81  Households with income in second quartile  2014  87.9534\n",
      "82  Households with income in second quartile  2016  90.2449\n",
      "83  Households with income in second quartile  2017  96.6308\n",
      "84  Households with income in second quartile  2018  96.9710\n",
      "85  Households with income in second quartile  2019  97.3354\n",
      "86  Households with income in second quartile  2020  96.0826\n",
      "Esta es la media de Suecia de Households with income in second quartile: 83.31651538461539\n"
     ]
    }
   ],
   "source": [
    "# Households with income in the second quartile\n",
    "suecia_second=suecia.loc[suecia['Breakdowns']=='Households with income in second quartile']\n",
    "print(suecia_second)\n",
    "\n",
    "# media\n",
    "suecia_media_second=suecia_second['Value'].mean()\n",
    "print(f'Esta es la media de Suecia de Households with income in second quartile: {suecia_media_second}')"
   ]
  },
  {
   "cell_type": "code",
   "execution_count": 159,
   "metadata": {},
   "outputs": [
    {
     "name": "stdout",
     "output_type": "stream",
     "text": [
      "                                  Breakdowns  TIME    Value\n",
      "87  Households with income in third quartile  2006  53.8137\n",
      "88  Households with income in third quartile  2007  75.7619\n",
      "89  Households with income in third quartile  2008  81.4399\n",
      "90  Households with income in third quartile  2009  83.7579\n",
      "91  Households with income in third quartile  2010  87.7041\n",
      "92  Households with income in third quartile  2011  88.8623\n",
      "93  Households with income in third quartile  2012  91.4822\n",
      "94  Households with income in third quartile  2014  95.1607\n",
      "95  Households with income in third quartile  2016  90.5192\n",
      "96  Households with income in third quartile  2017  98.6666\n",
      "97  Households with income in third quartile  2018  97.2748\n",
      "98  Households with income in third quartile  2019  98.1640\n",
      "99  Households with income in third quartile  2020  96.2172\n",
      "Esta es la media de Suecia de Households with income in third quartile: 87.60188461538463\n"
     ]
    }
   ],
   "source": [
    "#  Households with income in the third quartile\n",
    "suecia_third=suecia.loc[suecia['Breakdowns']=='Households with income in third quartile']\n",
    "print(suecia_third)\n",
    "\n",
    "# media\n",
    "suecia_media_third=suecia_third['Value'].mean()\n",
    "print(f'Esta es la media de Suecia de Households with income in third quartile: {suecia_media_third}')"
   ]
  },
  {
   "cell_type": "code",
   "execution_count": 160,
   "metadata": {},
   "outputs": [
    {
     "name": "stdout",
     "output_type": "stream",
     "text": [
      "                                   Breakdowns  TIME    Value\n",
      "61  Households with income in fourth quartile  2006  73.3240\n",
      "62  Households with income in fourth quartile  2007  84.7798\n",
      "63  Households with income in fourth quartile  2008  85.3697\n",
      "64  Households with income in fourth quartile  2009  93.0450\n",
      "65  Households with income in fourth quartile  2010  93.3978\n",
      "66  Households with income in fourth quartile  2011  94.8590\n",
      "67  Households with income in fourth quartile  2012  95.2247\n",
      "68  Households with income in fourth quartile  2014  96.1253\n",
      "69  Households with income in fourth quartile  2016  93.3108\n",
      "70  Households with income in fourth quartile  2017  99.0893\n",
      "71  Households with income in fourth quartile  2018  99.0197\n",
      "72  Households with income in fourth quartile  2019  98.5584\n",
      "73  Households with income in fourth quartile  2020  96.7151\n",
      "Esta es la media de Suecia de Households with income in fourth quartile: 92.52450769230767\n"
     ]
    }
   ],
   "source": [
    "# Households with income in the fourth quartile\n",
    "suecia_fourth=suecia.loc[suecia['Breakdowns']=='Households with income in fourth quartile']\n",
    "print(suecia_fourth)\n",
    "\n",
    "# media\n",
    "suecia_media_fourth=suecia_fourth['Value'].mean()\n",
    "print(f'Esta es la media de Suecia de Households with income in fourth quartile: {suecia_media_fourth}')"
   ]
  },
  {
   "cell_type": "code",
   "execution_count": 161,
   "metadata": {},
   "outputs": [
    {
     "name": "stdout",
     "output_type": "stream",
     "text": [
      "                                Breakdowns  TIME    Value\n",
      "16  Households living in large urban areas  2005  44.8996\n",
      "17  Households living in large urban areas  2006  58.5563\n",
      "18  Households living in large urban areas  2007  72.7342\n",
      "19  Households living in large urban areas  2008  80.0747\n",
      "20  Households living in large urban areas  2009  84.1912\n",
      "21  Households living in large urban areas  2010  88.4103\n",
      "22  Households living in large urban areas  2011  91.4382\n",
      "23  Households living in large urban areas  2012  89.4142\n",
      "24  Households living in large urban areas  2014  90.4138\n",
      "25  Households living in large urban areas  2015  84.7687\n",
      "26  Households living in large urban areas  2016  90.3208\n",
      "27  Households living in large urban areas  2017  96.4869\n",
      "28  Households living in large urban areas  2018  92.9099\n",
      "29  Households living in large urban areas  2019  93.4948\n",
      "30  Households living in large urban areas  2020  94.7568\n",
      "31  Households living in large urban areas  2021  91.4968\n",
      "Esta es la media de Suecia de Households living in large urban areas: 84.02295000000001\n"
     ]
    }
   ],
   "source": [
    "# Households living in large urban areas\n",
    "suecia_large=suecia.loc[suecia['Breakdowns']=='Households living in large urban areas']\n",
    "print(suecia_large)\n",
    "\n",
    "# media\n",
    "suecia_media_large=suecia_large['Value'].mean()\n",
    "print(f'Esta es la media de Suecia de Households living in large urban areas: {suecia_media_large}')"
   ]
  },
  {
   "cell_type": "code",
   "execution_count": 162,
   "metadata": {},
   "outputs": [
    {
     "name": "stdout",
     "output_type": "stream",
     "text": [
      "                          Breakdowns  TIME    Value\n",
      "32  Households living in rural areas  2005  35.9759\n",
      "33  Households living in rural areas  2006  45.9758\n",
      "34  Households living in rural areas  2007  62.4016\n",
      "35  Households living in rural areas  2008  66.0732\n",
      "36  Households living in rural areas  2009  76.8285\n",
      "37  Households living in rural areas  2010  79.3447\n",
      "38  Households living in rural areas  2011  82.1743\n",
      "39  Households living in rural areas  2012  84.6962\n",
      "40  Households living in rural areas  2014  81.6114\n",
      "41  Households living in rural areas  2015  78.6942\n",
      "42  Households living in rural areas  2016  84.4199\n",
      "43  Households living in rural areas  2017  91.3716\n",
      "44  Households living in rural areas  2018  87.7189\n",
      "45  Households living in rural areas  2019  96.2404\n",
      "46  Households living in rural areas  2020  86.9594\n",
      "47  Households living in rural areas  2021  91.1781\n",
      "Esta es la media de Suecia de Households living in rural areas: 76.97900625\n"
     ]
    }
   ],
   "source": [
    "# Households living in rural areas\n",
    "suecia_rural=suecia.loc[suecia['Breakdowns']=='Households living in rural areas']\n",
    "print(suecia_rural)\n",
    "\n",
    "# media\n",
    "suecia_media_rural=suecia_rural['Value'].mean()\n",
    "print(f'Esta es la media de Suecia de Households living in rural areas: {suecia_media_rural}')"
   ]
  },
  {
   "cell_type": "code",
   "execution_count": 163,
   "metadata": {},
   "outputs": [
    {
     "name": "stdout",
     "output_type": "stream",
     "text": [
      "                                  Breakdowns  TIME       Value\n",
      "0                           All (households)  2005   92.732078\n",
      "1                           All (households)  2006   93.993185\n",
      "2                           All (households)  2007   94.132778\n",
      "3                           All (households)  2008   94.274920\n",
      "4                           All (households)  2009   95.904861\n",
      "..                                       ...   ...         ...\n",
      "76  Households with income in third quartile  2016  100.000000\n",
      "77  Households with income in third quartile  2017  100.000000\n",
      "78  Households with income in third quartile  2018  100.000000\n",
      "79  Households with income in third quartile  2019   99.870216\n",
      "80  Households with income in third quartile  2020   99.928188\n",
      "\n",
      "[81 rows x 3 columns]\n"
     ]
    }
   ],
   "source": [
    "# Corea del Sur\n",
    "corea=intento.loc['KOR']\n",
    "corea=corea.reset_index()\n",
    "print(corea)"
   ]
  },
  {
   "cell_type": "code",
   "execution_count": 164,
   "metadata": {},
   "outputs": [
    {
     "name": "stdout",
     "output_type": "stream",
     "text": [
      "          Breakdowns  TIME      Value\n",
      "0   All (households)  2005  92.732078\n",
      "1   All (households)  2006  93.993185\n",
      "2   All (households)  2007  94.132778\n",
      "3   All (households)  2008  94.274920\n",
      "4   All (households)  2009  95.904861\n",
      "5   All (households)  2010  96.839104\n",
      "6   All (households)  2011  97.231679\n",
      "7   All (households)  2012  97.349708\n",
      "8   All (households)  2013  98.143398\n",
      "9   All (households)  2014  98.486943\n",
      "10  All (households)  2015  98.783469\n",
      "11  All (households)  2016  99.194448\n",
      "12  All (households)  2017  99.504650\n",
      "13  All (households)  2018  99.478180\n",
      "14  All (households)  2019  99.689288\n",
      "15  All (households)  2020  99.748514\n",
      "16  All (households)  2021  99.932450\n",
      "Esta es la media de Chile de All (households): 97.37762674764706\n"
     ]
    }
   ],
   "source": [
    "# all (households)\n",
    "corea_all=corea.loc[corea['Breakdowns']=='All (households)']\n",
    "print(corea_all)\n",
    "\n",
    "# media\n",
    "corea_media=corea_all['Value'].mean()\n",
    "print(f'Esta es la media de Chile de All (households): {corea_media}')"
   ]
  },
  {
   "cell_type": "code",
   "execution_count": 165,
   "metadata": {},
   "outputs": [
    {
     "name": "stdout",
     "output_type": "stream",
     "text": [
      "                                  Breakdowns  TIME      Value\n",
      "17  Households with income in first quartile  2005  85.598682\n",
      "18  Households with income in first quartile  2006  85.419078\n",
      "19  Households with income in first quartile  2007  85.074669\n",
      "20  Households with income in first quartile  2008  86.048479\n",
      "21  Households with income in first quartile  2009  89.071012\n",
      "22  Households with income in first quartile  2010  91.516654\n",
      "23  Households with income in first quartile  2011  92.578023\n",
      "24  Households with income in first quartile  2012  93.108493\n",
      "25  Households with income in first quartile  2013  93.667876\n",
      "26  Households with income in first quartile  2014  94.886677\n",
      "27  Households with income in first quartile  2015  95.821191\n",
      "28  Households with income in first quartile  2016  97.070324\n",
      "29  Households with income in first quartile  2017  98.041828\n",
      "30  Households with income in first quartile  2018  98.054708\n",
      "31  Households with income in first quartile  2019  99.144626\n",
      "32  Households with income in first quartile  2020  99.195176\n",
      "Esta es la media de Chile de Households with income in first quartile: 92.768593525\n"
     ]
    }
   ],
   "source": [
    "# Households with income in the first quartile\n",
    "corea_first=corea.loc[corea['Breakdowns']=='Households with income in first quartile']\n",
    "print(corea_first)\n",
    "\n",
    "# media\n",
    "corea_media_first=corea_first['Value'].mean()\n",
    "print(f'Esta es la media de Chile de Households with income in first quartile: {corea_media_first}')"
   ]
  },
  {
   "cell_type": "code",
   "execution_count": 166,
   "metadata": {},
   "outputs": [
    {
     "name": "stdout",
     "output_type": "stream",
     "text": [
      "                                   Breakdowns  TIME       Value\n",
      "49  Households with income in second quartile  2005   99.539526\n",
      "50  Households with income in second quartile  2006  100.000000\n",
      "51  Households with income in second quartile  2007   99.562481\n",
      "52  Households with income in second quartile  2008   99.476579\n",
      "53  Households with income in second quartile  2009   99.959843\n",
      "54  Households with income in second quartile  2010   99.909751\n",
      "55  Households with income in second quartile  2011   99.963394\n",
      "56  Households with income in second quartile  2012   99.971582\n",
      "57  Households with income in second quartile  2013   99.883123\n",
      "58  Households with income in second quartile  2014   99.896070\n",
      "59  Households with income in second quartile  2015   99.927237\n",
      "60  Households with income in second quartile  2016   99.979947\n",
      "61  Households with income in second quartile  2017   99.993167\n",
      "62  Households with income in second quartile  2018   99.988109\n",
      "63  Households with income in second quartile  2019   99.678683\n",
      "64  Households with income in second quartile  2020   99.739790\n",
      "Esta es la media de Chile de Households with income in second quartile: 99.841830128125\n"
     ]
    }
   ],
   "source": [
    "# Households with income in the second quartile\n",
    "corea_second=corea.loc[corea['Breakdowns']=='Households with income in second quartile']\n",
    "print(corea_second)\n",
    "\n",
    "# media\n",
    "corea_media_second=corea_second['Value'].mean()\n",
    "print(f'Esta es la media de Chile de Households with income in second quartile: {corea_media_second}')"
   ]
  },
  {
   "cell_type": "code",
   "execution_count": 167,
   "metadata": {},
   "outputs": [
    {
     "name": "stdout",
     "output_type": "stream",
     "text": [
      "                                  Breakdowns  TIME       Value\n",
      "65  Households with income in third quartile  2005   99.691977\n",
      "66  Households with income in third quartile  2006  100.000000\n",
      "67  Households with income in third quartile  2007  100.000000\n",
      "68  Households with income in third quartile  2008   99.644403\n",
      "69  Households with income in third quartile  2009  100.000000\n",
      "70  Households with income in third quartile  2010   99.923470\n",
      "71  Households with income in third quartile  2011   99.921474\n",
      "72  Households with income in third quartile  2012   99.928250\n",
      "73  Households with income in third quartile  2013   99.973612\n",
      "74  Households with income in third quartile  2014   99.969911\n",
      "75  Households with income in third quartile  2015   99.968418\n",
      "76  Households with income in third quartile  2016  100.000000\n",
      "77  Households with income in third quartile  2017  100.000000\n",
      "78  Households with income in third quartile  2018  100.000000\n",
      "79  Households with income in third quartile  2019   99.870216\n",
      "80  Households with income in third quartile  2020   99.928188\n",
      "Esta es la media de Chile de Households with income in third quartile: 99.926244913125\n"
     ]
    }
   ],
   "source": [
    "#  Households with income in the third quartile\n",
    "corea_third=corea.loc[corea['Breakdowns']=='Households with income in third quartile']\n",
    "print(corea_third)\n",
    "\n",
    "# media\n",
    "corea_media_third=corea_third['Value'].mean()\n",
    "print(f'Esta es la media de Chile de Households with income in third quartile: {corea_media_third}')"
   ]
  },
  {
   "cell_type": "code",
   "execution_count": 168,
   "metadata": {},
   "outputs": [
    {
     "name": "stdout",
     "output_type": "stream",
     "text": [
      "                                   Breakdowns  TIME       Value\n",
      "33  Households with income in fourth quartile  2005  100.000000\n",
      "34  Households with income in fourth quartile  2006  100.000000\n",
      "35  Households with income in fourth quartile  2007  100.000000\n",
      "36  Households with income in fourth quartile  2008   99.964448\n",
      "37  Households with income in fourth quartile  2009  100.000000\n",
      "38  Households with income in fourth quartile  2010   99.988298\n",
      "39  Households with income in fourth quartile  2011   99.987770\n",
      "40  Households with income in fourth quartile  2012  100.000000\n",
      "41  Households with income in fourth quartile  2013  100.000000\n",
      "42  Households with income in fourth quartile  2014   99.998707\n",
      "43  Households with income in fourth quartile  2015   99.967984\n",
      "44  Households with income in fourth quartile  2016  100.000000\n",
      "45  Households with income in fourth quartile  2017  100.000000\n",
      "46  Households with income in fourth quartile  2018  100.000000\n",
      "47  Households with income in fourth quartile  2019   99.916400\n",
      "48  Households with income in fourth quartile  2020   99.945245\n",
      "Esta es la media de Chile de Households with income in fourth quartile: 99.98555328625\n"
     ]
    }
   ],
   "source": [
    "# Households with income in the fourth quartile\n",
    "corea_fourth=corea.loc[corea['Breakdowns']=='Households with income in fourth quartile']\n",
    "print(corea_fourth)\n",
    "\n",
    "# media\n",
    "corea_media_fourth=corea_fourth['Value'].mean()\n",
    "print(f'Esta es la media de Chile de Households with income in fourth quartile: {corea_media_fourth}')"
   ]
  },
  {
   "cell_type": "code",
   "execution_count": 169,
   "metadata": {},
   "outputs": [
    {
     "name": "stdout",
     "output_type": "stream",
     "text": [
      "Empty DataFrame\n",
      "Columns: [Breakdowns, TIME, Value]\n",
      "Index: []\n",
      "Esta es la media de Chile de Households living in large urban areas: nan\n"
     ]
    }
   ],
   "source": [
    "# Households living in large urban areas\n",
    "corea_large=corea.loc[corea['Breakdowns']=='Households living in large urban areas']\n",
    "print(corea_large)\n",
    "\n",
    "# media\n",
    "corea_media_large=corea_large['Value'].mean()\n",
    "print(f'Esta es la media de Chile de Households living in large urban areas: {corea_media_large}')"
   ]
  },
  {
   "cell_type": "code",
   "execution_count": 170,
   "metadata": {},
   "outputs": [
    {
     "name": "stdout",
     "output_type": "stream",
     "text": [
      "Empty DataFrame\n",
      "Columns: [Breakdowns, TIME, Value]\n",
      "Index: []\n",
      "Esta es la media de Chile de Households living in rural areas: nan\n"
     ]
    }
   ],
   "source": [
    "# Households living in rural areas\n",
    "corea_rural=corea.loc[corea['Breakdowns']=='Households living in rural areas']\n",
    "print(corea_rural)\n",
    "\n",
    "# media\n",
    "corea_media_rural=corea_rural['Value'].mean()\n",
    "print(f'Esta es la media de Chile de Households living in rural areas: {corea_media_rural}')"
   ]
  },
  {
   "cell_type": "code",
   "execution_count": 171,
   "metadata": {},
   "outputs": [
    {
     "name": "stdout",
     "output_type": "stream",
     "text": [
      "                                   Breakdowns  TIME    Value\n",
      "0                            All (households)  2005  19.7212\n",
      "1                            All (households)  2006  24.0068\n",
      "2                            All (households)  2007  30.4211\n",
      "3                            All (households)  2008  39.3449\n",
      "4                            All (households)  2009  46.1581\n",
      "..                                        ...   ...      ...\n",
      "98   Households with income in third quartile  2016  85.7973\n",
      "99   Households with income in third quartile  2017  88.4085\n",
      "100  Households with income in third quartile  2018  89.2687\n",
      "101  Households with income in third quartile  2019  87.0339\n",
      "102  Households with income in third quartile  2020  90.8625\n",
      "\n",
      "[103 rows x 3 columns]\n"
     ]
    }
   ],
   "source": [
    "# Portugal\n",
    "portugal=intento.loc['PRT']\n",
    "portugal=portugal.reset_index()\n",
    "print(portugal)"
   ]
  },
  {
   "cell_type": "code",
   "execution_count": 172,
   "metadata": {},
   "outputs": [
    {
     "name": "stdout",
     "output_type": "stream",
     "text": [
      "          Breakdowns  TIME    Value\n",
      "0   All (households)  2005  19.7212\n",
      "1   All (households)  2006  24.0068\n",
      "2   All (households)  2007  30.4211\n",
      "3   All (households)  2008  39.3449\n",
      "4   All (households)  2009  46.1581\n",
      "5   All (households)  2010  50.3164\n",
      "6   All (households)  2011  56.6065\n",
      "7   All (households)  2012  59.7484\n",
      "8   All (households)  2013  61.6197\n",
      "9   All (households)  2014  63.3669\n",
      "10  All (households)  2015  68.5405\n",
      "11  All (households)  2016  72.9517\n",
      "12  All (households)  2017  76.3632\n",
      "13  All (households)  2018  76.9263\n",
      "14  All (households)  2019  77.9530\n",
      "15  All (households)  2020  81.6655\n",
      "16  All (households)  2021  84.1039\n",
      "Esta es la media de Portugal de All (households): 58.22435882352941\n"
     ]
    }
   ],
   "source": [
    "# all (households)\n",
    "portugal_all=portugal.loc[portugal['Breakdowns']=='All (households)']\n",
    "print(portugal_all)\n",
    "\n",
    "# media\n",
    "portugal_media=portugal_all['Value'].mean()\n",
    "print(f'Esta es la media de Portugal de All (households): {portugal_media}')"
   ]
  },
  {
   "cell_type": "code",
   "execution_count": 173,
   "metadata": {},
   "outputs": [
    {
     "name": "stdout",
     "output_type": "stream",
     "text": [
      "                                  Breakdowns  TIME    Value\n",
      "51  Households with income in first quartile  2008   6.1532\n",
      "52  Households with income in first quartile  2009  14.0774\n",
      "53  Households with income in first quartile  2010  19.2822\n",
      "54  Households with income in first quartile  2011  22.0251\n",
      "55  Households with income in first quartile  2012  26.8518\n",
      "56  Households with income in first quartile  2013  31.6387\n",
      "57  Households with income in first quartile  2014  34.4985\n",
      "58  Households with income in first quartile  2015  40.8754\n",
      "59  Households with income in first quartile  2016  44.1920\n",
      "60  Households with income in first quartile  2017  46.5416\n",
      "61  Households with income in first quartile  2018  52.7794\n",
      "62  Households with income in first quartile  2019  54.5219\n",
      "63  Households with income in first quartile  2020  59.9453\n",
      "Esta es la media de Portugal de Households with income in first quartile: 34.87557692307693\n"
     ]
    }
   ],
   "source": [
    "#  Households with income in the first quartile\n",
    "portugal_first=portugal.loc[portugal['Breakdowns']=='Households with income in first quartile']\n",
    "print(portugal_first)\n",
    "\n",
    "# media\n",
    "portugal_media_first=portugal_first['Value'].mean()\n",
    "print(f'Esta es la media de Portugal de Households with income in first quartile: {portugal_media_first}')"
   ]
  },
  {
   "cell_type": "code",
   "execution_count": 174,
   "metadata": {},
   "outputs": [
    {
     "name": "stdout",
     "output_type": "stream",
     "text": [
      "                                   Breakdowns  TIME    Value\n",
      "77  Households with income in second quartile  2008  23.9893\n",
      "78  Households with income in second quartile  2009  24.7611\n",
      "79  Households with income in second quartile  2010  30.4498\n",
      "80  Households with income in second quartile  2011  43.3853\n",
      "81  Households with income in second quartile  2012  47.5550\n",
      "82  Households with income in second quartile  2013  51.0321\n",
      "83  Households with income in second quartile  2014  47.9189\n",
      "84  Households with income in second quartile  2015  54.8127\n",
      "85  Households with income in second quartile  2016  65.3793\n",
      "86  Households with income in second quartile  2017  70.0299\n",
      "87  Households with income in second quartile  2018  71.2710\n",
      "88  Households with income in second quartile  2019  71.0501\n",
      "89  Households with income in second quartile  2020  77.6219\n",
      "Esta es la media de Portugal de Households with income in second quartile: 52.250492307692305\n"
     ]
    }
   ],
   "source": [
    "# Households with income in the second quartile\n",
    "portugal_second=portugal.loc[portugal['Breakdowns']=='Households with income in second quartile']\n",
    "print(portugal_second)\n",
    "\n",
    "# media\n",
    "portugal_media_second=portugal_second['Value'].mean()\n",
    "print(f'Esta es la media de Portugal de Households with income in second quartile: {portugal_media_second}')"
   ]
  },
  {
   "cell_type": "code",
   "execution_count": 175,
   "metadata": {},
   "outputs": [
    {
     "name": "stdout",
     "output_type": "stream",
     "text": [
      "                                   Breakdowns  TIME    Value\n",
      "90   Households with income in third quartile  2008  50.5968\n",
      "91   Households with income in third quartile  2009  51.9756\n",
      "92   Households with income in third quartile  2010  52.2838\n",
      "93   Households with income in third quartile  2011  72.0214\n",
      "94   Households with income in third quartile  2012  70.7893\n",
      "95   Households with income in third quartile  2013  73.3055\n",
      "96   Households with income in third quartile  2014  77.6628\n",
      "97   Households with income in third quartile  2015  81.4652\n",
      "98   Households with income in third quartile  2016  85.7973\n",
      "99   Households with income in third quartile  2017  88.4085\n",
      "100  Households with income in third quartile  2018  89.2687\n",
      "101  Households with income in third quartile  2019  87.0339\n",
      "102  Households with income in third quartile  2020  90.8625\n",
      "Esta es la media de Portugal de Households with income in third quartile: 74.72856153846153\n"
     ]
    }
   ],
   "source": [
    "#  Households with income in the third quartile\n",
    "portugal_third=portugal.loc[portugal['Breakdowns']=='Households with income in third quartile']\n",
    "print(portugal_third)\n",
    "\n",
    "# media\n",
    "portugal_media_third=portugal_third['Value'].mean()\n",
    "print(f'Esta es la media de Portugal de Households with income in third quartile: {portugal_media_third}')"
   ]
  },
  {
   "cell_type": "code",
   "execution_count": 176,
   "metadata": {},
   "outputs": [
    {
     "name": "stdout",
     "output_type": "stream",
     "text": [
      "                                   Breakdowns  TIME    Value\n",
      "64  Households with income in fourth quartile  2008  80.2042\n",
      "65  Households with income in fourth quartile  2009  78.4223\n",
      "66  Households with income in fourth quartile  2010  82.4741\n",
      "67  Households with income in fourth quartile  2011  88.4044\n",
      "68  Households with income in fourth quartile  2012  89.7390\n",
      "69  Households with income in fourth quartile  2013  89.7694\n",
      "70  Households with income in fourth quartile  2014  92.2043\n",
      "71  Households with income in fourth quartile  2015  93.1182\n",
      "72  Households with income in fourth quartile  2016  94.8351\n",
      "73  Households with income in fourth quartile  2017  97.8368\n",
      "74  Households with income in fourth quartile  2018  96.8475\n",
      "75  Households with income in fourth quartile  2019  96.5866\n",
      "76  Households with income in fourth quartile  2020  96.6206\n",
      "Esta es la media de Portugal de Households with income in fourth quartile: 90.54326923076923\n"
     ]
    }
   ],
   "source": [
    "# Households with income in the fourth quartile\n",
    "portugal_fourth=portugal.loc[portugal['Breakdowns']=='Households with income in fourth quartile']\n",
    "print(portugal_fourth)\n",
    "\n",
    "# media\n",
    "portugal_media_fourth=portugal_fourth['Value'].mean()\n",
    "print(f'Esta es la media de Portugal de Households with income in fourth quartile: {portugal_media_fourth}')"
   ]
  },
  {
   "cell_type": "code",
   "execution_count": 177,
   "metadata": {},
   "outputs": [
    {
     "name": "stdout",
     "output_type": "stream",
     "text": [
      "                                Breakdowns  TIME    Value\n",
      "17  Households living in large urban areas  2005  27.2273\n",
      "18  Households living in large urban areas  2006  32.4438\n",
      "19  Households living in large urban areas  2007  39.1405\n",
      "20  Households living in large urban areas  2008  48.5255\n",
      "21  Households living in large urban areas  2009  54.2379\n",
      "22  Households living in large urban areas  2010  57.7655\n",
      "23  Households living in large urban areas  2011  64.7369\n",
      "24  Households living in large urban areas  2012  68.5849\n",
      "25  Households living in large urban areas  2013  69.0812\n",
      "26  Households living in large urban areas  2014  71.0983\n",
      "27  Households living in large urban areas  2015  75.4233\n",
      "28  Households living in large urban areas  2016  80.0403\n",
      "29  Households living in large urban areas  2017  82.6279\n",
      "30  Households living in large urban areas  2018  83.6715\n",
      "31  Households living in large urban areas  2019  84.1177\n",
      "32  Households living in large urban areas  2020  86.7038\n",
      "33  Households living in large urban areas  2021  88.8277\n",
      "Esta es la media de Portugal de Households living in large urban areas: 65.54435294117648\n"
     ]
    }
   ],
   "source": [
    "# Households living in large urban areas\n",
    "portugal_large=portugal.loc[portugal['Breakdowns']=='Households living in large urban areas']\n",
    "print(portugal_large)\n",
    "\n",
    "# media\n",
    "portugal_media_large=portugal_large['Value'].mean()\n",
    "print(f'Esta es la media de Portugal de Households living in large urban areas: {portugal_media_large}')"
   ]
  },
  {
   "cell_type": "code",
   "execution_count": 178,
   "metadata": {},
   "outputs": [
    {
     "name": "stdout",
     "output_type": "stream",
     "text": [
      "                          Breakdowns  TIME    Value\n",
      "34  Households living in rural areas  2005  10.6602\n",
      "35  Households living in rural areas  2006  14.9295\n",
      "36  Households living in rural areas  2007  20.8754\n",
      "37  Households living in rural areas  2008  27.0317\n",
      "38  Households living in rural areas  2009  33.9423\n",
      "39  Households living in rural areas  2010  37.9775\n",
      "40  Households living in rural areas  2011  42.1522\n",
      "41  Households living in rural areas  2012  44.1508\n",
      "42  Households living in rural areas  2013  47.8952\n",
      "43  Households living in rural areas  2014  48.7335\n",
      "44  Households living in rural areas  2015  53.3935\n",
      "45  Households living in rural areas  2016  58.8419\n",
      "46  Households living in rural areas  2017  62.2094\n",
      "47  Households living in rural areas  2018  62.8369\n",
      "48  Households living in rural areas  2019  67.4314\n",
      "49  Households living in rural areas  2020  71.1677\n",
      "50  Households living in rural areas  2021  75.0328\n",
      "Esta es la media de Portugal de Households living in rural areas: 45.83893529411765\n"
     ]
    }
   ],
   "source": [
    "# Households living in rural areas\n",
    "portugal_rural=portugal.loc[portugal['Breakdowns']=='Households living in rural areas']\n",
    "print(portugal_rural)\n",
    "\n",
    "# media\n",
    "portugal_media_rural=portugal_rural['Value'].mean()\n",
    "print(f'Esta es la media de Portugal de Households living in rural areas: {portugal_media_rural}')"
   ]
  },
  {
   "cell_type": "code",
   "execution_count": 179,
   "metadata": {},
   "outputs": [
    {
     "name": "stdout",
     "output_type": "stream",
     "text": [
      "                                   Breakdowns  TIME  Value\n",
      "0                            All (households)  2007  51.12\n",
      "1                            All (households)  2009  63.95\n",
      "2                            All (households)  2010  68.24\n",
      "3                            All (households)  2011  69.43\n",
      "4                            All (households)  2012  73.43\n",
      "5                            All (households)  2013  73.20\n",
      "6                            All (households)  2015  73.05\n",
      "7                            All (households)  2017  77.11\n",
      "8                            All (households)  2019  79.17\n",
      "9                            All (households)  2021  83.36\n",
      "10     Households living in large urban areas  2007  51.64\n",
      "11     Households living in large urban areas  2009  63.58\n",
      "12     Households living in large urban areas  2010  68.13\n",
      "13     Households living in large urban areas  2011  68.32\n",
      "14     Households living in large urban areas  2012  72.50\n",
      "15     Households living in large urban areas  2013  72.55\n",
      "16     Households living in large urban areas  2015  73.29\n",
      "17     Households living in large urban areas  2017  77.15\n",
      "18     Households living in large urban areas  2019  78.72\n",
      "19     Households living in large urban areas  2021  83.52\n",
      "20           Households living in rural areas  2007  36.43\n",
      "21           Households living in rural areas  2009  51.26\n",
      "22           Households living in rural areas  2010  57.24\n",
      "23           Households living in rural areas  2011  57.55\n",
      "24           Households living in rural areas  2012  63.49\n",
      "25           Households living in rural areas  2013  62.76\n",
      "26           Households living in rural areas  2015  64.29\n",
      "27           Households living in rural areas  2017  69.74\n",
      "28           Households living in rural areas  2019  72.72\n",
      "29           Households living in rural areas  2021  79.76\n",
      "30   Households with income in first quartile  2010  42.87\n",
      "31   Households with income in first quartile  2011  43.41\n",
      "32   Households with income in first quartile  2012  48.00\n",
      "33   Households with income in first quartile  2013  47.76\n",
      "34   Households with income in first quartile  2015  53.20\n",
      "35   Households with income in first quartile  2017  59.09\n",
      "36   Households with income in first quartile  2019  61.78\n",
      "37  Households with income in fourth quartile  2010  92.59\n",
      "38  Households with income in fourth quartile  2011  93.26\n",
      "39  Households with income in fourth quartile  2012  95.39\n",
      "40  Households with income in fourth quartile  2013  94.68\n",
      "41  Households with income in fourth quartile  2015  88.95\n",
      "42  Households with income in fourth quartile  2017  89.42\n",
      "43  Households with income in fourth quartile  2019  89.52\n",
      "44  Households with income in second quartile  2010  65.82\n",
      "45  Households with income in second quartile  2011  65.27\n",
      "46  Households with income in second quartile  2012  70.17\n",
      "47  Households with income in second quartile  2013  69.01\n",
      "48  Households with income in second quartile  2015  74.20\n",
      "49  Households with income in second quartile  2017  77.51\n",
      "50  Households with income in second quartile  2019  79.25\n",
      "51   Households with income in third quartile  2010  83.34\n",
      "52   Households with income in third quartile  2011  86.08\n",
      "53   Households with income in third quartile  2012  88.35\n",
      "54   Households with income in third quartile  2013  87.61\n",
      "55   Households with income in third quartile  2015  85.14\n",
      "56   Households with income in third quartile  2017  87.08\n",
      "57   Households with income in third quartile  2019  86.35\n"
     ]
    }
   ],
   "source": [
    "# Estados Unidos\n",
    "us=intento.loc['USA']\n",
    "us=us.reset_index()\n",
    "print(us)"
   ]
  },
  {
   "cell_type": "code",
   "execution_count": 180,
   "metadata": {},
   "outputs": [
    {
     "name": "stdout",
     "output_type": "stream",
     "text": [
      "         Breakdowns  TIME  Value\n",
      "0  All (households)  2007  51.12\n",
      "1  All (households)  2009  63.95\n",
      "2  All (households)  2010  68.24\n",
      "3  All (households)  2011  69.43\n",
      "4  All (households)  2012  73.43\n",
      "5  All (households)  2013  73.20\n",
      "6  All (households)  2015  73.05\n",
      "7  All (households)  2017  77.11\n",
      "8  All (households)  2019  79.17\n",
      "9  All (households)  2021  83.36\n",
      "Esta es la media de Estados Unidos de All (households): 71.20599999999999\n"
     ]
    }
   ],
   "source": [
    "# all (households)\n",
    "us_all=us.loc[us['Breakdowns']=='All (households)']\n",
    "print(us_all)\n",
    "\n",
    "# media\n",
    "us_media=us_all['Value'].mean()\n",
    "print(f'Esta es la media de Estados Unidos de All (households): {us_media}')"
   ]
  },
  {
   "cell_type": "code",
   "execution_count": 181,
   "metadata": {},
   "outputs": [
    {
     "name": "stdout",
     "output_type": "stream",
     "text": [
      "                                  Breakdowns  TIME  Value\n",
      "30  Households with income in first quartile  2010  42.87\n",
      "31  Households with income in first quartile  2011  43.41\n",
      "32  Households with income in first quartile  2012  48.00\n",
      "33  Households with income in first quartile  2013  47.76\n",
      "34  Households with income in first quartile  2015  53.20\n",
      "35  Households with income in first quartile  2017  59.09\n",
      "36  Households with income in first quartile  2019  61.78\n",
      "Esta es la media de Estados Unidos de Households with income in first quartile: 50.87285714285714\n"
     ]
    }
   ],
   "source": [
    "# Households with income in the first quartile\n",
    "us_first=us.loc[us['Breakdowns']=='Households with income in first quartile']\n",
    "print(us_first)\n",
    "\n",
    "# media\n",
    "us_media_first=us_first['Value'].mean()\n",
    "print(f'Esta es la media de Estados Unidos de Households with income in first quartile: {us_media_first}')"
   ]
  },
  {
   "cell_type": "code",
   "execution_count": 182,
   "metadata": {},
   "outputs": [
    {
     "name": "stdout",
     "output_type": "stream",
     "text": [
      "                                   Breakdowns  TIME  Value\n",
      "44  Households with income in second quartile  2010  65.82\n",
      "45  Households with income in second quartile  2011  65.27\n",
      "46  Households with income in second quartile  2012  70.17\n",
      "47  Households with income in second quartile  2013  69.01\n",
      "48  Households with income in second quartile  2015  74.20\n",
      "49  Households with income in second quartile  2017  77.51\n",
      "50  Households with income in second quartile  2019  79.25\n",
      "Esta es la media de Estados Unidos de Households with income in second quartile: 71.60428571428571\n"
     ]
    }
   ],
   "source": [
    "# Households with income in the second quartile\n",
    "us_second=us.loc[us['Breakdowns']=='Households with income in second quartile']\n",
    "print(us_second)\n",
    "\n",
    "# media\n",
    "us_media_second=us_second['Value'].mean()\n",
    "print(f'Esta es la media de Estados Unidos de Households with income in second quartile: {us_media_second}')"
   ]
  },
  {
   "cell_type": "code",
   "execution_count": 183,
   "metadata": {},
   "outputs": [
    {
     "name": "stdout",
     "output_type": "stream",
     "text": [
      "                                  Breakdowns  TIME  Value\n",
      "51  Households with income in third quartile  2010  83.34\n",
      "52  Households with income in third quartile  2011  86.08\n",
      "53  Households with income in third quartile  2012  88.35\n",
      "54  Households with income in third quartile  2013  87.61\n",
      "55  Households with income in third quartile  2015  85.14\n",
      "56  Households with income in third quartile  2017  87.08\n",
      "57  Households with income in third quartile  2019  86.35\n",
      "Esta es la media de Estados Unidos de Households with income in third quartile: 86.27857142857144\n"
     ]
    }
   ],
   "source": [
    "# Households with income in the third quartile\n",
    "us_third=us.loc[us['Breakdowns']=='Households with income in third quartile']\n",
    "print(us_third)\n",
    "\n",
    "# media\n",
    "us_media_third=us_third['Value'].mean()\n",
    "print(f'Esta es la media de Estados Unidos de Households with income in third quartile: {us_media_third}')"
   ]
  },
  {
   "cell_type": "code",
   "execution_count": 184,
   "metadata": {},
   "outputs": [
    {
     "name": "stdout",
     "output_type": "stream",
     "text": [
      "                                   Breakdowns  TIME  Value\n",
      "37  Households with income in fourth quartile  2010  92.59\n",
      "38  Households with income in fourth quartile  2011  93.26\n",
      "39  Households with income in fourth quartile  2012  95.39\n",
      "40  Households with income in fourth quartile  2013  94.68\n",
      "41  Households with income in fourth quartile  2015  88.95\n",
      "42  Households with income in fourth quartile  2017  89.42\n",
      "43  Households with income in fourth quartile  2019  89.52\n",
      "Esta es la media de Estados Unidos de Households with income in fourth quartile: 91.97285714285714\n"
     ]
    }
   ],
   "source": [
    "# Households with income in the fourth quartile\n",
    "us_fourth=us.loc[us['Breakdowns']=='Households with income in fourth quartile']\n",
    "print(us_fourth)\n",
    "\n",
    "# media\n",
    "us_media_fourth=us_fourth['Value'].mean()\n",
    "print(f'Esta es la media de Estados Unidos de Households with income in fourth quartile: {us_media_fourth}')"
   ]
  },
  {
   "cell_type": "code",
   "execution_count": 185,
   "metadata": {},
   "outputs": [
    {
     "name": "stdout",
     "output_type": "stream",
     "text": [
      "                                Breakdowns  TIME  Value\n",
      "10  Households living in large urban areas  2007  51.64\n",
      "11  Households living in large urban areas  2009  63.58\n",
      "12  Households living in large urban areas  2010  68.13\n",
      "13  Households living in large urban areas  2011  68.32\n",
      "14  Households living in large urban areas  2012  72.50\n",
      "15  Households living in large urban areas  2013  72.55\n",
      "16  Households living in large urban areas  2015  73.29\n",
      "17  Households living in large urban areas  2017  77.15\n",
      "18  Households living in large urban areas  2019  78.72\n",
      "19  Households living in large urban areas  2021  83.52\n",
      "Esta es la media de Estados Unidos de Households living in large urban areas: 70.94\n"
     ]
    }
   ],
   "source": [
    "# Households living in large urban areas\n",
    "us_large=us.loc[us['Breakdowns']=='Households living in large urban areas']\n",
    "print(us_large)\n",
    "\n",
    "# media\n",
    "us_media_large=us_large['Value'].mean()\n",
    "print(f'Esta es la media de Estados Unidos de Households living in large urban areas: {us_media_large}')"
   ]
  },
  {
   "cell_type": "code",
   "execution_count": 186,
   "metadata": {},
   "outputs": [
    {
     "name": "stdout",
     "output_type": "stream",
     "text": [
      "                          Breakdowns  TIME  Value\n",
      "20  Households living in rural areas  2007  36.43\n",
      "21  Households living in rural areas  2009  51.26\n",
      "22  Households living in rural areas  2010  57.24\n",
      "23  Households living in rural areas  2011  57.55\n",
      "24  Households living in rural areas  2012  63.49\n",
      "25  Households living in rural areas  2013  62.76\n",
      "26  Households living in rural areas  2015  64.29\n",
      "27  Households living in rural areas  2017  69.74\n",
      "28  Households living in rural areas  2019  72.72\n",
      "29  Households living in rural areas  2021  79.76\n",
      "Esta es la media de Estados Unidos de Households living in rural areas: 61.524\n"
     ]
    }
   ],
   "source": [
    "# Households living in rural areas\n",
    "us_rural=us.loc[us['Breakdowns']=='Households living in rural areas']\n",
    "print(us_rural)\n",
    "\n",
    "# media\n",
    "us_media_rural=us_rural['Value'].mean()\n",
    "print(f'Esta es la media de Estados Unidos de Households living in rural areas: {us_media_rural}')"
   ]
  },
  {
   "cell_type": "code",
   "execution_count": 187,
   "metadata": {},
   "outputs": [
    {
     "name": "stdout",
     "output_type": "stream",
     "text": [
      "                                  Breakdowns  TIME      Value\n",
      "0                           All (households)  2008  10.400000\n",
      "1                           All (households)  2009  17.000000\n",
      "2                           All (households)  2010  20.800000\n",
      "3                           All (households)  2011  30.200000\n",
      "4                           All (households)  2012  33.600000\n",
      "..                                       ...   ...        ...\n",
      "85  Households with income in third quartile  2015  59.300000\n",
      "86  Households with income in third quartile  2016  65.200000\n",
      "87  Households with income in third quartile  2017  71.900000\n",
      "88  Households with income in third quartile  2018  77.628601\n",
      "89  Households with income in third quartile  2019  78.600000\n",
      "\n",
      "[90 rows x 3 columns]\n"
     ]
    }
   ],
   "source": [
    "# Brasil\n",
    "brasil=intento.loc['BRA']\n",
    "brasil=brasil.reset_index()\n",
    "print(brasil)"
   ]
  },
  {
   "cell_type": "code",
   "execution_count": 188,
   "metadata": {},
   "outputs": [
    {
     "name": "stdout",
     "output_type": "stream",
     "text": [
      "          Breakdowns  TIME     Value\n",
      "0   All (households)  2008  10.40000\n",
      "1   All (households)  2009  17.00000\n",
      "2   All (households)  2010  20.80000\n",
      "3   All (households)  2011  30.20000\n",
      "4   All (households)  2012  33.60000\n",
      "5   All (households)  2013  36.80000\n",
      "6   All (households)  2014  45.40000\n",
      "7   All (households)  2015  44.30000\n",
      "8   All (households)  2016  48.10000\n",
      "9   All (households)  2017  53.80000\n",
      "10  All (households)  2018  59.32528\n",
      "11  All (households)  2019  63.00000\n",
      "12  All (households)  2020  75.61000\n",
      "13  All (households)  2021  71.76000\n",
      "Esta es la media de Brasil de All (households): 43.57823425\n"
     ]
    }
   ],
   "source": [
    "# all (households)\n",
    "brasil_all=brasil.loc[brasil['Breakdowns']=='All (households)']\n",
    "print(brasil_all)\n",
    "\n",
    "# media\n",
    "brasil_media=brasil_all['Value'].mean()\n",
    "print(f'Esta es la media de Brasil de All (households): {brasil_media}')"
   ]
  },
  {
   "cell_type": "code",
   "execution_count": 189,
   "metadata": {},
   "outputs": [
    {
     "name": "stdout",
     "output_type": "stream",
     "text": [
      "                                  Breakdowns  TIME      Value\n",
      "42  Households with income in first quartile  2008   0.400000\n",
      "43  Households with income in first quartile  2009   1.700000\n",
      "44  Households with income in first quartile  2010   2.400000\n",
      "45  Households with income in first quartile  2011   4.500000\n",
      "46  Households with income in first quartile  2012   5.500000\n",
      "47  Households with income in first quartile  2013   9.100000\n",
      "48  Households with income in first quartile  2014  14.700000\n",
      "49  Households with income in first quartile  2015  19.300000\n",
      "50  Households with income in first quartile  2016  24.800000\n",
      "51  Households with income in first quartile  2017  31.400000\n",
      "52  Households with income in first quartile  2018  38.735617\n",
      "53  Households with income in first quartile  2019  46.100000\n",
      "Esta es la media de Brasil de Households with income in first quartile: 16.552968055\n"
     ]
    }
   ],
   "source": [
    "# Households with income in the first quartile\n",
    "brasil_first=brasil.loc[brasil['Breakdowns']=='Households with income in first quartile']\n",
    "print(brasil_first)\n",
    "\n",
    "# media\n",
    "brasil_media_first=brasil_first['Value'].mean()\n",
    "print(f'Esta es la media de Brasil de Households with income in first quartile: {brasil_media_first}')"
   ]
  },
  {
   "cell_type": "code",
   "execution_count": 190,
   "metadata": {},
   "outputs": [
    {
     "name": "stdout",
     "output_type": "stream",
     "text": [
      "                                   Breakdowns  TIME      Value\n",
      "66  Households with income in second quartile  2008   2.200000\n",
      "67  Households with income in second quartile  2009   6.800000\n",
      "68  Households with income in second quartile  2010   9.300000\n",
      "69  Households with income in second quartile  2011  15.400000\n",
      "70  Households with income in second quartile  2012  18.000000\n",
      "71  Households with income in second quartile  2013  21.600000\n",
      "72  Households with income in second quartile  2014  33.600000\n",
      "73  Households with income in second quartile  2015  32.000000\n",
      "74  Households with income in second quartile  2016  40.400000\n",
      "75  Households with income in second quartile  2017  49.800000\n",
      "76  Households with income in second quartile  2018  58.077841\n",
      "77  Households with income in second quartile  2019  60.900000\n",
      "Esta es la media de Brasil de Households with income in second quartile: 29.006486784999993\n"
     ]
    }
   ],
   "source": [
    "# Households with income in the second quartile\n",
    "brasil_second=brasil.loc[brasil['Breakdowns']=='Households with income in second quartile']\n",
    "print(brasil_second)\n",
    "\n",
    "# media\n",
    "brasil_media_second=brasil_second['Value'].mean()\n",
    "print(f'Esta es la media de Brasil de Households with income in second quartile: {brasil_media_second}')"
   ]
  },
  {
   "cell_type": "code",
   "execution_count": 191,
   "metadata": {},
   "outputs": [
    {
     "name": "stdout",
     "output_type": "stream",
     "text": [
      "                                  Breakdowns  TIME      Value\n",
      "78  Households with income in third quartile  2008  13.600000\n",
      "79  Households with income in third quartile  2009  24.300000\n",
      "80  Households with income in third quartile  2010  28.600000\n",
      "81  Households with income in third quartile  2011  36.900000\n",
      "82  Households with income in third quartile  2012  48.500000\n",
      "83  Households with income in third quartile  2013  49.700000\n",
      "84  Households with income in third quartile  2014  60.600000\n",
      "85  Households with income in third quartile  2015  59.300000\n",
      "86  Households with income in third quartile  2016  65.200000\n",
      "87  Households with income in third quartile  2017  71.900000\n",
      "88  Households with income in third quartile  2018  77.628601\n",
      "89  Households with income in third quartile  2019  78.600000\n",
      "Esta es la media de Brasil de Households with income in third quartile: 51.23571674083334\n"
     ]
    }
   ],
   "source": [
    "# Households with income in the third quartile\n",
    "brasil_third=brasil.loc[brasil['Breakdowns']=='Households with income in third quartile']\n",
    "print(brasil_third)\n",
    "\n",
    "# media\n",
    "brasil_media_third=brasil_third['Value'].mean()\n",
    "print(f'Esta es la media de Brasil de Households with income in third quartile: {brasil_media_third}')"
   ]
  },
  {
   "cell_type": "code",
   "execution_count": 192,
   "metadata": {},
   "outputs": [
    {
     "name": "stdout",
     "output_type": "stream",
     "text": [
      "                                   Breakdowns  TIME      Value\n",
      "54  Households with income in fourth quartile  2008  42.800000\n",
      "55  Households with income in fourth quartile  2009  55.700000\n",
      "56  Households with income in fourth quartile  2010  62.300000\n",
      "57  Households with income in fourth quartile  2011  71.200000\n",
      "58  Households with income in fourth quartile  2012  77.500000\n",
      "59  Households with income in fourth quartile  2013  78.300000\n",
      "60  Households with income in fourth quartile  2014  86.000000\n",
      "61  Households with income in fourth quartile  2015  84.500000\n",
      "62  Households with income in fourth quartile  2016  85.800000\n",
      "63  Households with income in fourth quartile  2017  85.900000\n",
      "64  Households with income in fourth quartile  2018  88.291132\n",
      "65  Households with income in fourth quartile  2019  89.300000\n",
      "Esta es la media de Brasil de Households with income in fourth quartile: 75.63259433499998\n"
     ]
    }
   ],
   "source": [
    "# Households with income in the fourth quartile\n",
    "brasil_fourth=brasil.loc[brasil['Breakdowns']=='Households with income in fourth quartile']\n",
    "print(brasil_fourth)\n",
    "\n",
    "# media\n",
    "brasil_media_fourth=brasil_fourth['Value'].mean()\n",
    "print(f'Esta es la media de Brasil de Households with income in fourth quartile: {brasil_media_fourth}')"
   ]
  },
  {
   "cell_type": "code",
   "execution_count": 193,
   "metadata": {},
   "outputs": [
    {
     "name": "stdout",
     "output_type": "stream",
     "text": [
      "                                Breakdowns  TIME      Value\n",
      "14  Households living in large urban areas  2008  12.000000\n",
      "15  Households living in large urban areas  2009  19.500000\n",
      "16  Households living in large urban areas  2010  23.900000\n",
      "17  Households living in large urban areas  2011  33.900000\n",
      "18  Households living in large urban areas  2012  37.600000\n",
      "19  Households living in large urban areas  2013  40.700000\n",
      "20  Households living in large urban areas  2014  49.500000\n",
      "21  Households living in large urban areas  2015  48.500000\n",
      "22  Households living in large urban areas  2016  52.700000\n",
      "23  Households living in large urban areas  2017  57.900000\n",
      "24  Households living in large urban areas  2018  62.792358\n",
      "25  Households living in large urban areas  2019  66.300000\n",
      "26  Households living in large urban areas  2020  78.570000\n",
      "27  Households living in large urban areas  2021  74.190000\n",
      "Esta es la media de Brasil de Households living in large urban areas: 47.003739835\n"
     ]
    }
   ],
   "source": [
    "# Households living in large urban areas\n",
    "brasil_large=brasil.loc[brasil['Breakdowns']=='Households living in large urban areas']\n",
    "print(brasil_large)\n",
    "\n",
    "# media\n",
    "brasil_media_large=brasil_large['Value'].mean()\n",
    "print(f'Esta es la media de Brasil de Households living in large urban areas: {brasil_media_large}')"
   ]
  },
  {
   "cell_type": "code",
   "execution_count": 194,
   "metadata": {},
   "outputs": [
    {
     "name": "stdout",
     "output_type": "stream",
     "text": [
      "                          Breakdowns  TIME      Value\n",
      "28  Households living in rural areas  2008   2.300000\n",
      "29  Households living in rural areas  2009   4.000000\n",
      "30  Households living in rural areas  2010   4.300000\n",
      "31  Households living in rural areas  2011   6.900000\n",
      "32  Households living in rural areas  2012   8.700000\n",
      "33  Households living in rural areas  2013  12.700000\n",
      "34  Households living in rural areas  2014  20.700000\n",
      "35  Households living in rural areas  2015  17.000000\n",
      "36  Households living in rural areas  2016  20.500000\n",
      "37  Households living in rural areas  2017  28.200000\n",
      "38  Households living in rural areas  2018  36.983959\n",
      "39  Households living in rural areas  2019  41.600000\n",
      "40  Households living in rural areas  2020  55.510000\n",
      "41  Households living in rural areas  2021  55.570000\n",
      "Esta es la media de Brasil de Households living in rural areas: 22.49742565\n"
     ]
    }
   ],
   "source": [
    "# Households living in rural areas\n",
    "brasil_rural=brasil.loc[brasil['Breakdowns']=='Households living in rural areas']\n",
    "print(brasil_rural)\n",
    "\n",
    "# media\n",
    "brasil_media_rural=brasil_rural['Value'].mean()\n",
    "print(f'Esta es la media de Brasil de Households living in rural areas: {brasil_media_rural}')"
   ]
  },
  {
   "attachments": {},
   "cell_type": "markdown",
   "metadata": {},
   "source": [
    "#### AGRUPACIONES\n"
   ]
  },
  {
   "cell_type": "code",
   "execution_count": 195,
   "metadata": {},
   "outputs": [
    {
     "name": "stdout",
     "output_type": "stream",
     "text": [
      "Esta es la media de Europa Central de All (households): 65.10250882352942\n"
     ]
    }
   ],
   "source": [
    "# media all housEholds DE EUROPA CENTRAL DE HUNGRIA, POLONOA, ESLOVAQUIA,REPUBLICA CHECA, AUSTRIA, ALEMANIA\n",
    "media_europa_central=(hungria_media+polonia_media+eslovaquia_media+republica_media+austria_media+alemania_media)/6\n",
    "print(f'Esta es la media de Europa Central de All (households): {media_europa_central}')"
   ]
  },
  {
   "cell_type": "code",
   "execution_count": 196,
   "metadata": {},
   "outputs": [
    {
     "name": "stdout",
     "output_type": "stream",
     "text": [
      "Esta es la media de la media de Asia: 97.37762674764706\n"
     ]
    }
   ],
   "source": [
    "# Media All households de la media de Asia de Corea\n",
    "media_asia=(corea_media)\n",
    "print(f'Esta es la media de la media de Asia: {media_asia}')\n"
   ]
  },
  {
   "cell_type": "code",
   "execution_count": 197,
   "metadata": {},
   "outputs": [
    {
     "name": "stdout",
     "output_type": "stream",
     "text": [
      "Esta es la media de la media de los balticos: 63.69255098039215\n"
     ]
    }
   ],
   "source": [
    "# # Media All households de la media de los balticos de Estonia, Letonia y Lituania\n",
    "media_balticos=(estonia_media+letonia_media+lituania_media)/3\n",
    "print(f'Esta es la media de la media de los balticos: {media_balticos}')"
   ]
  },
  {
   "cell_type": "code",
   "execution_count": 198,
   "metadata": {},
   "outputs": [
    {
     "name": "stdout",
     "output_type": "stream",
     "text": [
      "Esta es la media de la media de Benelux: 78.4822705882353\n"
     ]
    }
   ],
   "source": [
    "# MEDIA ALL HOUSEHOLD DE BENELOUX DE BELGICA, HOLANDA Y LUXEMBURGO\n",
    "media_benelux=(belgica_media+holanda_media+luxemburgo_media)/3\n",
    "print(f'Esta es la media de la media de Benelux: {media_benelux}')"
   ]
  },
  {
   "cell_type": "code",
   "execution_count": 199,
   "metadata": {},
   "outputs": [
    {
     "name": "stdout",
     "output_type": "stream",
     "text": [
      "Esta es la media de la media de Iberia: 64.71752627450981\n"
     ]
    }
   ],
   "source": [
    "# MEDIA ALL HOUSEHOLD DE IBERIA DE ESPAÑA Y PORTUGAL, FRANCIA\n",
    "media_iberia=(espana_media+portugal_media+francia_media)/3\n",
    "print(f'Esta es la media de la media de Iberia: {media_iberia}')"
   ]
  },
  {
   "cell_type": "code",
   "execution_count": 200,
   "metadata": {},
   "outputs": [
    {
     "name": "stdout",
     "output_type": "stream",
     "text": [
      "Esta es la media de la media de los paises nórdicos: 82.58788685294118\n"
     ]
    }
   ],
   "source": [
    "# media de all housefold de los paises nórdicos de Suecia, Noruega, Dinamarca, Finlandia, Islandia\n",
    "media_nordicos=(suecia_media+noruega_media+dinamarca_media+finlandia_media+islandia_media)/5\n",
    "print(f'Esta es la media de la media de los paises nórdicos: {media_nordicos}')"
   ]
  },
  {
   "cell_type": "code",
   "execution_count": 201,
   "metadata": {},
   "outputs": [
    {
     "name": "stdout",
     "output_type": "stream",
     "text": [
      "Esta es la media de la media de Estados Unidos: 71.20599999999999\n"
     ]
    }
   ],
   "source": [
    "# media de all household de estados unidos\n",
    "media_norteamerica=(us_media)\n",
    "print(f'Esta es la media de la media de Estados Unidos: {media_norteamerica}')"
   ]
  },
  {
   "cell_type": "code",
   "execution_count": 202,
   "metadata": {},
   "outputs": [
    {
     "name": "stdout",
     "output_type": "stream",
     "text": [
      "Esta es la media de la media de Sudamerica: 50.969014861874996\n"
     ]
    }
   ],
   "source": [
    "# media de all household de brasil, chile\n",
    "media_sudamerica=(brasil_media+chile_media)/2\n",
    "print(f'Esta es la media de la media de Sudamerica: {media_sudamerica}')"
   ]
  },
  {
   "attachments": {},
   "cell_type": "markdown",
   "metadata": {},
   "source": [
    "# no hay colombia, corea"
   ]
  },
  {
   "attachments": {},
   "cell_type": "markdown",
   "metadata": {},
   "source": [
    "### RECTA"
   ]
  },
  {
   "cell_type": "code",
   "execution_count": 203,
   "metadata": {},
   "outputs": [
    {
     "data": {
      "text/plain": [
       "Text(0, 0.5, 'Media de All (households)')"
      ]
     },
     "execution_count": 203,
     "metadata": {},
     "output_type": "execute_result"
    },
    {
     "data": {
      "image/png": "[encoded data removed]",
      "text/plain": [
       "<Figure size 640x480 with 1 Axes>"
      ]
     },
     "metadata": {},
     "output_type": "display_data"
    }
   ],
   "source": [
    "agrupaciones=['Europa Central','Asia','Balticos','Benelux','Iberia','Paises Nórdicos','Norteamérica','Sudamérica']\n",
    "medias=[media_europa_central,media_asia,media_balticos,media_benelux,media_iberia,media_nordicos,media_norteamerica,media_sudamerica]\n",
    "plt.bar(agrupaciones,medias, color='lightblue', edgecolor='black')\n",
    "plt.title('MEDIA DE ALL (HOUSEHOLDS) POR AGRUPACIÓN DE PAÍSES', fontsize=15, color='black')\n",
    "plt.xlabel('Agrupación de países', fontsize=10, color='black')\n",
    "# cambiar el tamaño de la letra de los ejes\n",
    "plt.xticks(rotation=90,fontsize=8)\n",
    "plt.ylabel('Media de All (households)')"
   ]
  },
  {
   "cell_type": "code",
   "execution_count": 208,
   "metadata": {},
   "outputs": [
    {
     "data": {
      "image/png": "[encoded data removed]",
      "text/plain": [
       "<Figure size 640x480 with 1 Axes>"
      ]
     },
     "metadata": {},
     "output_type": "display_data"
    }
   ],
   "source": [
    "# diagrama de sectores de la media de all households por agrupación de países\n",
    "plt.pie(medias, labels=agrupaciones, autopct='%1.1f%%', shadow=True, startangle=90)\n",
    "plt.axis('equal')\n",
    "plt.title('MEDIA DE ALL (HOUSEHOLDS) POR AGRUPACIÓN DE PAÍSES (ANCHO DE BANDA)', fontsize=10, color='black', fontweight='bold')\n",
    "plt.show()\n"
   ]
  }
 ],
 "metadata": {
  "kernelspec": {
   "display_name": "Python 3",
   "language": "python",
   "name": "python3"
  },
  "language_info": {
   "codemirror_mode": {
    "name": "ipython",
    "version": 3
   },
   "file_extension": ".py",
   "mimetype": "text/x-python",
   "name": "python",
   "nbconvert_exporter": "python",
   "pygments_lexer": "ipython3",
   "version": "3.10.8"
  },
  "orig_nbformat": 4
 },
 "nbformat": 4,
 "nbformat_minor": 2
}
